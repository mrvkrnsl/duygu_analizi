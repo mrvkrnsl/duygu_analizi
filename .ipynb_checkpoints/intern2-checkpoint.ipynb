{
 "cells": [
  {
   "cell_type": "markdown",
   "id": "33d99f70",
   "metadata": {},
   "source": [
    "# Haber Tweetlerinin Duygu Analizi Ve Sınıflandırma"
   ]
  },
  {
   "cell_type": "code",
   "execution_count": 200,
   "id": "d9ac5b43",
   "metadata": {
    "scrolled": true
   },
   "outputs": [],
   "source": [
    "import string  \n",
    "import numpy as np\n",
    "import pandas as pd\n",
    "import tensorflow as tf\n",
    "from tensorflow import keras\n",
    "from tensorflow.keras.preprocessing.text import Tokenizer\n",
    "from sklearn.model_selection import train_test_split\n",
    "from tensorflow.keras.preprocessing.sequence import pad_sequences\n",
    "from sklearn import preprocessing \n",
    "import re"
   ]
  },
  {
   "cell_type": "code",
   "execution_count": null,
   "id": "088ee031",
   "metadata": {},
   "outputs": [],
   "source": []
  },
  {
   "cell_type": "code",
   "execution_count": 201,
   "id": "93b35e55",
   "metadata": {},
   "outputs": [],
   "source": [
    "# veri seti okumasi\n",
    "data=pd.read_csv(\"dataset.csv\")"
   ]
  },
  {
   "cell_type": "code",
   "execution_count": 202,
   "id": "b9d6d8cb",
   "metadata": {},
   "outputs": [
    {
     "data": {
      "text/plain": [
       "Unnamed: 0       2716\n",
       "hour             2716\n",
       "tweet            2716\n",
       "Tweets_duygu     2716\n",
       "sınıflandırma    2716\n",
       "dtype: int64"
      ]
     },
     "execution_count": 202,
     "metadata": {},
     "output_type": "execute_result"
    }
   ],
   "source": [
    "# kac tane veri var\n",
    "data.count()"
   ]
  },
  {
   "cell_type": "code",
   "execution_count": 203,
   "id": "daaeb7be",
   "metadata": {},
   "outputs": [
    {
     "data": {
      "text/html": [
       "<div>\n",
       "<style scoped>\n",
       "    .dataframe tbody tr th:only-of-type {\n",
       "        vertical-align: middle;\n",
       "    }\n",
       "\n",
       "    .dataframe tbody tr th {\n",
       "        vertical-align: top;\n",
       "    }\n",
       "\n",
       "    .dataframe thead th {\n",
       "        text-align: right;\n",
       "    }\n",
       "</style>\n",
       "<table border=\"1\" class=\"dataframe\">\n",
       "  <thead>\n",
       "    <tr style=\"text-align: right;\">\n",
       "      <th></th>\n",
       "      <th>Unnamed: 0</th>\n",
       "      <th>hour</th>\n",
       "      <th>tweet</th>\n",
       "      <th>Tweets_duygu</th>\n",
       "      <th>sınıflandırma</th>\n",
       "    </tr>\n",
       "  </thead>\n",
       "  <tbody>\n",
       "    <tr>\n",
       "      <th>0</th>\n",
       "      <td>0</td>\n",
       "      <td>9</td>\n",
       "      <td>Ali Koçtan Şike Kumpası Davasında verilen ceza...</td>\n",
       "      <td>negatif</td>\n",
       "      <td>spor</td>\n",
       "    </tr>\n",
       "    <tr>\n",
       "      <th>1</th>\n",
       "      <td>1</td>\n",
       "      <td>8</td>\n",
       "      <td>Abdulkadir Selvi Venezuelaya giden CHPli mille...</td>\n",
       "      <td>negatif</td>\n",
       "      <td>siyaset</td>\n",
       "    </tr>\n",
       "    <tr>\n",
       "      <th>2</th>\n",
       "      <td>2</td>\n",
       "      <td>8</td>\n",
       "      <td>Futbolda şike soruşturmasını ilk başlatan poli...</td>\n",
       "      <td>negatif</td>\n",
       "      <td>spor</td>\n",
       "    </tr>\n",
       "    <tr>\n",
       "      <th>3</th>\n",
       "      <td>3</td>\n",
       "      <td>8</td>\n",
       "      <td>SONDAKİKA Futbolda şike kumpası davası Hidayet...</td>\n",
       "      <td>negatif</td>\n",
       "      <td>spor</td>\n",
       "    </tr>\n",
       "    <tr>\n",
       "      <th>4</th>\n",
       "      <td>4</td>\n",
       "      <td>6</td>\n",
       "      <td>AKPde bir istifa kararı daha</td>\n",
       "      <td>negatif</td>\n",
       "      <td>siyaset</td>\n",
       "    </tr>\n",
       "    <tr>\n",
       "      <th>5</th>\n",
       "      <td>5</td>\n",
       "      <td>6</td>\n",
       "      <td>CHPli Tanrıkulu  Yargıtay Mehmet Ağar hakkında...</td>\n",
       "      <td>negatif</td>\n",
       "      <td>siyaset</td>\n",
       "    </tr>\n",
       "    <tr>\n",
       "      <th>6</th>\n",
       "      <td>6</td>\n",
       "      <td>6</td>\n",
       "      <td>Bahçeli Erdoğanın  yıllık dostunu FETÖcü ilan ...</td>\n",
       "      <td>negatif</td>\n",
       "      <td>siyaset</td>\n",
       "    </tr>\n",
       "    <tr>\n",
       "      <th>7</th>\n",
       "      <td>7</td>\n",
       "      <td>6</td>\n",
       "      <td>Ünlü sunucu  Ezgi Avcının tatil pozları mest e...</td>\n",
       "      <td>pozitif</td>\n",
       "      <td>saglik</td>\n",
       "    </tr>\n",
       "    <tr>\n",
       "      <th>8</th>\n",
       "      <td>8</td>\n",
       "      <td>6</td>\n",
       "      <td>Ahmet Takan  Siyaset sahnesindeki racon kesmel...</td>\n",
       "      <td>negatif</td>\n",
       "      <td>siyaset</td>\n",
       "    </tr>\n",
       "    <tr>\n",
       "      <th>9</th>\n",
       "      <td>9</td>\n",
       "      <td>6</td>\n",
       "      <td>Kılıçdaroğlundan Saraya yanıt Trolleri Kılıçda...</td>\n",
       "      <td>negatif</td>\n",
       "      <td>siyaset</td>\n",
       "    </tr>\n",
       "  </tbody>\n",
       "</table>\n",
       "</div>"
      ],
      "text/plain": [
       "   Unnamed: 0  hour                                              tweet  \\\n",
       "0           0     9  Ali Koçtan Şike Kumpası Davasında verilen ceza...   \n",
       "1           1     8  Abdulkadir Selvi Venezuelaya giden CHPli mille...   \n",
       "2           2     8  Futbolda şike soruşturmasını ilk başlatan poli...   \n",
       "3           3     8  SONDAKİKA Futbolda şike kumpası davası Hidayet...   \n",
       "4           4     6                     AKPde bir istifa kararı daha     \n",
       "5           5     6  CHPli Tanrıkulu  Yargıtay Mehmet Ağar hakkında...   \n",
       "6           6     6  Bahçeli Erdoğanın  yıllık dostunu FETÖcü ilan ...   \n",
       "7           7     6  Ünlü sunucu  Ezgi Avcının tatil pozları mest e...   \n",
       "8           8     6  Ahmet Takan  Siyaset sahnesindeki racon kesmel...   \n",
       "9           9     6  Kılıçdaroğlundan Saraya yanıt Trolleri Kılıçda...   \n",
       "\n",
       "  Tweets_duygu sınıflandırma  \n",
       "0      negatif         spor   \n",
       "1      negatif      siyaset   \n",
       "2      negatif         spor   \n",
       "3      negatif         spor   \n",
       "4      negatif      siyaset   \n",
       "5      negatif      siyaset   \n",
       "6      negatif      siyaset   \n",
       "7      pozitif       saglik   \n",
       "8      negatif      siyaset   \n",
       "9      negatif      siyaset   "
      ]
     },
     "execution_count": 203,
     "metadata": {},
     "output_type": "execute_result"
    }
   ],
   "source": [
    "# ilk 10 veri gorunmesi\n",
    "data.head(10)"
   ]
  },
  {
   "cell_type": "code",
   "execution_count": 204,
   "id": "8b6ae502",
   "metadata": {
    "pycharm": {
     "name": "#%%\n"
    }
   },
   "outputs": [
    {
     "data": {
      "text/plain": [
       "array(['negatif', 'pozitif'], dtype=object)"
      ]
     },
     "execution_count": 204,
     "metadata": {},
     "output_type": "execute_result"
    }
   ],
   "source": [
    "# Tweets_duygu\n",
    "data.Tweets_duygu.unique()"
   ]
  },
  {
   "cell_type": "code",
   "execution_count": 205,
   "id": "205d2d0a",
   "metadata": {},
   "outputs": [
    {
     "data": {
      "text/plain": [
       "array(['spor ', 'siyaset ', 'saglik ', 'kultur ', 'dunya ', 'ekonomi ',\n",
       "       'teknoloji '], dtype=object)"
      ]
     },
     "execution_count": 205,
     "metadata": {},
     "output_type": "execute_result"
    }
   ],
   "source": [
    "# hangi sinifa ait\n",
    "data.sınıflandırma.unique()"
   ]
  },
  {
   "cell_type": "code",
   "execution_count": 206,
   "id": "556d87a5",
   "metadata": {
    "pycharm": {
     "name": "#%%\n"
    }
   },
   "outputs": [
    {
     "data": {
      "text/plain": [
       "False"
      ]
     },
     "execution_count": 206,
     "metadata": {},
     "output_type": "execute_result"
    }
   ],
   "source": [
    "# nall veri var mi yok mu\n",
    "data.isnull().values.any()"
   ]
  },
  {
   "cell_type": "code",
   "execution_count": 207,
   "id": "9fdb3d76",
   "metadata": {},
   "outputs": [
    {
     "data": {
      "text/plain": [
       "Unnamed: 0       2716\n",
       "hour             2716\n",
       "tweet            2716\n",
       "Tweets_duygu     2716\n",
       "sınıflandırma    2716\n",
       "dtype: int64"
      ]
     },
     "execution_count": 207,
     "metadata": {},
     "output_type": "execute_result"
    }
   ],
   "source": [
    "data.isnull().count()"
   ]
  },
  {
   "cell_type": "code",
   "execution_count": 208,
   "id": "e4f6f456",
   "metadata": {},
   "outputs": [],
   "source": [
    "# nall verileri silome\n",
    "data=data.dropna()"
   ]
  },
  {
   "cell_type": "code",
   "execution_count": null,
   "id": "c7122229",
   "metadata": {},
   "outputs": [],
   "source": []
  },
  {
   "cell_type": "code",
   "execution_count": 209,
   "id": "f0f762a4",
   "metadata": {},
   "outputs": [
    {
     "data": {
      "text/plain": [
       "Unnamed: 0       2716\n",
       "hour             2716\n",
       "tweet            2716\n",
       "Tweets_duygu     2716\n",
       "sınıflandırma    2716\n",
       "dtype: int64"
      ]
     },
     "execution_count": 209,
     "metadata": {},
     "output_type": "execute_result"
    }
   ],
   "source": [
    "data.count()"
   ]
  },
  {
   "cell_type": "code",
   "execution_count": 210,
   "id": "c39aa792",
   "metadata": {},
   "outputs": [
    {
     "data": {
      "text/plain": [
       "False"
      ]
     },
     "execution_count": 210,
     "metadata": {},
     "output_type": "execute_result"
    }
   ],
   "source": [
    "# nallvar mi yok mu tekrar kontrol etmek\n",
    "data.isnull().values.any()"
   ]
  },
  {
   "cell_type": "code",
   "execution_count": 211,
   "id": "ec8c2987",
   "metadata": {},
   "outputs": [
    {
     "name": "stderr",
     "output_type": "stream",
     "text": [
      "C:\\Users\\USMAN KHALID\\AppData\\Local\\Temp\\ipykernel_20164\\3717164451.py:2: FutureWarning: The default value of regex will change from True to False in a future version.\n",
      "  data['tweet'] = data['tweet'].str.replace('\\d+', '')\n"
     ]
    }
   ],
   "source": [
    "# strip yapmk\n",
    "data['tweet'] = data['tweet'].str.replace('\\d+', '')\n",
    "data['tweet'] = data['tweet'].str.rstrip(string.digits)"
   ]
  },
  {
   "cell_type": "code",
   "execution_count": null,
   "id": "fe6d7a10",
   "metadata": {},
   "outputs": [],
   "source": [
    "\n"
   ]
  },
  {
   "cell_type": "code",
   "execution_count": null,
   "id": "4270288d",
   "metadata": {},
   "outputs": [],
   "source": []
  },
  {
   "cell_type": "code",
   "execution_count": null,
   "id": "a2e6ea54",
   "metadata": {},
   "outputs": [],
   "source": []
  },
  {
   "cell_type": "code",
   "execution_count": null,
   "id": "04043db4",
   "metadata": {
    "pycharm": {
     "name": "#%%\n"
    }
   },
   "outputs": [],
   "source": []
  },
  {
   "cell_type": "code",
   "execution_count": 212,
   "id": "266d7ff0",
   "metadata": {
    "pycharm": {
     "name": "#%%\n"
    }
   },
   "outputs": [
    {
     "data": {
      "text/html": [
       "<div>\n",
       "<style scoped>\n",
       "    .dataframe tbody tr th:only-of-type {\n",
       "        vertical-align: middle;\n",
       "    }\n",
       "\n",
       "    .dataframe tbody tr th {\n",
       "        vertical-align: top;\n",
       "    }\n",
       "\n",
       "    .dataframe thead th {\n",
       "        text-align: right;\n",
       "    }\n",
       "</style>\n",
       "<table border=\"1\" class=\"dataframe\">\n",
       "  <thead>\n",
       "    <tr style=\"text-align: right;\">\n",
       "      <th></th>\n",
       "      <th>Unnamed: 0</th>\n",
       "      <th>hour</th>\n",
       "      <th>tweet</th>\n",
       "      <th>Tweets_duygu</th>\n",
       "      <th>sınıflandırma</th>\n",
       "    </tr>\n",
       "  </thead>\n",
       "  <tbody>\n",
       "    <tr>\n",
       "      <th>0</th>\n",
       "      <td>0</td>\n",
       "      <td>9</td>\n",
       "      <td>Ali Koçtan Şike Kumpası Davasında verilen ceza...</td>\n",
       "      <td>negatif</td>\n",
       "      <td>spor</td>\n",
       "    </tr>\n",
       "    <tr>\n",
       "      <th>1</th>\n",
       "      <td>1</td>\n",
       "      <td>8</td>\n",
       "      <td>Abdulkadir Selvi Venezuelaya giden CHPli mille...</td>\n",
       "      <td>negatif</td>\n",
       "      <td>siyaset</td>\n",
       "    </tr>\n",
       "    <tr>\n",
       "      <th>2</th>\n",
       "      <td>2</td>\n",
       "      <td>8</td>\n",
       "      <td>Futbolda şike soruşturmasını ilk başlatan poli...</td>\n",
       "      <td>negatif</td>\n",
       "      <td>spor</td>\n",
       "    </tr>\n",
       "    <tr>\n",
       "      <th>3</th>\n",
       "      <td>3</td>\n",
       "      <td>8</td>\n",
       "      <td>SONDAKİKA Futbolda şike kumpası davası Hidayet...</td>\n",
       "      <td>negatif</td>\n",
       "      <td>spor</td>\n",
       "    </tr>\n",
       "    <tr>\n",
       "      <th>4</th>\n",
       "      <td>4</td>\n",
       "      <td>6</td>\n",
       "      <td>AKPde bir istifa kararı daha</td>\n",
       "      <td>negatif</td>\n",
       "      <td>siyaset</td>\n",
       "    </tr>\n",
       "  </tbody>\n",
       "</table>\n",
       "</div>"
      ],
      "text/plain": [
       "   Unnamed: 0  hour                                              tweet  \\\n",
       "0           0     9  Ali Koçtan Şike Kumpası Davasında verilen ceza...   \n",
       "1           1     8  Abdulkadir Selvi Venezuelaya giden CHPli mille...   \n",
       "2           2     8  Futbolda şike soruşturmasını ilk başlatan poli...   \n",
       "3           3     8  SONDAKİKA Futbolda şike kumpası davası Hidayet...   \n",
       "4           4     6                     AKPde bir istifa kararı daha     \n",
       "\n",
       "  Tweets_duygu sınıflandırma  \n",
       "0      negatif         spor   \n",
       "1      negatif      siyaset   \n",
       "2      negatif         spor   \n",
       "3      negatif         spor   \n",
       "4      negatif      siyaset   "
      ]
     },
     "execution_count": 212,
     "metadata": {},
     "output_type": "execute_result"
    }
   ],
   "source": [
    "data.head(5)"
   ]
  },
  {
   "cell_type": "code",
   "execution_count": null,
   "id": "d9d90d7b",
   "metadata": {
    "pycharm": {
     "name": "#%%\n"
    }
   },
   "outputs": [],
   "source": []
  },
  {
   "cell_type": "code",
   "execution_count": 213,
   "id": "5e482258",
   "metadata": {},
   "outputs": [],
   "source": [
    "# encoder\n",
    "label_encoder =preprocessing .LabelEncoder()"
   ]
  },
  {
   "cell_type": "code",
   "execution_count": 214,
   "id": "15459642",
   "metadata": {},
   "outputs": [],
   "source": [
    "# fit transform yapmak\n",
    "data['Tweets_duygu']= label_encoder.fit_transform(data['Tweets_duygu'])\n",
    "data['sınıflandırma']= label_encoder.fit_transform(data['sınıflandırma'])"
   ]
  },
  {
   "cell_type": "code",
   "execution_count": 215,
   "id": "5dee751f",
   "metadata": {},
   "outputs": [
    {
     "data": {
      "text/plain": [
       "array([0, 1])"
      ]
     },
     "execution_count": 215,
     "metadata": {},
     "output_type": "execute_result"
    }
   ],
   "source": [
    "data.Tweets_duygu.unique()\n",
    "\n"
   ]
  },
  {
   "cell_type": "code",
   "execution_count": 216,
   "id": "d037bc70",
   "metadata": {},
   "outputs": [
    {
     "data": {
      "text/plain": [
       "array([5, 4, 3, 2, 0, 1, 6])"
      ]
     },
     "execution_count": 216,
     "metadata": {},
     "output_type": "execute_result"
    }
   ],
   "source": [
    "data.sınıflandırma.unique()"
   ]
  },
  {
   "cell_type": "code",
   "execution_count": 217,
   "id": "5395f23c",
   "metadata": {},
   "outputs": [
    {
     "data": {
      "text/html": [
       "<div>\n",
       "<style scoped>\n",
       "    .dataframe tbody tr th:only-of-type {\n",
       "        vertical-align: middle;\n",
       "    }\n",
       "\n",
       "    .dataframe tbody tr th {\n",
       "        vertical-align: top;\n",
       "    }\n",
       "\n",
       "    .dataframe thead th {\n",
       "        text-align: right;\n",
       "    }\n",
       "</style>\n",
       "<table border=\"1\" class=\"dataframe\">\n",
       "  <thead>\n",
       "    <tr style=\"text-align: right;\">\n",
       "      <th></th>\n",
       "      <th>Unnamed: 0</th>\n",
       "      <th>hour</th>\n",
       "      <th>tweet</th>\n",
       "      <th>Tweets_duygu</th>\n",
       "      <th>sınıflandırma</th>\n",
       "    </tr>\n",
       "  </thead>\n",
       "  <tbody>\n",
       "    <tr>\n",
       "      <th>0</th>\n",
       "      <td>0</td>\n",
       "      <td>9</td>\n",
       "      <td>Ali Koçtan Şike Kumpası Davasında verilen ceza...</td>\n",
       "      <td>0</td>\n",
       "      <td>5</td>\n",
       "    </tr>\n",
       "    <tr>\n",
       "      <th>1</th>\n",
       "      <td>1</td>\n",
       "      <td>8</td>\n",
       "      <td>Abdulkadir Selvi Venezuelaya giden CHPli mille...</td>\n",
       "      <td>0</td>\n",
       "      <td>4</td>\n",
       "    </tr>\n",
       "    <tr>\n",
       "      <th>2</th>\n",
       "      <td>2</td>\n",
       "      <td>8</td>\n",
       "      <td>Futbolda şike soruşturmasını ilk başlatan poli...</td>\n",
       "      <td>0</td>\n",
       "      <td>5</td>\n",
       "    </tr>\n",
       "    <tr>\n",
       "      <th>3</th>\n",
       "      <td>3</td>\n",
       "      <td>8</td>\n",
       "      <td>SONDAKİKA Futbolda şike kumpası davası Hidayet...</td>\n",
       "      <td>0</td>\n",
       "      <td>5</td>\n",
       "    </tr>\n",
       "    <tr>\n",
       "      <th>4</th>\n",
       "      <td>4</td>\n",
       "      <td>6</td>\n",
       "      <td>AKPde bir istifa kararı daha</td>\n",
       "      <td>0</td>\n",
       "      <td>4</td>\n",
       "    </tr>\n",
       "  </tbody>\n",
       "</table>\n",
       "</div>"
      ],
      "text/plain": [
       "   Unnamed: 0  hour                                              tweet  \\\n",
       "0           0     9  Ali Koçtan Şike Kumpası Davasında verilen ceza...   \n",
       "1           1     8  Abdulkadir Selvi Venezuelaya giden CHPli mille...   \n",
       "2           2     8  Futbolda şike soruşturmasını ilk başlatan poli...   \n",
       "3           3     8  SONDAKİKA Futbolda şike kumpası davası Hidayet...   \n",
       "4           4     6                     AKPde bir istifa kararı daha     \n",
       "\n",
       "   Tweets_duygu  sınıflandırma  \n",
       "0             0              5  \n",
       "1             0              4  \n",
       "2             0              5  \n",
       "3             0              5  \n",
       "4             0              4  "
      ]
     },
     "execution_count": 217,
     "metadata": {},
     "output_type": "execute_result"
    }
   ],
   "source": [
    "# tekrar inceleme\n",
    "data.head(5)"
   ]
  },
  {
   "cell_type": "code",
   "execution_count": null,
   "id": "203af802",
   "metadata": {},
   "outputs": [],
   "source": []
  },
  {
   "cell_type": "code",
   "execution_count": 218,
   "id": "744fdd3c",
   "metadata": {
    "pycharm": {
     "name": "#%%\n"
    }
   },
   "outputs": [],
   "source": [
    "# float filan var mi\n",
    "for x in data.tweet:\n",
    "    if type(x)==float:\n",
    "        print(x)"
   ]
  },
  {
   "cell_type": "code",
   "execution_count": 219,
   "id": "5f57740a",
   "metadata": {
    "pycharm": {
     "name": "#%%\n"
    }
   },
   "outputs": [],
   "source": [
    "# X=veri seti lowercase yapma\n",
    "X=[str(x.lower()) for x in data.tweet]\n",
    "y1=data.Tweets_duygu\n",
    "y2=data.sınıflandırma"
   ]
  },
  {
   "cell_type": "code",
   "execution_count": 220,
   "id": "c5720da8",
   "metadata": {},
   "outputs": [
    {
     "name": "stdout",
     "output_type": "stream",
     "text": [
      "2716\n",
      "2716\n",
      "2716\n"
     ]
    }
   ],
   "source": [
    "print(len(X))\n",
    "print(len(y1))\n",
    "print(len(y2))"
   ]
  },
  {
   "cell_type": "code",
   "execution_count": 221,
   "id": "1ef60287",
   "metadata": {
    "pycharm": {
     "name": "#%%\n"
    }
   },
   "outputs": [
    {
     "data": {
      "text/plain": [
       "['ali koçtan şike kumpası davasında verilen cezalara ilişkin ilk açıklama  ',\n",
       " 'abdulkadir selvi venezuelaya giden chpli milletvekili konuşmalı  ',\n",
       " 'futbolda şike soruşturmasını ilk başlatan polis ahmet kalendere en az  yıl hapis cezası verildi  ',\n",
       " 'sondaki̇ka futbolda şike kumpası davası hidayet karacaya  yıl hapis cezası  ',\n",
       " 'akpde bir istifa kararı daha  ',\n",
       " 'chpli tanrıkulu  yargıtay mehmet ağar hakkında infaz edilmiş cezayı kaldırdı  ',\n",
       " 'bahçeli erdoğanın  yıllık dostunu fetöcü ilan etti i̇ttifak dağılıyor mu  ',\n",
       " 'ünlü sunucu  ezgi avcının tatil pozları mest etti  ',\n",
       " 'ahmet takan  siyaset sahnesindeki racon kesmelere esaslı bir şamar indirdi  ',\n",
       " 'kılıçdaroğlundan saraya yanıt trolleri kılıçdaroğlu yapmıştır derken  ']"
      ]
     },
     "execution_count": 221,
     "metadata": {},
     "output_type": "execute_result"
    }
   ],
   "source": [
    "X[:10]"
   ]
  },
  {
   "cell_type": "code",
   "execution_count": 222,
   "id": "06bdc077",
   "metadata": {},
   "outputs": [
    {
     "data": {
      "text/plain": [
       "0    0\n",
       "1    0\n",
       "2    0\n",
       "3    0\n",
       "4    0\n",
       "5    0\n",
       "6    0\n",
       "7    1\n",
       "8    0\n",
       "9    0\n",
       "Name: Tweets_duygu, dtype: int32"
      ]
     },
     "execution_count": 222,
     "metadata": {},
     "output_type": "execute_result"
    }
   ],
   "source": [
    "y1[:10]"
   ]
  },
  {
   "cell_type": "code",
   "execution_count": 223,
   "id": "1d028092",
   "metadata": {},
   "outputs": [
    {
     "data": {
      "text/plain": [
       "0    5\n",
       "1    4\n",
       "2    5\n",
       "3    5\n",
       "4    4\n",
       "5    4\n",
       "6    4\n",
       "7    3\n",
       "8    4\n",
       "9    4\n",
       "Name: sınıflandırma, dtype: int32"
      ]
     },
     "execution_count": 223,
     "metadata": {},
     "output_type": "execute_result"
    }
   ],
   "source": [
    "y2[:10]"
   ]
  },
  {
   "cell_type": "code",
   "execution_count": 224,
   "id": "7b0c6fc1",
   "metadata": {
    "pycharm": {
     "name": "#%%\n"
    }
   },
   "outputs": [],
   "source": [
    "X_train, X_test, Y1_train, Y1_test, Y2_train, Y2_test = train_test_split( X, y1, y2, test_size=.2, random_state=42)"
   ]
  },
  {
   "cell_type": "code",
   "execution_count": 225,
   "id": "7a87dbae",
   "metadata": {},
   "outputs": [],
   "source": [
    "# training veri seti ve testing veri seti ayarlama\n"
   ]
  },
  {
   "cell_type": "code",
   "execution_count": 226,
   "id": "7d84a8de",
   "metadata": {},
   "outputs": [
    {
     "data": {
      "text/plain": [
       "['kebanda  yavru köpeğin öldürülmesine adli ve idari soruşturma  ',\n",
       " 'friends dizisinin  özel bölümü yeniden buluşma fragmanından dikkat çeken  detay  ',\n",
       " 'hanzade survivor panoramada yaptığı eleştirilerle gündem oldu  ',\n",
       " 'emniyet genel müdür yardımcısı mustafa çalışkan soylu hakkında yaptığı açıklamayı yalanlamadı yayınlanacağını bilseydim konuşmazdım  ',\n",
       " 'fetönün emniyet mahrem sorumlusu yakalandı  ',\n",
       " 'basın kartı yönetmeliği yenilendi  ',\n",
       " 'whatsapptan flaş türkiye kararı  ',\n",
       " 'sedat peker karşı mahalleyi karıştırdı yetmeyecek dünyayı başımıza bela edecekler  ',\n",
       " 'cinnet getirdi eşini doğradı tepkileri kan dondurdu  ',\n",
       " 'diyanetten koronavirüs aşısı fetvası  ',\n",
       " 'hemşiresi darp edilirken araya giren doktor o anları anlattı  ',\n",
       " 'ali koçtan galatasaraya arda güler teşekkürü  ',\n",
       " 'köpeklerini kurtarmak  isteyen kadın ayıyı elleriyle itti  ',\n",
       " ' bin liralık destekten yararlanacak esnaflar için şartlar belli oldu  ',\n",
       " 'ankarada başından vurularak ölen genç kadın  gün sonra komşularının ihbarı üzerine bulundu  ',\n",
       " 'diyarbakır merkezli  ilde dev yasa dışı bahis operasyonu  gözaltı  ',\n",
       " 'babacandan erdoğana korku iliklerine kadar işlemiş  ',\n",
       " 'sedat pekere yurt dışına git diyen süleyman soyluymuş  erdoğan onu bulsa oyacak gibi laflar etti  ',\n",
       " 'i̇letişim başkan yardımcısı çağatay özdemirin i̇ngilizcesi sosyal medyada tartışma konusu oldu  ',\n",
       " 'sedat peker mehmet ağar kendi geçmişini temizlemek için hepsini öldürdü  ',\n",
       " 'ukraynalı kayıp kadın dağcı havadan karadan taranıyor  ',\n",
       " 'sosyetik güzel  süreyya yalçından iddialı pozlar  ',\n",
       " 'alkol komasından çıkan genç gazetecilere söz verdi  ',\n",
       " 'rasim ozan kütahyalıdan sedat pekerin berat albayrak iddiasıyla ilgili açıklama  ',\n",
       " 'fosseptik çukuruna düşen  yaşındaki  çocuk hayatını kaybetti  ',\n",
       " 'küçükçekmecede bıçaklı yan baktın kavgası  ',\n",
       " 'milyonlarca borçluyu ilgilendiren gelişme tbmmde kabul edildi  ',\n",
       " 'marinadan kovulduğu iddia edilen mehmet ağardan ilk açıklama  ',\n",
       " 'fatih tezcan hakkında soruşturma başlatıldı  ',\n",
       " 'arkadaşların eğlencesi biri yoğun bakım diğerinin cezaevine gitmesiyle bitti  ',\n",
       " 'yakıt deposundan  kilo esrar çıktı  ',\n",
       " 'muğlada çift başlı doğan kedi görenleri şaşırttı   ',\n",
       " 'akşener ziyaretinde kavgaya karışan şahıs akpli çıktı  ',\n",
       " 'gedizde trafik kazası  ölü  ',\n",
       " 'erkam yıldırımın venezuelaya gittiği dönemin gümrük kayıtları ortaya çıktı  ',\n",
       " 'eski sevgilisini  yerinden bıçaklayan zanlıya  yıl hapis cezası  ',\n",
       " 'kripto para dünyasında büyük hata milyonlarca doları dağıttılar  ',\n",
       " 'esnafa verilen sözde destek de akaryakıt zammıyla geri alındı  ',\n",
       " 'şeyma subaşı  futbolcu michael ballacki deşifre etti gündem oldular  ',\n",
       " 'bakan soylunun kurucusu olduğu engin sigortadan pekerin iddialarına açıklama  ',\n",
       " 'sedat peker karşı mahalleyi karıştırdı yetmeyecek dünyayı başımıza bela edecekler  ',\n",
       " 'bakanlığın hibe desteği listesinde pes dedirten iş kolu devlet eliyle yolsuzluğa prim mi  ',\n",
       " 'milli eğitim bakanı selçuktan telafi eğitimi açıklaması  ',\n",
       " 'alişandan süleyman soylu hamlesi  ',\n",
       " 'covid geçirdikten sonraki  aya dikkat  ',\n",
       " 'mine tugayın paylaştığı fotoğrafa beğeni yağmuru  ',\n",
       " 'türkiyede koronavirüsten  kişi daha hayatını kaybetti  bin  yeni vaka var  ',\n",
       " 'masumiyetin elası i̇layda alişandan tatil pozu  ',\n",
       " 'sosyal medyada kripto para vaadiyle dolandırıcılık  şüpheli tutuklandı  ',\n",
       " 'yurtta hava durumu  ',\n",
       " 'eda eceden anadolu efes paylaşımı hemen sildi  ',\n",
       " 'sel nedeniyle ormanlık alanda mahsur kalan  işçiler kurtarıldı  ',\n",
       " 'gündüz vakti şehre inen domuz sürüsü şok etti  ',\n",
       " ' kilo kokain kıyıya vurdu piyasa değeri  milyon lira  ',\n",
       " 'akpli isimlerin çocuklarına memur kıyağı ortaya çıktı  ',\n",
       " 'akşenerden erdoğanın sözlerine ben bu tehditlerin hiçbirine pabuç bırakacak bir insan değilim  ',\n",
       " 'sedat pekerden binali yıldırımın oğluyla ilgili uyuşturucu iddiası  ',\n",
       " 'barış terkoğlu dubaiden konuşan peker ile ankaradan karar veren mahkeme tuhaf bir kesişme yaşadı  ',\n",
       " ' yıl boyunca üvey babasının cinsel tacizine uğrayan küçük kızın günlüğünden kan donduran satırlar  ',\n",
       " 'yurtta hava durumu  ',\n",
       " 'koronavirüsü atlatan buse i̇skenderoğlu formunu nasıl koruduğunu anlattı  ',\n",
       " 'maske takmadığı için ceza yedi bana anayasada maske kanunu gösterin genelgeler kanun değildir diyerek cezayı yırttı  ',\n",
       " 'sedat pekerin son  videosundaki reşat hacıfazlıoğlu kimdir  ',\n",
       " 'i̇letişim başkan  yardımcısı çağatay özdemirin i̇ngilizcesi sosyal medyada tartışma konusu oldu  ',\n",
       " 'akpli vekilden altınoka sedat peker sorusu talimatı kim verdi  ',\n",
       " 'sakaryada rüşvet operasyonu  gözaltı  ',\n",
       " 'yıllar önce  serpil örümcerin dizlerine oturarak poz vermişti göksel arsoy o günü anlattı  ',\n",
       " 'en çok vaka düşüşü yaşanan kentte pazarcılardan uyarı  ',\n",
       " 'magazin muhabirinden şok iddia nagehan alçı ve rasim ozan kütahyalı boşandı  ',\n",
       " 'düştüğü taş ezme makinesinde bacağı kopan yaralı kepçeyle taşındı  ',\n",
       " 'mardindeki oteller yeni normalleşme ile birlikte turistleri ağırlamaya hazırlanıyor  ',\n",
       " 'balıkesirde  şüpheliye fuhuş operasyonu   ',\n",
       " 'bostancı sahilinde deniz salyası yoğunluğu su altı kamerasıyla görüntülendi  ',\n",
       " 'lokanta ve kafeler açılıyor mu hafta sonu yasağına şartlı kaldırma  ',\n",
       " ' yıl hapis cezası ile aranan hırsız yakalandı  ',\n",
       " 'sosyal medyada tanıştığı kız kendisine kaçınca bezbol sopası ile hastanelik edildi  ',\n",
       " 'londranın en lüks iki binası arasına kurulan şeffaf gökyüzü havuzu açıldı  ',\n",
       " 'eski başbakan gelecek partisi lideri davutoğluna meclis önünde polis engeli  ',\n",
       " 'akşenerden kendisine zavallı diyen erdoğana yanıt zavallılık gideceğim diye atıp tutup  yıldır gazzeye gidememektir  ',\n",
       " 'din öğretmeninden silahlı paylaşım emrindeyiz aga  metreden nokta atışı  ',\n",
       " 'kızının kaçırıldığını iddia eden baba kızını geri istiyor  ',\n",
       " 'cemal enginyurt ak türkçe dedi sosyal medya yıkıldı  ',\n",
       " 'ezgi molaya destek  veren  ünlü i̇sme suç duyurusu  ',\n",
       " 'mermer yüklü tır devrildi baba öldü oğlu ağır yaralandı  ',\n",
       " 'hürriyet yazarı selvi kılıçdaroğlunun kaderi akşenerin elinde  ',\n",
       " 'lottie moss yemeğe öyle bir elbiseyle geldi ki yine tüm gözler ondaydı  ',\n",
       " 'saray i̇ttifakını sarsacak tefecilik davası  ',\n",
       " 'çay tarlalarından yamaç paraşütleriyle heyecanlı atlayış  ',\n",
       " ' kilo veren pelin öztekinden bikinili paylaşım  ',\n",
       " 'emlak vergisinde son gün pazartesi  ',\n",
       " 'sedat pekerden yeni açıklama  ',\n",
       " 'sedat pekerden süleyman soylunun akrabası sadık soyluyla ilgili dikkat çeken iddia  ',\n",
       " 'akpden sedat pekerin iddialarıyla ilgili ilk açıklama  ',\n",
       " 'kırıkkalede bir kişi ayağından vuruldu kaçan araçta uyuşturucu ele geçirildi  ',\n",
       " 'cinayet işleyen nişanlı çiftten sarkıntılık yaptı savunması  ',\n",
       " 'akpli vekilden altınoka sedat peker sorusu talimatı kim verdi  ',\n",
       " 'bomba iddia süleyman soylu erdoğana bu mesajı mı gönderdi  ',\n",
       " ' ilde insan kaçakçılığı yapan örgüte operasyon  ',\n",
       " 'saraydan soylu ve binali yıldırım açıklaması  ',\n",
       " 'kuruyan dereye balıklar için su takviyesi yapıldı  ',\n",
       " 'yılmaz özdil organize suç örgütü tanımı kiralık gazetecilere cuk oturuyor  ',\n",
       " 'yine öğrenciler kurban edildi tepkilerin azaltılması için  ',\n",
       " 'avrupa birliği dijital covid sertifikasında uzlaşmaya vardı  ',\n",
       " 'türkiyede koronavirüsten  kişi daha hayatını kaybetti  bin  yeni vaka var  ',\n",
       " 'rasim ozan kütahyalıdan şok sözler nagehancım bunlar bizim köpeğimiz  ',\n",
       " 'rizedeki akşener provokasyonuna kılıçdaroğlundan tepki  ',\n",
       " 'eda taşpınardan olay poz hayran bıraktı  ',\n",
       " 'canan kaftancıoğlu hakkında zorla getirme kararı  ',\n",
       " 'emin çölaşan bir siyasi parti genel başkanını bile koruyamayan devlet mi  ',\n",
       " 'sağlık bakanı koca ve uğur şahin açıklama yapıyor  ',\n",
       " 'sedat pekerin  iddialarına vatandaş böyle tepki gösterdi tayyip kendini kandırsın bizi kandıramaz  ',\n",
       " 'bursada uyuşturucu operasyonu  ',\n",
       " 'nike cinsel saldırıyla suçlanan neymarla i̇şbirliğini sonlandırdı  ',\n",
       " 'seren serengil  yaptığı photoshopla sosyal medyanın yine diline düştü  ',\n",
       " 'cia ve abd adalet bakanlığı da sedat pekerin peşine düştü çarpıcı reza zarrab detayı  ',\n",
       " 'traktörün altında kalan kişi hayatını kaybetti  ',\n",
       " 'yine öğrenciler kurban edildi tepkilerin azaltılması için  ',\n",
       " 'mardinde mi̇t ve jandarmadan ortak operasyon teröristlere ait sığınaklarda plastik patlayıcı ve eyp düzeneği ele geçirildi  ',\n",
       " 'dünyaca ünlü ekonomistlerden korkutan tahmin değer kaybı ne kadar sürecek  ',\n",
       " 'tbmmde skandal sözler çocuk evliliğini savundu birlikte yaşayan çiftlere sapkın dedi  ',\n",
       " 'didem soydan  galata sokaklarında  ',\n",
       " 'merkez bankasında kritik görev değişiklikleri  ',\n",
       " 'dünyaca ünlü kuruluş duyurdu akpli yetkiliden ortalığı karıştıracak sedat peker açıklaması  ',\n",
       " 'nurgül yeşilçay gaza geldi sevgilisiyle dudak dudağa  ',\n",
       " 'i̇smailağa cemaatinden sedat pekerin videolarının ardından açıklama  ',\n",
       " 'sedat pekerden ayda  bin dolar alan akpli külünk iddiası  ',\n",
       " 'sabahattin önkibardan erdoğan ve bahçeli iddiası  ',\n",
       " 'aa sedat pekere dhkpc tehdidi bahanesiyle verilen koruma kararında fetö izi tespit edildi  ',\n",
       " 'ahmet şık soylu pelikan ekibini de i̇şin i̇çine çekti  ',\n",
       " 'sedat peker hakkında yakalama kararı  ',\n",
       " 'nihal candan nasıl seksi olunur bilmiyorum  ',\n",
       " 'sedat peker  videosunu yayınladı uğur mumcu suikastı binali yıldırımın oğlu ve uyuşturucu iddiaları  ',\n",
       " 'şanlıurfa doğurganlık hızının en yüksek olduğu il oldu  ',\n",
       " 'fetöpdy lideri fetullah gülenin yeğeni selahaddin gülen yakalanarak türkiyeye getirildi  ',\n",
       " 'otomobil önce aydınlatma direğine sonra başka araca çarptı  ',\n",
       " 'i̇mamoğluna hapis cezası istemi  ',\n",
       " 'yılmaz özdil organize suç örgütü tanımı kiralık gazetecilere cuk oturuyor  ',\n",
       " 'demi rose yaptığı  paylaşımla yine kendine hayran bıraktı  ',\n",
       " 'süleyman soylu ve abdulhamit gülün kavgasında ikinci perde  ',\n",
       " 'kastamonuda uyuşturucu ile yakalanan şahıs tutuklandı  ',\n",
       " 'şoke eden iddia emniyet içinde birçok polis sedat pekere  ',\n",
       " 'sedat pekerin yayınladığı videoda tahtada yazanlar neyi işaret ediyor  ',\n",
       " 'i̇yi̇ parti i̇stanbul i̇l başkanı kavuncuya fetöden takipsizlik  ',\n",
       " 'sedat pekerden defne açıklaması o kişi defne samyeli mi  ',\n",
       " 'mehmet ali erbil  ve kızı yasmin aynı projede  ',\n",
       " 'babacan benimle ilgili sorunlar varsa erdoğan partiden ayrılacağımı söylediğimde neden gitme kal diye ısrarcı oldu  ',\n",
       " 'tecavüzcü öğretmenle fotoğraf çektiren milli eğitim müdürü eğitim müşavirliğine atanmış  ',\n",
       " 'devlet bahçeli süleyman soylu yalnız değildir  ',\n",
       " 'kılıçdaroğlundan erdoğana yanıt sen git çetelerle magazincilik oyna  ',\n",
       " 'deniz akkaya selin  ciğercinin kariyeri arabada  başladı orada bitecek  ',\n",
       " 'hopadaki çay üreticilerinin eylemine polis müdahale etti  kişi gözaltında  ',\n",
       " 'ünlü model rhian sugden kendisine gelen ahlaksız teklifleri bir bir ifşa etti  ',\n",
       " 'cinsel istismar davasından beraat talebi  ',\n",
       " 'yalıdaki kumar partisine denizden polis baskını   ',\n",
       " 'sosyetik güzel süreyya yalçından iddialı pozlar  ',\n",
       " 'akpli çamlı bu kez de süleyman soylunun hedefindeki mustafa çalışkana destek verdi  ',\n",
       " 'tık uğruna  metrobüs üstünde ölümüne yolculuk  ',\n",
       " 'atilla peker adli kontrolle serbest bırakıldı  ',\n",
       " 'can yaman ve diletta leotta tatilde düşman çatlattılar  ',\n",
       " 'chpden yeni pankart  bin dolar alan siyasetçi kim  ',\n",
       " 'chpli altaydan erdoğanın tehdit açıklamalarına tepki bizi öldürecek misin  ',\n",
       " 'mehmet ali erbil ve kızı yasmin aynı projede  ',\n",
       " 'londranın en  lüks iki binası arasına kurulan şeffaf gökyüzü havuzu açıldı  ',\n",
       " 'nagehan alçıdan bakanlara sert tepki hepsini isim isim biliyorum  ',\n",
       " 'tarlasına kurduğu güneş paneli sayesinde ekinlerini kuraklıktan korudu  ',\n",
       " 'i̇stinaf mahkemesinden susurluk ji̇tem davasında tarihi karar mehmet ağar ve diğer sanıklar hakkında beraat kararları bozuldu  ',\n",
       " 'süleyman soylu milyonlarca insan çocuk pornosu da  izliyor  ',\n",
       " 'erdoğana hakkını  helal etmeyen esnaf isyan etti  ',\n",
       " 'akşener ziyaretinde kavgaya karışan şahıs akpli çıktı  ',\n",
       " 'tiktok videosu çekerken bisikletle merdivenden böyle düştü  ',\n",
       " 'kripto parada flaş gelişme faaliyetler durduruldu  ',\n",
       " 'aşı kararsızlığında muhtemel yan etki endişesi  ',\n",
       " 'fatih altaylı tüm açıklamalar erkam yıldırımın lehine olmadı bence  ',\n",
       " 'i̇lkokul ve ortaokul öğrencileri için mebten yeni düzenleme  ',\n",
       " 'diyarbakırda kaza  ölü  yaralı  ',\n",
       " 'deaştan gözaltına alınan  şüpheliye sınır dışı kararı  ',\n",
       " 'sosyetik güzel süreyya yalçından iddialı pozlar  ',\n",
       " 'ankara kulisleri kızıştı saraydaki iktidar kapışmasının bir parçası mı bilemem ama duyduklarım çok önemli  ',\n",
       " 'i̇zmir tabip odasından  haziran uyarısı açılma olursa başa döneriz  ',\n",
       " 'soyludan polislere uyarı hesabını sorarım  ',\n",
       " 'erdoğanın eski kara kutusu süleyman soyluyla ilgili öyle şeyler söyledi ki  ',\n",
       " 'i̇ngiltereden türkiye için kırmızı liste kararı  ',\n",
       " 'şevval samın bikinili pozu sosyal medyayı salladı  ',\n",
       " 'sedat pekerden ahmet davutoğluna yanıt silahlar sadat tarafından organize edildi  ',\n",
       " 'uyuşturucu kullanmaya çalışırken suçüstü yakalandılar  ',\n",
       " 'i̇ki diplomat perde arkasını anlattı belarus krizinde natoya türkiye freni  ',\n",
       " 'serenay sarıkayanın paylaştığı fotoğraflar sosyal medyayı salladı  ',\n",
       " 'sihirli annemin tuğçesi damla ersubaşı resmen eridi  ',\n",
       " 'üvey babasını bıçaklayan ve bir kişiyi öldüren sanık hakkında müebbet talebi  ',\n",
       " 'emin çölaşan erdoğanın açıklamalarını yorumladı  ',\n",
       " 'tır ve depodan milyonlarca kaçak ürün çıktı  ',\n",
       " 'atilla peker konuştu sen bu ifadeden vazgeç diye yorumladım  ',\n",
       " 'financial timesdan sedat peker yorumu türkiyeyi şaşkına çevirdi  ',\n",
       " 'cedi osman işi biliyor  ebru şahine beğeni ve yorum yağdı  ',\n",
       " 'sedat peker videolarının youtube trendlere girememesi için müdahale ediliyor iddiası  ',\n",
       " 'kafe ve restoranlarda  haziran hazırlıkları başladı  ',\n",
       " 'kanepeden düşen çocuk hayatını kaybetti  ',\n",
       " 'blockchain teknolojisi ile dış ticarette ödeme garantisi  ',\n",
       " 'kayıp dediği eşini öldürüp iş makinesiyle araziye gömmüş  ',\n",
       " 'babacandan erdoğana korku iliklerine kadar işlemiş  ',\n",
       " 'alanyada polisten uyuşturucu baskını  gözaltı  ',\n",
       " 'i̇stanbulda yaşlı kadını fetö yalanıyla dolandıran şahsa suçüstü  ',\n",
       " 'küçükçekmece cinayetinde kan donduran detaylar annesinin bacağını kesip etlerini bıçakla kemikten ayırmış  ',\n",
       " 'emin çölaşan erdoğanın açıklamalarını yorumladı  ',\n",
       " 'rasim ozan kütahyalıdan şok sözler nagehancım bunlar bizim köpeğimiz  ',\n",
       " 'diyarbakırda göl kurudu binlerce balık telef oldu  ',\n",
       " 'fetönün mahrem asker yapılanması operasyonunda  kişiye adli kontrol  ',\n",
       " 'samsunda uyuşturucu operasyonu  gözaltı  ',\n",
       " 'aşk vaadiyle vatandaşları dolandıran çeteye operasyon  gözaltı  ',\n",
       " 'i̇hracatçılar gelecek  milyon doz biontech aşısında öncelik istedi  ',\n",
       " ' ilde insan kaçakçılığı yapan örgüte operasyon  ',\n",
       " 'diyarbakır merkezli  ilde kripto para operasyonu  ',\n",
       " 'halk tv sunucusu i̇rfan değirmenci o anonsu yaparken midem bulanıyor dedi  ',\n",
       " 'i̇stismarcı sercan keskinkılıç tutuklandı  ',\n",
       " 'bakan elvan i̇lk çeyrekteki yüzde lik büyümenin yüzde sı net dış talep ve yatırımlardan geldi  ',\n",
       " 'i̇yi̇ partili ağıralioğlu fetöyü hatırlatınca akpli seçmen i̇nsan yanılamaz mı  ',\n",
       " 'sedat pekerin iddiaları sonrası tuğrul türkeşin yıllar önce vallahi de billahi de o silahlar türkmenlere gitmiyordu sözleri yeniden gündem oldu  sedatpeker pazar       ',\n",
       " 'meral akşenerden erdoğanın tehditlerine flaş yanıt  ',\n",
       " 'nesrin cavadzadenin tatil pozlarına beğeni yağdı  ',\n",
       " 'ahmet takandan bomba iddia akp içinden muhalefete belge akmaya başladı büyük skandallar ortaya çıkacak  ',\n",
       " 'galip mendi i̇smail saymaza anlattı atilla peker abuk sabuk hareketleri olan birisi  ',\n",
       " 'yunanistan unsurlarınca türk karasularına itilen  düzensiz göçmen kurtarıldı  ',\n",
       " 'sondaki̇ka hskya atanacak  üye tbmmde seçildi  ',\n",
       " 'erkam yıldırımın venezuelaya kaç tane maske ve kit götürdüğü belli oldu  ',\n",
       " 'sedat pekerden para alan milletvekili paylaşımı tayyip abi videosu neden ertelendi  ',\n",
       " 'binali yıldırım  sedat pekerin iddialarına böyle cevap verdi  ',\n",
       " 'lazer epilasyon yaptırdı kolları yandı  ',\n",
       " 'son  saatte korona virüsten  kişi hayatını kaybetti  bin   yeni vaka  ',\n",
       " 'baran sigorta primi erken ödemelerinde indirim uygulaması konusunda çok başarılı hizmet alabiliyoruz  ',\n",
       " 'sondaki̇ka i̇mamoğluna hapis cezası istemi  ',\n",
       " 'fatih altaylıdan sedat pekere gündeme oturacak soru  ',\n",
       " 'diyarbakır barosundan suç duyurusu ji̇tem dosyaları açılsın  ',\n",
       " 'erdoğanın  doz aşı oldum sözlerinin ardından prof dr mehmet ceyhandan açıklama  ',\n",
       " 'atilla peker kutlu adalı cinayeti hakkında ifade vermek için adliyede  ',\n",
       " 'hastalığı nedeniyle bilincini kaybeden sürücü kaza yaptı  ',\n",
       " 'şeyma subaşı aşka geldi  ',\n",
       " 'defne samyeliden sedat pekerin defne tweetinin ardından flaş açıklama  ',\n",
       " 'kılıçdaroğlundan süleyman soyluya  kuruşluk dava muhataba biçtiği değer gereğince  ',\n",
       " 'mucize doktorun kızları tatilde olay paylaşımlar  ',\n",
       " 'i̇mamoğlu  akp dönemindeki ki̇ptaştaki yolsuzluğu tüm ayrıntılarıyla anlattı  ',\n",
       " 'tbmm başkanı şentoptan kılıçdaroğluna cevap bu bir eleştiri değil iftira  ',\n",
       " 'fahrettin koca  hazirandan itibaren  yaş üstü aşılama başlıyor  ',\n",
       " 'siirtte altyapı çalışmasında göçük  işçi yaralandı  ',\n",
       " 'melis sezenin pozlarına beğeni yağdı  ',\n",
       " 'akşenerden erdoğana  süleyman soylu çağrısı  ',\n",
       " 'eşini taciz ettiğini iddia ettiği kişiyi sokakta kadın kıyafetiyle gezdirdi  ',\n",
       " 'chp lideri kemal kılıçdaroğlundan erdoğana hodri meydan  ',\n",
       " 'akpli kenan sofuoğlundan olay yaratacak milletvekilliği açıklaması bir daha asla diyerek itiraf etti  ',\n",
       " 'sedat pekerin kardeşi atilla pekerden şok açıklamalar  ',\n",
       " 'saraydan ziya selçuka şok sözler beceriksiz  ',\n",
       " 'uğur dündardan aslı baykal paylaşımı gözümün önüne kullanılmış eşya gibi bıraktığı  ',\n",
       " 'şanlıurfada genç kız ıncı kattan atladı  ',\n",
       " 'adalet teşkilatında fetö operasyonu  gözaltı  ',\n",
       " 'sedat pekerin internet sitesine erişim engellendi  ',\n",
       " 'chp genel başkanı kemal kılıçdaroğlu gençlerle birlikte anıtkabiri ziyaret etti  ',\n",
       " 'i̇ki diplomat perde arkasını anlattı belarus krizinde natoya türkiye freni  ',\n",
       " 'akpde süleyman soylu krizi cepheler netleşti  ',\n",
       " 'mustafa çalışkan haberim yoktu dedi muhabirimiz konuşmayı aktardı  ',\n",
       " 'ankara barosundan akpnin sunduğu kanun teklifine tepki cumhuriyet savcılarının bağımsızlığını tamamen ortadan kaldıracak  ',\n",
       " 'akpde son durum i̇şte erdoğanın mykda binali yıldırım ve süleyman soylu ile ilgili söyledikleri  ',\n",
       " 'çiftçinin soğanı tarlada kaldı yurttaşlar akın etti  ',\n",
       " 'emniyet genel müdür yardımcısı mustafa çalışkan soylu hakkında yaptığı açıklamayı yalanlamadı yayınlanacağını bilseydim konuşmazdım  ',\n",
       " 'akşenere böyle seslendi susturulmaktan bıktım artık konuşmak istiyorum  ',\n",
       " 'yasakları eleştiren cumhuriyet savcısı eyüp akbulut hsk tarafından görevden uzaklaştırıldı  ',\n",
       " 'cumhurbaşkanı  erdoğan haziran ayında normalleşmeyi hedefliyoruz  ',\n",
       " 'i̇srail dışişleri bakanı  yıl sonra mısırı ziyaret etti  ',\n",
       " 'uğur mumcunun eşi güldal mumcu çekin tuğlaları yıkılsın duvar altında kim kalırsa kalsın  ',\n",
       " 'yeryüzünde bir cehennem varsa bugün gazzedeki çocukların hayatlarıdır  ',\n",
       " 'demet özdemir ve oğuzhan koç teknede aşka geldi  ',\n",
       " 'akpde istifa şoku peş peşe açıkladılar  ',\n",
       " 'i̇ki otomobil kafa kafaya çarpıştı i ağır  yaralı  ',\n",
       " 'hakim karşısına çıkan murat övüçten skandal sözler  ',\n",
       " 'akşenerden erdoğana süleyman soylu çağrısı  ',\n",
       " 'bursada kayıp alarmı  ',\n",
       " 'korkut eken konuştu atilla peker ile kıbrısa gittim cinayetle alakam yok  ',\n",
       " 'levent kırcanın o skeci yeniden gündem oldu  ',\n",
       " 'sinopta  yaşındaki kadın  gündür kayıp  ',\n",
       " 'dumandan etkilenen danaya hayat öpücüğü  ',\n",
       " 'i̇smail saymaz ve en hazini sedat pekerin ifşaatları sayesinde  ',\n",
       " 'genç kız annesinden boşanmak isteyen babasını öldürdü  ',\n",
       " 'telefondan telefon almak isterken dolandırıldı  ',\n",
       " 'akpli isimlerin çocuklarına memur kıyağı ortaya çıktı  ',\n",
       " 'fatihte dehşet  ',\n",
       " 'seyyar arabalarını siper yapıp mazgal kapağı çaldılar  ',\n",
       " 'türk tabipleri birliğinden bakanlığa acil çağrı  ',\n",
       " 'ahmet takan sedat pekerin videoları sonrası süleyman soylu kulislerini yazdı  ',\n",
       " 'kılıçdaroğludan sedat peker açıklaması erdoğan soyluya sorsa belki sen talimat verdin der  ',\n",
       " 'kripto para ve sahte bahis kuponu dolandırıcılığı   ',\n",
       " 'sen buna giremezsin sözü kilo verdirtti bambaşka birine döndü  ',\n",
       " 'twitterda kapıştılar nagehan alçı rasim ozan kütahyalıya sert çıktı  ',\n",
       " 'akşenerden erdoğanın tazminat davasına ilk yanıt  ',\n",
       " 'trabzonlu i̇ş i̇nsanları ve bürokratları derneğinden süleyman soylu açıklaması  ',\n",
       " 'sedat peker pazar günü açıklayacağım demişti chpli özelden süleyman soyluya çağrı  ',\n",
       " 'son anket sonuçlarında hdp detayı belirleyici olacak  ',\n",
       " 'diyarbakırda son kullanma tarihi geçmiş gıda malzemeleri ele geçirildi  ',\n",
       " 'canliyayin i̇çişleri bakanı süleyman soylu habertürkte gazetecilerin sorularını yanıtlıyor canlı yayın izlemek için tıklayın   soyluyasoruyorum haberturk   ',\n",
       " 'melis sezenin  pozlarına beğeni yağdı  ',\n",
       " 'alerjik rinit mutlaka tedavi edilmeli  ',\n",
       " 'bülent arınçtan peker yorumu şanlı yargımız gerekeni yapacak herhalde  ',\n",
       " 'sedat pekere  yurt dışına git diyen süleyman soyluymuş  erdoğan onu bulsa oyacak gibi laflar etti  ',\n",
       " 'i̇mamoğluna hapis cezası istemi  ',\n",
       " 'change oto operasyonunda  tutuklama  ',\n",
       " 'mehmet ağar hakkında şok iddialar acaba ebru gündeşe bu öneriyi kim yaptı  ',\n",
       " 'sedat pekerin videoları neden rekor düzeyde izleniyor diyen emin çölaşan nedenini açıklayayım  ',\n",
       " 'yıllar önce serpil örümcerin dizlerine oturarak poz vermişti göksel arsoy o günü anlattı  ',\n",
       " 'bayburtta akıl almaz uyuşturucu zula etme yöntemini polis röntgenle ortaya çıkardı  ',\n",
       " 'ali koçtan diyanete mektup kırgınım  ',\n",
       " 'canlı bomba sanılan kadının başına silah dayandı gerçek ortaya çıkınca  ',\n",
       " 'süleyman soyluya mahkemeden şok emsal olacak karar  ',\n",
       " 'serbest piyasada döviz fiyatları   ',\n",
       " 'uğur mumcunun eşi güldal mumcu çekin tuğlaları yıkılsın duvar altında kim kalırsa kalsın  ',\n",
       " 'akpli çamlı bu kez de süleyman soylunun hedefindeki mustafa çalışkana destek verdi  ',\n",
       " 'şeyma subaşına milyarder sevgilisinden evlilik teklifi  ',\n",
       " 'hindistanda covid salgında yeni rekor son  saatte  bin  ölüm  ',\n",
       " 'ahmet hakan bütün i̇ddiaların üzerine yargı yoluyla gidilmeli  ',\n",
       " 'samsunda  yaşındaki gencin şüpheli ölümü   ',\n",
       " 'sondaki̇ka sedat peker soylunun arkadaşım dediği isimle telefon görüşmesini yayınladı  ',\n",
       " 'prof osman müftüoğlu koronavirüs salgınında iki tarihe dikkat çekti çok önemli tarihler  ',\n",
       " 'hayvanları sularken elektrik akımına kapılan genç kız hayatını kaybederken kalp krizi geçiren abisinin durumu ise ağır  ',\n",
       " 'sihirli annemin  tuğçesi damla ersubaşı resmen eridi  ',\n",
       " 'habertürk meral akşenerin süleyman soyluya istifa çağrısı öncesi canlı yayını kesti  ',\n",
       " 'bahçeli erdoğanın  yıllık dostunu fetöcü ilan etti i̇ttifak dağılıyor mu  ',\n",
       " 'sivastaki kazada ölen  kişinin kimlikleri belirlendi  ',\n",
       " 'sedat pekerden süleyman soylunun akrabası sadık soyluyla ilgili dikkat çeken iddia  ',\n",
       " 'sedat peker soruşturmasının ayrıntıları belli oldu  ',\n",
       " 'i̇ngiltere merkez bankası başkanı bailey kripto varlıklar tehlikeli   kriptopara kriptoparahaber   ',\n",
       " 'galatasarayda seçim tarihi belli oldu  ',\n",
       " 'sedat peker  video yayınlandı sadat el nusraya benim üzerimden silah yolladı  ',\n",
       " 'meral akşenerden erdoğanın tehditlerine flaş yanıt  ',\n",
       " 'dünyaca ünlü ekonomistlerden korkutan tahmin değer kaybı ne kadar sürecek  ',\n",
       " 'mgk bildirisinde i̇srail ayrıntısı  ',\n",
       " 'i̇şte süleyman soylunun sedat peker çökmek istedi dediği köfteci yusuf dosyası  ',\n",
       " 'binali yıldırım oğlum venezuelaya biraz da meraktan gitti  ',\n",
       " 'i̇nceden erdoğana aklını başına al  ',\n",
       " 'kenenin neden olduğu ölümlere bir yenisi eklendi  ',\n",
       " 'almanya dışişleri bakanı maastan skandal i̇srail açıklaması  ',\n",
       " 'provokasyonu savunan erdoğan meral akşeneri hedef gösterdi bunlar daha iyi günler  ',\n",
       " 'kılıçdaroğlundan  süleyman soyluya dava mesajı değeri o kadar  ',\n",
       " 'avcılarda sağlık çalışanına bıçaklı saldırı  ',\n",
       " 'i̇ngiliz firma atıkların türkiyeye gönderilmesiyle alay etti  ',\n",
       " 'uyuşturucu sevkıyatında yeni taktik bm raporunda maske ve dezenfektanla kamufle ediliyor  ',\n",
       " 'merkez bankasından kripto para açıklaması  ',\n",
       " 'deniz zeyrek bugün sizinle okuduktan sonra ne günlere kaldık diyeceğiniz üç detay paylaşacağım  ',\n",
       " 'şarkıcı oyuncu yönetmen üçlü aşk görüntüleri gündeme bomba gibi düştü  ',\n",
       " 'sevilay yılman bu millet bu kadar aptal yerine konulmayı hak edecek kadar ne yaptı bilmiyorum  ',\n",
       " 'merkez bankası başkanı kavcıoğlu erken gevşeme beklentisi ortadan kalkmalı  ',\n",
       " 'malatyada  ayrı yere yıldırım düştü  yaralı  ',\n",
       " 'sondaki̇ka binali yıldırımın oğlu erkam yıldırım sedat peker hakkında suç duyurusunda bulundu  ',\n",
       " 'ekay dünya çevre gününde çöpten elektrik üretmeye başlayacak  ',\n",
       " 'cumhuriyet yazarı barış pehlivan soylu fetöyü soruşturan savcıya kes artık haddini bildiririm dedi  ',\n",
       " 'fatih altaylı benim için i̇ncenin partisi başlamadan bitti  ',\n",
       " 'buda askıda meyve ve sebze  ',\n",
       " 'yılmaz özdilden lale yazısı sülale devrinin lalesi anca böyle  ',\n",
       " 'sedat pekerin erdoğana seslendiği son videosuna ilişkin saraydan ilk açıklama  ',\n",
       " 'fatih portakaldan sedat peker videoları açıklaması artık birilerinin konuşması gerekmiyor mu  ',\n",
       " 'kıbrıs gazeteleri kutlu adalının öldürülmesini manşete taşıdı türkiyede planladılar kıbrısta öldürdüler  ',\n",
       " 'fatih altaylıdan iktidara olay sözler açtı ağzını yumdu gözünü  ',\n",
       " 'malatyada uyuşturucu operasyonu  gözaltı  ',\n",
       " 'maskesiz günler geliyor i̇şte  haziran sonrası kafe restoran ve diğer iş yerleri için plan  ',\n",
       " 'hatayda şüpheli ölüm  yaşındaki genç tüfekle vurulmuş halde bulundu  ',\n",
       " 'sedat pekerden erkam yıldırımla ilgili yeni iddia  ',\n",
       " 'manisada  adrese uyuşturucu operasyonu  ',\n",
       " 'milli eğitim bakanı selçuktan telafi eğitimi açıklaması  ',\n",
       " 'tokatta iki araç kafa kafaya çarpıştı  ölü  yaralı  ',\n",
       " 'arnavutköyde kaza  kişi hayatını kaybetti  ',\n",
       " 'fahrettin koca açıkladı  hazirandan sonra normalleşme nasıl olacak  ',\n",
       " 'anadolu ajansı muhabiri  musab turandan bakan pakdemirli ve varanka süleyman soylu soruları  ',\n",
       " 'süleyman soylunun tehdit yoktu açıklamalarına canan kaftancıoğlundan sert yanıt  ',\n",
       " 'i̇letişim başkanının iletişim problemi fahrettin altun dinlediğini anlamadı heyecanla bu tweeti attı  ',\n",
       " 'kara mantar kabusu artıyor tek çözümü gözü çıkarmak  ',\n",
       " 'aile bakanı derya yanık pandemide kadına şiddet olaylarındaki artış tolere edilebilir düzeyde  ',\n",
       " 'türkiyede koronavirüsten  kişi daha hayatını kaybetti  bin  yeni vaka var  ',\n",
       " 'ürgüpte  yaşındaki yaşlı adam her yerde aranıyor  ',\n",
       " 'ankesör soruşturmasında  kripto fetöcü itirafçı oldu   ',\n",
       " 'emin çölaşan i̇ktidarın işini şimdi gölgesine sığınmaya kalkıştıkları bu yler bitirecek  ',\n",
       " 'cüneyt özdemir binali beyin yanıtını akpliler doğrulamıyor  ',\n",
       " 'murat yetkin ak partide yangın var sadece soylu değil başka bakanlar da hedefte  ',\n",
       " 'muhtarlığa adaylığını koyan eski futbolcuya ünlü sanatçı ve futbolculardan destek  ',\n",
       " 'kılıçdaroğlu sedat pekerin ayrı dünyaların insanıyız açıklamasına cevap verdi süleyman soyluya böyle seslendi  ',\n",
       " 'nagehan alçının kabine toplantısı kulisleri size kesin bir bilgi vereyim  ',\n",
       " 'boşandığı kadını öldüresiye döven i̇brahim zarapa  yıl hapis cezası  ',\n",
       " 'hafta sonu kısıtlamasının ardından  ilin geçiş noktasında trafik yoğunluğu  ',\n",
       " 'nagehan alçıdan bakanlara sert tepki hepsini isim isim biliyorum  ',\n",
       " 'süleyman soyludan hadi ve süleyman özışık hamlesi  ',\n",
       " 'şamil tayyardan ilginç paylaşım muhalefetin cumhurbaşkanı adayı sedat peker olsun  ',\n",
       " 'soyludan polislere uyarı hesabını sorarım  ',\n",
       " 'buğra kavuncunun fetö soruşturmasında ümit özdağın bilgisine başvurulacak  ',\n",
       " 'fahrettin koca açıkladı  hazirandan sonra normalleşme nasıl olacak  ',\n",
       " 'belediye meclisinde mhpliler millet i̇ttifakına destek verdi  akpliler salonu terk etti  ',\n",
       " 'ünlülerin eğlencesine polis baskını  ',\n",
       " 'süleyman soylu canlı yayında sedat peker twitterda oluk oluk kan akıtacağız sözleri hükümetin lehinedir korku iklimi oluşturmak lazımdı  ',\n",
       " 'varlık fonu sonrası zarar devam ediyor çaykurun borcu  milyarı aştı  ',\n",
       " 'kılıçdaroğlu sahaya iniyor  ',\n",
       " 'i̇yi̇ parti i̇stanbul i̇l başkanı kavuncuya fetöden takipsizlik  ',\n",
       " 'aynur aydın erkeklerin  ilgisini çeken bir kadınım  ',\n",
       " 'hukukçu turgut kazandan sedat pekerin yakalama kararı hakkında çarpıcı iddia  ',\n",
       " 'kylie jenner sınırları zorluyor kıyafeti olay oldu  ',\n",
       " 'fransada şampiyon milli futbolcuların takımı lille   ',\n",
       " 'didem soydan galata sokaklarında  ',\n",
       " 'hindistanda dehşete düşüren görüntüler köpekler ve kuşlar cesetleri yiyor  ',\n",
       " 'türkiye gazeteciler cemiyeti oybirliğiyle hadi özışıkı üyelikten çıkardı  ',\n",
       " 'bakanlara soru soran aa muhabiri musab turan kovuldu  ',\n",
       " 'beykozdaki cinayet zanlısı yakalandı  ',\n",
       " 'fatih portakalın cevap veremediği soru fahrettin altuna yönlendirdi  ',\n",
       " 'köpeğe çarpmamak için manevra yaptı araç şarampole devrildi  yaralı  ',\n",
       " 'kıbrıs gazeteleri kutlu adalının öldürülmesini manşete taşıdı türkiyede planladılar kıbrısta öldürdüler  ',\n",
       " 'deniz akkaya selin ciğercinin kariyeri arabada  başladı orada bitecek  ',\n",
       " 'erdoğan konuştu trt youtube yorumlarını nasıl saklayacağını şaşırdı  ',\n",
       " 'seren serengil yaptığı photoshopla sosyal medyanın yine diline düştü  ',\n",
       " 'fransız yetkililer türkiyede yapılan pcr testini kabul etmedi  ',\n",
       " 'serbest piyasada döviz fiyatları  ',\n",
       " 'i̇şte sedat pekerin kardeşi atilla pekerin kutlu adalı cinayeti itirafları  ',\n",
       " 'ekrem i̇mamoğlu i̇srafa son verdik  milyar lira tasarruf sağladık  ',\n",
       " ' milyar dolar nerede afişleri hakkında mahkemeden karar  ',\n",
       " 'babacandan erdoğana faiz tepkisi kendini merkeze başkan ata  ',\n",
       " 'ezgi molaya musa orhana hakaretten hapis i̇stemi  ',\n",
       " 'alişandan süleyman soylu hamlesi  ',\n",
       " 'fatih altaylı tüm açıklamalar erkam yıldırımın lehine olmadı bence  ',\n",
       " 'köylülerden taş ocağına karşı denizli valiliği önünde oturma eylemi  kişi zengin olacak diye köyümüzü talan ediyorlar  ',\n",
       " 'akşeneri öldürün taşlayın taşlayın sözlerine soruşturma  ',\n",
       " 'yılmaz özdilden erdoğanın dinlediği programda atatürke lanet okunmasına sert tepki  ',\n",
       " 'tekirdağda  iş yeri ve  araca eş zamanlı operasyon  ',\n",
       " 'alkollü sürücü dur ihtarına uymadı otomobili polislerin üzerine sürdü  ',\n",
       " 'ali babacandan sedat pekerin  videosunun ardından iktidara tepki daha ne olması gerekiyor  ',\n",
       " 'murat muratoğlu i̇çişleri bakanı oh oh paralar pkkya gitmiyor diyordu paralar millete de gitmiyor  ',\n",
       " 'bahar candandan bomba paylaşım doçent doktor babam umarım kızmaz  ',\n",
       " 'yeni akit yazı i̇şleri müdürü bunlar i̇yi günleriniz daha neler olacak görün  ',\n",
       " 'chpli vekil paylaştı aldığı para belgesiyle ortaya çıktı  ',\n",
       " 'akpli belediye başkanından intihar gafı  ',\n",
       " 'demirtaşın avukatı karamandan abdulkadir selviye kulis bilgisi diyerek kıvırıyorsun herkesi aptal mı sanıyorsun  ',\n",
       " 'çiftçinin soğanı tarlada kaldı yurttaşlar  akın etti  ',\n",
       " 'whatsapptan flaş türkiye kararı  ',\n",
       " 'i̇çişleri bakanı süleyman soylu benden önceki i̇çişleri bakanlarından birinin oğlunda para sayma makinesi çıktı  ',\n",
       " 'su tartışması kanlı bitti baba oğul öldü  ',\n",
       " 'fatih terim mevcut başkan hakkında şu an için yapabileceğim tek şey kendisine acil şifalar dilemek olacaktır  ',\n",
       " 'defne samyeliden sedat pekerin defne tweetinin ardından flaş açıklama  ',\n",
       " 'tbmm başkanı şentop  bin dolar alan kimse açıklansın  ',\n",
       " 'sedat peker  videosunda berat albayrakın yerini açıkladı berat albayrak nerede biliyor musunuz  sedatpeker pazar     ',\n",
       " 'tuğba ekinciden ayrılık sonrası cesur pozlar  ',\n",
       " 'nesrin cavadzade ve eda ecenin aralarından su sızmıyor  ',\n",
       " 'dilipaktan viranşehir savcısının görevden uzaklaştırılmasına tepki adaleti viran etmeyin eyyubun sabır taşını çatlatmayın  ',\n",
       " 'sedat pekerin yeni i̇ddiası gündem oldu planları cemevine saldırı  ',\n",
       " 'akşenerden rizedeki provokasyona ilişkin açıklama  ',\n",
       " 'aras bulut i̇ynemli  çukura veda mı edecek  ',\n",
       " 'kırıkkalede otomobil tarlaya devrildi i ağır  yaralı  ',\n",
       " 'sondaki̇ka i̇çişleri bakanlığından lgs genelgesi  ',\n",
       " 'emniyetten hadi özışık ve süleyman özışıka operasyon evleri arandı telefon ve bilgisayarlara el konuldu  ',\n",
       " 'sedat pekerden gözaltına alınan kardeşi atilla pekerin ardından açıklama  ',\n",
       " 'ceza ve i̇nfaz düzenlemesi tbmmde  ',\n",
       " 'venezuelalı gazeteci roberto deniz türkiyeden yardım geldiğini hatırlamıyorum  ',\n",
       " 'platonik aşık olduğu kadına ve iş arkadaşına dehşeti yaşatan zanlı tutuklandı  ',\n",
       " 'doç dr ümit savaşçı tarih verdi maske zorunluluğu kalkabilir  ',\n",
       " 'bahar şahinden  şeyma subaşına olay gönderme eniştemiz sağ olsun  ',\n",
       " 'kırık kalp sendromuna dikkat  ',\n",
       " 'i̇zmir barosundan peker soylu ağar ve yıldırım hakkında suç duyurusu  ',\n",
       " 'pekerin koruma kararına i̇mza atan altınoktan fetö i̇zi haberine tepki  ',\n",
       " 'cedi osman işi biliyor ebru şahine beğeni ve yorum yağdı  ',\n",
       " 'mansur yavaşa iftira atan necmettin kesginin çocuk pornosu cezası kesinleşti  ',\n",
       " 'ayasofyanın eski imamı boynukalın taksim cami ile geri döndü  ',\n",
       " 'i̇zmir tabip odasından  haziran uyarısı açılma olursa başa döneriz  ',\n",
       " 'new york timestan erdoğan analizi sadık seçmenini kızdırdı  ',\n",
       " 'ajda pekkan çiftlik kurmak için kazdağlarında arazileri gezdi  ',\n",
       " 'i̇ki kadının katil zanlısının babası da kadın katili çıktı  ',\n",
       " 'sulama kanalına düşerek hayatını kaybetti  ',\n",
       " 'prof osman müftüoğlu koronavirüs salgınında iki tarihe dikkat çekti çok önemli tarihler  ',\n",
       " 'evlendirme dairesinin önünde nikah tarihi kuyruğu  ',\n",
       " 'kırmızı ışık ihlali kazayla sonuçlandı  yaralı  ',\n",
       " 'dsöden covid mutasyonlarının ilk görüldükleri ülkelerle anılmasına karşı önlem  ',\n",
       " 'barış elçisi arvas yeni sulhlere öncülük ediyor  ',\n",
       " 'i̇skilip kalesinde sır ölüm  ',\n",
       " 'ahmet takan  siyaset sahnesindeki racon kesmelere esaslı bir şamar indirdi  ',\n",
       " 'yalovada silahlı kavga  ',\n",
       " 'leyla aydemir davasında şoke eden ses kaydı ortaya çıktı afad ekibi sessiz kalmış  ',\n",
       " 'kayıp kadının cesedi bulundu  ',\n",
       " 'samsunda özel okul sahibine deepfake  uygulamasıyla şantaj  ',\n",
       " 'masumlar apartmanı dizisinde şoke eden ayrılık kararı başrol oyuncusu veda edecek  ',\n",
       " 'ticaret bakanı muştan venezueladan peynir ithalatı açıklaması  ',\n",
       " 'köpeklerini kurtarmak isteyen kadın ayıyı elleriyle itti  ',\n",
       " 'veterinere şaşırtan soru kedi köpeğe taktığınız çipi kızıma da takabilir misiniz  ',\n",
       " 'fatih altaylıdan erdoğanın akşenere yönelik tehdit gibi sözlerine çarpıcı yorum  ',\n",
       " 'ünlü sunucu ezgi avcının tatil pozları mest etti  ',\n",
       " 'cinsel istismarla suçlanan sözde şeyhlerini savundular  ',\n",
       " 'sedat peker  videonun tarihini duyurdu süleyman soyluya seni mahvedeceğim dedi  ',\n",
       " 'tbmm başkanı şentop  bin dolar alan kimse açıklansın  ',\n",
       " 'fakir olduğu i̇çin evlilik teklifini reddetti ancak tam  yıl sonra kadın şok oldu  ',\n",
       " 'demet özdemirden mini elbiseli ayna pozu  ',\n",
       " 'erdoğandan süleyman soylu ve binali yıldırıma destek  ',\n",
       " 'uzmanı uyardı hayati önem taşıyor  ',\n",
       " 'magazin muhabirinden şok iddia nagehan alçı ve rasim ozan kütahyalı boşandı  ',\n",
       " 'i̇stanbulda  dronla mest eden ışık gösterisi  ',\n",
       " 'silahlı kavga gecesi olay yerinin karşısındaki iş yerini soydular  ',\n",
       " 'sedat pekerin kardeşinin gözaltı gerekçesi belli oldu  ',\n",
       " 'bilim kurulu üyesi okyaydan çok konuşulacak sözler bu açılmayla ilgili bir görüş bildiremedik  ',\n",
       " 'sedat pekere türklük hakanı unvanı veren isim saraydan çıktı  ',\n",
       " 'karnında unutulan makasla  ay dolaştı  ',\n",
       " 'aranması bulunan  kişi yakalandı  ',\n",
       " 'türkiyede koronavirüsten  kişi daha hayatını kaybetti  bin  yeni vaka var  ',\n",
       " 'faik öztrak i̇çişleri bakanı bu kumpasta rol aldığını itiraf etti  ',\n",
       " 'acil servisi arılar bastı  ',\n",
       " 'nasa dünyaya eyfel kulesi büyüklüğünde asteroid yaklaşıyor  ',\n",
       " 'yılmaz özdil akp iktidarında yolsuzluktan suçlu bulunan tek siyasetçi var  ',\n",
       " 'adanadaki tefeci operasyonunda  gözaltı  ',\n",
       " 'eda taşpınardan  olay poz hayran bıraktı  ',\n",
       " 'sağlık bakanı koca haftalık vaka sayısını gösteren insidans haritasını yayımladı  ',\n",
       " 'melih gökçek ekrem i̇mamoğlunu eleştireyim derken yine rezil oldu  ',\n",
       " 'sosyal medyada infial yaratan iğrenç olay her detayı korkunç  ',\n",
       " 'yılmaz özdil sedat pekerin yakaladığı damar işte budur  ',\n",
       " 'francesca farago  minik bikinisiyle tüm bakışları üzerine çekti  ',\n",
       " 'küçük çocuklu anne hapse girmeyecek mini infaz paketinin detayları belli oldu  ',\n",
       " 'bahar candan ipleri kopardı tepkiler çığ gibi büyüdü  ',\n",
       " 'bursada kayıp alarmı  ',\n",
       " 'esnaf saat sınırlamasına tepkili bu şekilde pandemi değil sadece esnaf biter  ',\n",
       " 'denetime takıldı rekor ceza yedi  ',\n",
       " 'malatyada uyuşturucu operasyonu  gözaltı  ',\n",
       " 'meksikadan  ülkeye solunum cihazı desteği  ',\n",
       " 'i̇zmirde jandarmadan kumar baskını  bin lira ceza  ',\n",
       " 'barış terkoğlu dubaiden konuşan peker ile ankaradan karar veren mahkeme tuhaf bir kesişme yaşadı  ',\n",
       " 'i̇zmirde kamyonetle minibüs çarpıştı  ölü  yaralı  ',\n",
       " 'sondaki̇ka eyüpsultanda uzun namlulu silahla kafeyi taradılar  ölü  yaralı  ',\n",
       " 'sedat peker videoları alman basının diline düştü  ',\n",
       " 'resmi gazetede yayımlandı erdoğandan yeni atamalar  ',\n",
       " 'polonya savunma bakanı blaszczaktan bayraktar tb si̇ha paylaşımı  ',\n",
       " 'özgür özelden süleyman soyluya  bin dolar alan siyasetçi tepkisi  ',\n",
       " 'ak parti yeni torba yasa  teklifini tbmmye sundu  ',\n",
       " 'chpli ali mahir başarır erdoğana sedat pekerin  sözlerini hatırlattı utanç  duyuyorum  ',\n",
       " 'buski̇ faaliyetlerine meclis onayı  ',\n",
       " 'sedat peker soruşturmasının ayrıntıları belli oldu  ',\n",
       " 'antalyada dehşete düşüren kaza  yaşındaki hasan emre aracın camından fırlayıp öldü  ',\n",
       " 'kondadan sedat peker analizi akp bu meseleden kurtulamaz  ',\n",
       " 'cüneyt özdemir binali beyin yanıtını akpliler doğrulamıyor  ',\n",
       " 'adalet bakanından süleyman soyluya üstü kapalı cevap  ',\n",
       " 'ayvalıktan ada aldığı iddia edilen hülya avşar zenginlik  kötü bir şey  ',\n",
       " 'chpli sertelden bakan soyluya çav bella sorusu hani failleri yakalayıp ezan dinletecektiniz  ',\n",
       " 'tuvana türkay o sette dönen şantajları berbat olayları illa açık mı edeyim  ',\n",
       " 'japonya başbakanı sugadan covid odaklı olimpiyat eleştirilerine son nokta  ',\n",
       " 'merkez bankası başkanı kavcıoğlu erken gevşeme beklentisi ortadan kalkmalı  ',\n",
       " 'kılıçdaroğlundan süleyman soyluya  kuruşluk dava muhataba biçtiği değer gereğince  ',\n",
       " 'yağmurla gelen facia  ölü  yaralı  ',\n",
       " 'esnaf saat sınırlamasına tepkili bu şekilde pandemi değil sadece esnaf biter  ',\n",
       " 'bu da bitcoin ile tıraş  ',\n",
       " 'seda bakan bahçeyi podyuma çevirdi  ',\n",
       " 'mehmet ağar yalıkavak marinadan kovuldu iddiası  ',\n",
       " 'elazığda biten konutlar teslim edilmeye devam ediyor  depremzede daha evlerine kavuştu  ',\n",
       " 'fatih altaylıdan iktidara olay sözler açtı ağzını yumdu gözünü  ',\n",
       " 'hemşiresi darp edilirken araya giren doktor o anları anlattı  ',\n",
       " 'ayasofyada skandal görüntüler atatürke lanet okundu erdoğan dinledi  ',\n",
       " 'sağlık bakanı koca haftalık vaka sayısını gösteren insidans haritasını yayımladı  ',\n",
       " 'pkk provokatörlerine operasyon  gözaltı  ',\n",
       " 'sedat pekerin hürriyet baskını iddiasının ardından ak partili isimden flaş açıklama  ',\n",
       " ' yerinden bıçaklanan dilek hemşire boşanma savaşı veriyor  ',\n",
       " 'kılıçdaroğlu sedat pekerin ayrı dünyaların insanıyız açıklamasına cevap verdi süleyman soyluya böyle seslendi  ',\n",
       " 'kadın arkadaşı tarafından bıçaklandı   ',\n",
       " 'gelecek partisi genel başkan yardımcısı çevik partisinden istifa etti  ',\n",
       " 'i̇ki diplomat perde arkasını anlattı belarus krizinde natoya türkiye freni  ',\n",
       " 'ölüm döşeğinde adına kredi çektiler borçları mirasçılara kaldı  ',\n",
       " 'sedat peker kardeşinin ifadesini paylaşıp soyluya seslendi adamsan mehmet ağar ve korkut ekenin tutuklatsana  ',\n",
       " 'aktroller soyluya ilk defa destek olmadı  ',\n",
       " 'esra dermancıoğlundan olay paylaşım benim ağzıma sçsınlar  ',\n",
       " 'deniz zeyrek bugün sizinle okuduktan sonra ne günlere kaldık diyeceğiniz üç detay paylaşacağım  ',\n",
       " 'kayseri merkezli  ilde düzenlenen fetö operasyonunda  tutuklama  ',\n",
       " 'elazığda polis merkezine tüfekle gelen şahıs ikna yöntemiyle gözaltına alındı   ',\n",
       " 'nagihan karadere değişimiyle şoke etti  ',\n",
       " 'sedat pekerin kardeşi atilla pekerden şok açıklamalar  ',\n",
       " 'edevlet üzerinden sosyal yardım vurgunu  ',\n",
       " 'restoran sahibi yemeksepeti komisyonlarına isyan etti  ',\n",
       " 'bakanlığın hibe desteği listesinde pes dedirten iş kolu devlet eliyle yolsuzluğa prim mi  ',\n",
       " ' yıllık polis görevi başında intihar etti  ',\n",
       " 'whatsapptan flaş türkiye kararı  ',\n",
       " 'merkez bankasından kripto para açıklaması  ',\n",
       " 'ak parti myk toplandı  ',\n",
       " 'şeyma subaşına milyarder sevgilisinden evlilik teklifi  ',\n",
       " 'çakarlı magandadan şikayetinden vazgeçen dadaş arastan açıklama  ',\n",
       " 'hukukçu turgut kazandan sedat pekerin yakalama kararı hakkında çarpıcı iddia  ',\n",
       " 'emin çölaşandan pekerin videoları üzerinden iktidar cephesinde yaşananların analizini yaptı  ',\n",
       " 'fatih portakaldan sedat pekeri̇n  videosu hakkında yorum  ',\n",
       " 'francesca farago minik bikinisiyle tüm bakışları üzerine çekti  ',\n",
       " 'taksim metro istasyonunda intihar girişimi seferler durduruldu  ',\n",
       " 'bahçeliden atatürke  lanet okuyan imama çok sert tepki  ',\n",
       " 'i̇ngiltere merkez bankası başkanı bailey kripto varlıklar tehlikeli  ',\n",
       " 'sedat peker kardeşim suç itirafı yapacak  ',\n",
       " 'yurtta hava durumu  ',\n",
       " 'arkadaşlık teklifini reddeden öğretmeni öldürüp intihara kalkıştı  ',\n",
       " 'tıpta nadir durum yemek borusu olmadan doğdu   ',\n",
       " 'bigada  koyun yağmur sularına kapıldı  ',\n",
       " 'erdoğan konuştu trt youtube yorumlarını nasıl saklayacağını şaşırdı  ',\n",
       " 'korona virüse yakalanan genç akademisyen hayatını kaybetti  ',\n",
       " 'duygu özaslan  eskiden yaptığım hataların neresinden dönersem  ',\n",
       " 'menzilci edizerin hedefi bu kez bakan gül bir hafta sabredeceğim  ',\n",
       " 'katilin son paylaşımı dikkat çekti  ',\n",
       " 'ahmet takandan bomba iddia akp içinden muhalefete belge akmaya başladı büyük skandallar ortaya çıkacak  ',\n",
       " 'emily ratajkowski photoshop iddialarına sokak tarzıyla yanıt verdi  ',\n",
       " 'savcı sayan  trt öcalanı pkkyı çökertmek için ekrana çıkardı  ',\n",
       " 'türkiyede koronavirüsten  kişi daha hayatını kaybetti  bin  yeni vaka var  ',\n",
       " 'sondaki̇ka sağlık bakanı koca açıklama yapıyor    canliyayin izlemek için tıklayın   ',\n",
       " 'i̇çişleri bakanlığından lgs genelgesi  ',\n",
       " 'yılmaz özdilden erdoğana sessizlik eleştirisi asrın liderimiz hala susacak mı  ',\n",
       " 'dün açıldığı açıklanan sinema salonları bugün yayınlanan genelgeyle  temmuza kadar kapatıldı  ',\n",
       " 'ayşe begüm onbaşı  dünya şampiyonu oldu  ',\n",
       " 'uğur dündardan aslı baykal paylaşımı gözümün önüne kullanılmış eşya gibi bıraktığı  ',\n",
       " 'emin çölaşandan pekerin videoları üzerinden iktidar cephesinde yaşananların analizini yaptı  ',\n",
       " 'gecenin özeti yıllar  önceki sayın bakanım dizisinden  ',\n",
       " 'maskesiz günler geliyor i̇şte  haziran sonrası kafe restoran ve diğer iş yerleri için plan  ',\n",
       " 'bursada büyük uyuşturucu operasyonu  kişi tutuklandı  ',\n",
       " 'suudi arabistan seyahat yasağı kararını  ülke için kaldırdı  ',\n",
       " 'minibüs ağacın gövdesine saplandı  yaralı  ',\n",
       " 'nagihan karadere  değişimiyle şoke etti  ',\n",
       " 'adanada özel harekat destekli deaş operasyonu  ',\n",
       " 'cinayete kurban giden tuğçenin annesi kızımın hayatını tehditlerle zindan etti  ',\n",
       " 'i̇bb sözcüsü murat ongun ki̇ptaş yolsuzluğunu tek tek anlattı soruşturma dosyasını i̇çişleri bakanlığı aldı  ',\n",
       " 'meral akşener bu iddialar adam gibi araştırılmazsa diyerek erdoğana tarihi hatırlatmada bulundu  ',\n",
       " 'sedat pekerin masasındaki zarflarda neler yazıyor   sedatpeker pazar tayyipabi    ',\n",
       " 'antalyada dehşete düşüren kaza  yaşındaki hasan emre aracın camından fırlayıp öldü  ',\n",
       " 'kılıçdaroğlundan erdoğana yanıt sen git çetelerle magazincilik oyna  ',\n",
       " 'prof süleyman i̇rvan gazeteci suç örgütü liderini değil suç örgütü lideri gazeteciyi deşifre ediyor  ',\n",
       " 'lottie moss yemeğe öyle bir elbiseyle geldi ki yine tüm gözler ondaydı  ',\n",
       " 'bomba iddia süleyman soylu bu gece istifa edecek  ',\n",
       " 'ahmet takandan sert eleştiri cumhurbaşkanlığı makamında oturan zat racon keser mi  ',\n",
       " 'burcu esmersoyun yeni imajı olay oldu  ',\n",
       " 'i̇zleyicilerin dikkati sayesinde demi jonesun hayatı kurtuldu  ',\n",
       " 'ayvalıkta denizden enkaz çıkarma çalışmalarında son etap  ',\n",
       " 'aşı kararsızlığında muhtemel yan etki endişesi  ',\n",
       " 'adıyamanda metan gazı faciası  ölü  ',\n",
       " 'sedat peker videolarından sonra atv dizisinde dikkat çeken gelişme  ',\n",
       " 'kripto para borsası huobi söylentilere inanmayın  ',\n",
       " 'i̇stanbul havalimanında pcr test sonuç süresi kısaldı  saatte covid testi  ',\n",
       " 'süleyman soyluya mahkemeden şok emsal olacak karar  ',\n",
       " 'mucize doktorun  açelyası hayal köseoğlu soluğu tatilde aldı  ',\n",
       " 'kendini bıçakla eve kapatan madde bağımlısı şahıs özel harekat polisini harekete geçirdi  ',\n",
       " 'kahramanmaraşta silahlı kavga  ölü  yaralı  ',\n",
       " 'binali yıldırımdan sedat pekerin iddialara yanıt  ',\n",
       " 'bahçeli erdoğanın  yıllık dostunu fetöcü ilan etti i̇ttifak dağılıyor mu  ',\n",
       " 'sedat pekerden yeni paylaşım defne hanımın evinde kimin kalp krizi geçirdiğini açıklarım  ',\n",
       " 'demirtaşın avukatı karamandan abdulkadir selviye kulis bilgisi diyerek kıvırıyorsun herkesi aptal mı sanıyorsun  ',\n",
       " 'köfteci yusuf davasında sedat peker hakkında da iddianame hazırlandı  ',\n",
       " 'ahmet takandan sedat pekere açık mektup  ',\n",
       " 'esenyurtta sevgilileri barıştırmak isterken silahlar konuştu  ',\n",
       " 'chp atatürke lanet okuyan demirkandan şikayetçi oldu  ',\n",
       " 'sedat pekerin  videosunda yer alan çorbanın anlamı ne  ',\n",
       " 'sedat peker videoları alman basının diline düştü  ',\n",
       " 'bir meslek grubu daha aşı takvimine dahil edildi  ',\n",
       " 'bitliste jeotermal kaynak arama çalışması  ',\n",
       " 'erkam yıldırımın venezuelaya kaç tane maske ve kit götürdüğü belli oldu  ',\n",
       " 'uyurken diş sıkmak yüz genişlemesi nedeni  ',\n",
       " 'yurtta hava durumu  ',\n",
       " 'faik öztraktan erdoğana dünyanın neresinde cumhurbaşkanı muhalefeti tehdit eder  ',\n",
       " 'hukukçu turgut kazandan sedat pekerin yakalama kararı hakkında çarpıcı iddia  ',\n",
       " 'şanlıurfada genç kız ıncı kattan atladı  ',\n",
       " 'sedat pekerin nci videosu gelmeden sosyal medyanın gündemine oturdu  ',\n",
       " 'i̇zmirde bitcoin operasyonu  bin dolarlık vurgun  yapmışlar  ',\n",
       " 'aile bakanı derya yanık pandemide kadına şiddet olaylarındaki artış tolere edilebilir düzeyde  ',\n",
       " 'babacandan erdoğana faiz tepkisi kendini merkeze başkan ata  ',\n",
       " 'kozanda  cinayet şüphelisi serbest bırakıldı  ',\n",
       " 'maltepede evinin balkonunda bileklerini kesen şahıs eşini ve çocuklarını rehin aldı  ',\n",
       " 'hükümet yetkilisi sedat pekeri doğruladı soylunun iddialarını yalanladı  ',\n",
       " 'yıllar önce serpil örümcerin dizlerine oturarak poz vermişti göksel arsoy o günü anlattı  ',\n",
       " 'abd dışişleri bakanı blinken filistin devlet başkanı abbasla bir araya geldi  ',\n",
       " 'erdoğana hakkını helal etmeyen esnaf isyan etti  ',\n",
       " 'kız öğrenciyi darp edip zorla makyajını sildi  ',\n",
       " 'esnafa verilecek hibe desteği resmi gazetede  ',\n",
       " 'sedat peker süleyman soylu i̇brahim kalını takip ettiriyor  ',\n",
       " 'trafik kazası baba kızı ayırdı  ölü  ',\n",
       " 'uçuruma yuvarlanan kamyonetteki kız öğrenciler can pazarı yaşadı  ',\n",
       " 'yalıkavak marinadan mehmet ağar açıklaması  ',\n",
       " ' bin dolar alan siyasetçi denilen metin külünk sessizliğini bozdu  ',\n",
       " 'depo fareleri  saatlik kamera görüntüsü izlenerek yakalandı  ',\n",
       " 'faik öztraktan erdoğana dünyanın neresinde cumhurbaşkanı muhalefeti tehdit eder  ',\n",
       " 'sallanan  metrelik gökdelen paniğe neden oldu  ',\n",
       " 'sampp türkiye için değerlendirme yapmadı  ',\n",
       " 'binali yıldırımın oğlu erkam yıldırım sedat peker hakkında suç duyurusunda bulundu  ',\n",
       " 'temel karamollaoğlu  esnaf kongresinde konuştu yardım denildiği zaman borçlu olana banka yolu gösteriliyor  ',\n",
       " 'prens william ve prens harry prenses diananın ölümü için bbcyi suçladı   ',\n",
       " 'lemandan bomba sedat peker kapağı  ',\n",
       " 'pekerin iddiaları sonrası tuğrul türkeşin yıllar önce  vallahi de billahi de o  silahlar türkmenlere gitmiyordu sözleri yeniden gündem oldu  ',\n",
       " 'süleyman soylu hakkında suç işlemeye teşvik ve suçu örtme iddiasıyla suç duyurusu  ',\n",
       " 'nilperi şahinkaya son fotoğraflarıyla instagramı yaktı geçti gitgide giyindiğim bir gün  ',\n",
       " 'nevşin mengüden erdoğana siyasi hayatı boyunca yaptığı en tehlikeli açıklamalar arasında e girer  ',\n",
       " 'bergüzar korel hakkındaki soruşturmada karar çıktı  ',\n",
       " 'bugün hava nasıl olacak  mayıs  yurtta hava durumu  ',\n",
       " 'new york timestan erdoğan analizi sadık seçmenini kızdırdı  ',\n",
       " 'babacan benimle ilgili sorunlar varsa erdoğan partiden ayrılacağımı söylediğimde neden gitme kal diye ısrarcı oldu  ',\n",
       " 'ayda  kilo verdiren yağ yakıcı kahve tarifi  ',\n",
       " 'mucize doktorlar tatilde  ',\n",
       " 'sözcü yazarı öztürk pekerin iddiaları ülkemize yüklü miktarda kokain sokulduğunu doğruluyor peki bu kokainler kimin kim getirdi  ',\n",
       " 'likya yoluna yürüyeceğini belirten şahıstan  gündür haber alınamıyor  ',\n",
       " 'bm daimi temsilcisi linda thomas greenfield hatayda  ',\n",
       " 'ali koç yeniden aday olacak mı basın toplantısında açıkladı  ',\n",
       " 'i̇lhan cihaner pekerin iddiaları için devlet kurumları üç şekilde harekete geçebilir  ',\n",
       " 'i̇şte süleyman soylunun sedat peker çökmek istedi dediği köfteci yusuf dosyası  ',\n",
       " 'samsunda  bin  adet uyuşturucu hap ele geçti  gözaltı  ',\n",
       " 'son  saatte korona virüsten  kişi hayatını kaybetti  bin  yeni vaka  ',\n",
       " 'i̇ntihardan polis vazgeçirdi  ',\n",
       " 'trabzonlu i̇ş i̇nsanları ve bürokratları derneğinden süleyman soylu açıklaması  ',\n",
       " 'şeker komasına giren ünlü spiker fikret enginden kötü haber  ',\n",
       " 'mhpden bahçelinin beştepede ofisi var iddiasına yanıt  ',\n",
       " 'erzurumda feci kaza kendi aracının altında kalarak öldü  ',\n",
       " 'barış pehlivan süleyman soylunun pekere yakın gösterdiği özgür taşdemirin yanına eklediği isim tesadüf değil  ',\n",
       " 'erdoğanın hangi yollara taş döşediğini görmek için o fotoğrafa bakmak yeterli  ',\n",
       " 'batmanda kumar operasyonu  ',\n",
       " 'kamyonet şarampole devrildi  ölü  yaralı  ',\n",
       " 'marmara denizinde yaşanan müsilaj sorununun araştırma önergesi akp ve mhp oylarıyla reddedildi  ',\n",
       " 'bilim kurulu üyesi taşova virüsün nasıl değişeceğini bilmiyoruz  ',\n",
       " 'sedat pekerin hürriyet baskını iddiasının ardından ak partili isimden flaş açıklama  ',\n",
       " 'fatih portakaldan sedat peker videoları açıklaması artık birilerinin konuşması gerekmiyor mu  ',\n",
       " 'dilipaktan flaş bakanlar kurulu ve soylu iddiası  ',\n",
       " 'ceza ve i̇nfaz düzenlemesi tbmmde  ',\n",
       " 'i̇zmirde  kişinin öldüğü olayla ilgili  tutuklama  ',\n",
       " 'bakanlıklarda yeni atamalar resmi gazetede yayımlandı  ',\n",
       " 'o kadına  ay  gün hapis cezası  ',\n",
       " 'alkol komasından çıkan genç gazetecilere söz verdi  ',\n",
       " 'sedat pekerin videoları ortalığı karıştırdı erdoğanın soylu kararı belli iddiası  ',\n",
       " 'sergen yalçının genç sevgilisi lisaveti karibskayadan  iddialı pozlar  ',\n",
       " 'terör örgütü pydypgye  ilde operasyon  ',\n",
       " 'fetönün emniyet mahrem sorumlusu yakalandı   ',\n",
       " 'sedat pekerin mehmet ağar iddialarının ardından uğur dündardan çok konuşulacak yazı  ',\n",
       " 'dikkat uzman isim uyarıp tarih verdi  ',\n",
       " 'barış terkoğlu dubaiden konuşan peker ile ankaradan karar veren mahkeme tuhaf bir kesişme yaşadı  ',\n",
       " 'i̇ngiltere merkez bankası başkanı bailey kripto varlıklar tehlikeli  ',\n",
       " ' emekli amiralin bildirisine ilişkin soruşturmada ifadeler alınmaya devam  ediliyor  ',\n",
       " 'hangi ilde kaç doz aşı yapıldı i̇şte aşılamada son durum  ',\n",
       " 'asena yaptığı photoshopla sosyal medyanın diline düştü  ',\n",
       " 'anne akikol kızına tacizde bulunan kişi için idam istedi  ',\n",
       " 'serkay tütüncünün seks açıklaması başına bela oldu tiye aldı  ',\n",
       " 'seda bakan  bahçeyi podyuma çevirdi  ',\n",
       " 'maltepede korkunç kaza  ölü  yaralı  ',\n",
       " 'fetöpdy lideri fetullah gülenin yeğeni selahaddin gülen yakalanarak türkiyeye getirildi  ',\n",
       " 'yeni normalleşme kararıyla birlikte restoranlar hizmete açıldı  ',\n",
       " 'kütahya vaka sayısında türkiye incisi  ',\n",
       " 'altaylıdan müsilaja tepki akp ve mhpli vekillerin dikkatini çekmiyor  ',\n",
       " 'i̇smail saymaz pekerin açıklamaları türkiyenin itibarını sarsıyor erdoğan susuyor  ',\n",
       " 'tekirdağda inşaatın  katından düşen yaşlı adam hayatını kaybetti  ',\n",
       " 'cumhuriyet yazarı i̇nce akpnin niyeti şeriat devleti kurmak  ',\n",
       " 'futbolda şike soruşturmasını ilk başlatan polis ahmet kalendere en az  yıl hapis cezası verildi  ',\n",
       " 'mucize doktorlar tatilde  ',\n",
       " 'sedat peker belgeyi paylaştı savcılara seslendi  ',\n",
       " 'silah kaçakçılarına  ilde eş zamanlı operasyon  gözaltı   ',\n",
       " 'son yazın yağmuru hafsanur sancaktutanın pozu çok beğenildi  ',\n",
       " 'giresunda tünel içinde iki araç kafa kafaya çarpıştı  ölü  yaralı  ',\n",
       " 'i̇şte erdoğanın süleyman soylunun yerine i̇çişleri bakanlığına getirmeyi düşündüğü isim  ',\n",
       " 'bakan gül savcıların sedat pekerin i̇ddiaları i̇çin neden harekete geçmediğini açıkladı  ',\n",
       " 'i̇nceden erdoğana aklını başına al  ',\n",
       " 'köpeğin ayaklarını bağlayıp öldürdüler  ',\n",
       " 'sedat pekerin yalan makinesi çağrısına yanıt devlet görev versin yaparım  ',\n",
       " 'hadiseden eurovision açıklaması teklif gelirse neden olmasın  ',\n",
       " 'fransadan sedat pekere şarkılıklipli destek  ',\n",
       " 'maske takma uyarısında bulununca darp edildi  ',\n",
       " 'cumhurbaşkanı erdoğan canlı yayında gündeme ilişkin açıklama yapıyor  ',\n",
       " 'babacandan erdoğana korku iliklerine kadar işlemiş  ',\n",
       " 'aktroller soyluya ilk defa destek olmadı  ',\n",
       " 'yılmaz özdil akp iktidarında yolsuzluktan suçlu bulunan tek siyasetçi var  ',\n",
       " 'ali koçtan diyanete mektup kırgınım  ',\n",
       " 'soyludan aynı soruya   gün arayla iki farklı yanıt  ',\n",
       " 'kapadokya moda ile renklendi  ',\n",
       " 'i̇stanbulda narkotik operasyonu  gözaltı  ',\n",
       " 'türk tabipleri birliğinden bakanlığa acil çağrı  ',\n",
       " 'sultangazide genç kızların tekme tokat kavgası  ',\n",
       " 'bu habere inanmayın sosyal medyada elden ele dolaşıyor  ',\n",
       " 'sedat pekerin yayınladığı videoda tahtada yazanlar neyi işaret ediyor  ',\n",
       " 'sedat pekerden para alan milletvekili paylaşımı tayyip abi videosu neden ertelendi  ',\n",
       " 'melih gökçek mansur yavaşı hedef almak isterken baltayı taşa vurdu  ',\n",
       " 'yalıdaki kumar partisine denizden polis baskını  ',\n",
       " 'serbest piyasada gün sonu altın fiyatları   ',\n",
       " 'akpde istifa şoku peş peşe açıkladılar  ',\n",
       " 'atatürkün gençliğe hitabesi ve sosyal yardım alanlarla dalga geçen personeller hakkında soruşturma başlatıldı  ',\n",
       " 'soylunun baskısı sonrası intihar ettiği öne sürülen emniyet müdürünün son mesajı ortaya çıktı  ',\n",
       " 'yasakları eleştiren cumhuriyet savcısı eyüp akbulut hsk tarafından görevden uzaklaştırıldı  ',\n",
       " 'ahmet takandan bomba iddia akp içinden muhalefete belge akmaya başladı büyük skandallar ortaya çıkacak  ',\n",
       " 'miguel angel silvestreden  hande erçele cevap  ',\n",
       " 'sedat peker süleyman soylu ile erdal arasın fotoğrafını paylaştı  ',\n",
       " 'hdpden süleyman soylunun faili meçhul cinayet yok sözlerine tepki doğrusu şu  ',\n",
       " 'akşeneri öldürün taşlayın taşlayın sözlerine soruşturma  ',\n",
       " 'erdoğan konuştu trt youtube yorumlarını nasıl saklayacağını şaşırdı  ',\n",
       " 'yeni akit yazı i̇şleri müdürü bunlar i̇yi günleriniz daha neler olacak görün  ',\n",
       " 'esra erolda hayrete  düşüren olay eşim beni kardeşimin karısıyla aldatıyor  ',\n",
       " 'siteye erişilemiyor yeni bir çiftlikbank vakası mı  ',\n",
       " 'i̇zmirde jandarmadan zehir tacirlerine baskın  ',\n",
       " 'didimde korkunç cinayet defalarca bıçaklanan genç feci  şekilde can verdi  ',\n",
       " 'hamsinin kilosu  istavrit  liradan satılıyor  ',\n",
       " 'kılıçdaroğlu  kim bu siyasetçi cevap bekliyoruz  ',\n",
       " 'burdurda polis memuru evinde ölü bulundu  ',\n",
       " 'sedat pekerden süleyman soylunun akrabası sadık soyluyla ilgili dikkat çeken iddia  ',\n",
       " 'bomba iddia süleyman soylu erdoğana bu mesajı mı gönderdi  ',\n",
       " 'fatih altaylıdan habertürk yayınıyla ilgili kritik iddia i̇şte süleyman soylunun programa çıkma sebebi  ',\n",
       " 'sedat peker mehmet ağar kendi geçmişini temizlemek  için hepsini öldürdü  ',\n",
       " 'amasyada traktör köprüden yeşilırmaka uçtu  ',\n",
       " 'habertürk  meral akşenerin süleyman soyluya istifa çağrısı öncesi canlı yayını kesti  ',\n",
       " 'demi rose yaptığı paylaşımla yine kendine hayran bıraktı  ',\n",
       " 'ünlü oyuncu i̇lker aksum kaza yaptı  ',\n",
       " 'pelin akilden eşi  anıl altanın paylaşımına olay yorum amaç belli  ',\n",
       " 'fatih altaylıdan habertürk yayınıyla ilgili kritik iddia i̇şte süleyman soylunun programa çıkma sebebi  ',\n",
       " 'sedat pekerin  videosunda yer alan çorbanın anlamı ne  ',\n",
       " 'masumiyetin  elası i̇layda alişandan tatil pozu  ',\n",
       " 'ayasofyanın eski imamı boynukalın taksim cami ile geri döndü  ',\n",
       " 'şeyma subaşı futbolcu michael ballacki deşifre etti gündem oldular  ',\n",
       " 'yaprak kıpırdamayan ikinci el oto piyasasında normalleşmeyle birlikte hareketlilik  bekleniyor  ',\n",
       " 'ece seçkin iç çamaşırsız pozlarıyla instagramı salladı  ',\n",
       " 'i̇ngiltereden türkiye için kırmızı liste kararı  ',\n",
       " 'yılmaz özdilden lale yazısı sülale devrinin lalesi anca böyle  ',\n",
       " 'sedat pekerden para alan milletvekili paylaşımı tayyip abi videosu neden ertelendi  ',\n",
       " 'burdur valisinden tuhaf erkam yıldırım paylaşımı  ',\n",
       " 'mustafa cengiz ben sevgili fatih hoca ile devam etmeyi düşünmüyorum  ',\n",
       " 'spiker canlı yayın kapandı sandı öyle bir şey yaptı ki gözlerinize i̇nanamayacaksınız  ',\n",
       " 'i̇stanbulda terör örgütü deaşa yönelik eş zamanlı düzenlenen operasyonlar  ',\n",
       " 'canan kaftancıoğlu hakkında zorla getirme kararı  ',\n",
       " 'chpli ağbabadan gri pasaport açıklaması  ',\n",
       " 'davutoğlundan süleyman soylu hakkında çarpıcı açıklama gerekirse ak partiyi yakarım mesajı verdi  ',\n",
       " 'sondaki̇ka akpden sedat pekerin iddialarıyla ilgili ilk açıklama  ',\n",
       " 'eski başbakan gelecek partisi lideri davutoğluna meclis önünde polis engeli  ',\n",
       " 'chpli mahmut tanal meclis başkanına  dakikada arka arkaya  kez sordu mafyadan aylık  bin dolar alan siyasetçi kimdir  ',\n",
       " 'i̇lhan cihaner pekerin iddiaları için devlet kurumları üç şekilde harekete geçebilir  ',\n",
       " 'yılmaz özdil sedat pekerin yakaladığı damar işte budur  ',\n",
       " 'emily ratajkowski  sınırları zorladı kocasının üstüne çıkıp  ',\n",
       " 'cem yılmaz eski eşine ödediği  bin dolarlık nafakanın azaltılmasını istedi  ',\n",
       " 'marinadan kovulduğu iddia edilen mehmet ağardan ilk açıklama  ',\n",
       " 'saraydan soylu ve binali yıldırım açıklaması  ',\n",
       " 'bilim kurulu üyesi taşova pandemi argeye olan önemi ortaya çıkarttı  ',\n",
       " 'akşeneri öldürün taşlayın taşlayın sözlerine soruşturma  ',\n",
       " 'hong kongda hapiste bulunan medya patronu laiye  ay yeni hapis cezası  ',\n",
       " 'dilipaktan flaş bakanlar kurulu ve soylu iddiası  ',\n",
       " 'i̇srailde cumhurbaşkanlığı yarışını isaac herzog kazandı   ',\n",
       " 'ankara kulisleri kızıştı saraydaki iktidar kapışmasının bir parçası mı bilemem ama duyduklarım çok önemli  ',\n",
       " 'şişlide viyadük altında yanan  otomobilde kundaklama şüphesi  ',\n",
       " 'sedat peker emre olur bana anlattı demişti o itiraf yargıya taşınıyor  ',\n",
       " 'son ankette sedat peker şoku doğru söylediğine inananların oranı  ',\n",
       " 'müge anlıdaki iddialar kan dondurdu  ',\n",
       " 'sedat pekerin internet sitesine erişim engellendi  ',\n",
       " ' polis gözaltına alındı şube müdürünün yeri değiştirildi  ',\n",
       " 'özlem yıldıza bakan  bir daha baktı  ',\n",
       " 'sağlık bakanı koca maskelerin yüzümüzü terlettiği son yaz bu yaz olacak  ',\n",
       " 'kadın arkadaşı tarafından bıçaklandı  ',\n",
       " 'rasim ozan kütahyalıdan sedat pekerin berat albayrak iddiasıyla ilgili açıklama   sedatpeker pazar        ',\n",
       " 'erkam yıldırımın venezuela gezisinde yeni gelişme ülkedeki türkler binali yıldırımı yalanladı  ',\n",
       " 'bodrumda doludizgin  aşk i̇lker kaleli ve sıla aşkı belgelendi  ',\n",
       " 'adnan oktarın evinde polisi bile şoke eden cem küçük belgeleri  ',\n",
       " 'şarkıcı oyuncu  yönetmen üçlü aşk görüntüleri gündeme bomba gibi düştü  ',\n",
       " 'yaz günü munzurda kızak keyfi  ',\n",
       " 'kısıtlama saatinde dışarıda olan gençler polislere yakalandı  ',\n",
       " 'devlet bahçeli süleyman soylu yalnız değildir  ',\n",
       " 'asmalı konakın  diclesi son haliyle şaşırttı  ',\n",
       " 'atilla peker hakkında kutlu adalı cinayetiyle ilgili soruşturma başlatıldı  ',\n",
       " 'silahla oynayan çocuk annesini vurdu  ',\n",
       " 'yılmaz özdilden i̇talyan savcıyı yazdı türkiye savcı di pietrosunu arıyor  ',\n",
       " 'burcu esmersoyun yeni imajı olay oldu  ',\n",
       " 'fatih tezcan hakkında soruşturma başlatıldı  ',\n",
       " 'rasim ozan kütahyalıdan sedat pekerin berat albayrak  iddiasıyla ilgili açıklama  ',\n",
       " 'osmaniye merkezli  ilde kaçak akaryakıt operasyonu  ',\n",
       " 'yılmaz özdil sedat peker hakkında ne yazmıştı  ',\n",
       " 'i̇stanbulda kaçak sigara operasyonu  bin paket ele geçirildi   ',\n",
       " 'cumhurbaşkanı erdoğan trt canlı yayınında soruları yanıtlıyor   canliyayin  ',\n",
       " 'şiddetli fırtına ayvalıkta hayatı felç etti  ',\n",
       " 'boşanma aşamasındaki kocası aracını alev alev yaktı  ',\n",
       " 'tolga karelden şoke eden sedat peker paylaşımı adamdır  ',\n",
       " 'abdde kritik türkiye kararı tam  milyar dolar  ',\n",
       " 'bahçelinin fişini çektiği eski sağ kolundan akpye olay gönderme  ',\n",
       " 'atilla peker hakkında kutlu adalı cinayetiyle ilgili soruşturma başlatıldı  ',\n",
       " 'kanseri  kez yenen  bahar öztanın son hali sosyal medyayı salladı  ',\n",
       " 'esra erolda hayrete düşüren olay eşim beni kardeşimin karısıyla aldatıyor  ',\n",
       " 'bodrumda vatandaşlar kafe ve restoranlara akın etti  ',\n",
       " 'otomobil ile hafif ticari araç çarpıştı  yaralı  ',\n",
       " 'son yazın yağmuru  hafsanur sancaktutanın pozu çok beğenildi  ',\n",
       " 'barakada şüpheli ölüm  ',\n",
       " 'fatih altaylıdan sedat peker yazısı utanarak itiraf ediyorum  ',\n",
       " 'sedat peker açıklayacağım dedi özelden süleyman soyluya çağrı  ',\n",
       " 'aa sedat pekere dhkpc tehdidi bahanesiyle verilen koruma kararında fetö izi tespit edildi  ',\n",
       " 'canlı bomba sanılan kadının başına silah dayandı gerçek ortaya çıkınca  ',\n",
       " 'ambulans helikopter  günlük bebek için havalandı  ',\n",
       " 'can dündar sedat peker bana tir haberleri nedeniyle asılmayı hak ettin diye mesaj göndermişti  ',\n",
       " 'eski ösym başkanı ali demirin fetöden yargılanmasına devam edildi  ',\n",
       " 'kılıçdaroğlundan erdoğana jet yanıt mafya ağzıyla trol gibi konuşmaya başlamış  ',\n",
       " 'sedat pekerin nci videosu gelmeden sosyal medyanın gündemine oturdu sedatpeker  ',\n",
       " 'ünlü futbolcunun eşinin çakarlı sirenli i̇stanbul turu tepki topladı  ',\n",
       " 'twitter mavi tik özelliğini bütün kullanıcılarına açtı  ',\n",
       " 'akp sözcüsü ömer çelikten erken seçim açıklaması  ',\n",
       " 'adanadaki kadın cinayetlerine  gözaltı  ',\n",
       " 'sedat pekerin iddiaları meclis gündeminde  ',\n",
       " 'emin çölaşan bir siyasi parti genel başkanını bile koruyamayan devlet mi  ',\n",
       " 'emin çölaşandan erdoğan ve bahçeliye sedat peker çağrısı seçim zamanı yaklaşıyor  ',\n",
       " 'fatih altaylıdan sedat pekere gündeme oturacak soru  ',\n",
       " 'sadattan peker açıklaması  ',\n",
       " ' tl dolandırdı  yıl hapis cezası aldı  ',\n",
       " 'hadi özışıkla ilgili flaş karar görevine son verildi  ',\n",
       " 'ceza ve i̇nfaz düzenlemesi tbmmde  ',\n",
       " 'ahmet hamoğlundan sedat pekerin iddialarına yanıt  ',\n",
       " 'i̇zmir barosundan sert açıklama  ',\n",
       " 'ünlü futbolcunun eşinin çakarlı sirenli i̇stanbul turu tepki topladı  ',\n",
       " 'cumhuriyet yazarı i̇nce akpnin niyeti şeriat devleti kurmak  ',\n",
       " 'kılıçdaroğlu sahaya iniyor  ',\n",
       " 'erdoğan kanal i̇stanbulun sağında solunda iki şehir inşa edeceğiz  ',\n",
       " 'kırışıklıklara karşı savaşan  doğal yağ  ',\n",
       " 'sedat pekerin videoları neden rekor düzeyde izleniyor diyen emin çölaşan nedenini açıklayayım  ',\n",
       " 'sondaki̇ka sedat pekerden gözaltına alınan kardeşi atilla pekerin ardından açıklama  ',\n",
       " 'hindistanı yaas kasırgası vurdu  ',\n",
       " 'sarat i̇ttifakında gerilim mhp ve akp arasındaki süreç en başa dönebilir  ',\n",
       " 'abd basınından hapsi istenen i̇mamoğlu analizi erdoğandan daha popülerken  ',\n",
       " 'tekirdağda inşaatın  katından düşen yaşlı adam hayatını kaybetti  ',\n",
       " 'bahar candandan bomba paylaşım doçent doktor babam umarım kızmaz  ',\n",
       " 'sarat i̇ttifakında gerilim mhp ve akp arasındaki süreç en başa dönebilir  ',\n",
       " 'merdan yanardağ devlet içinde bir itişmenin olduğu net şekilde ortaya çıktı  ',\n",
       " 'kuli̇s süleyman soylu i̇stifaya hazırlanıyor  ',\n",
       " 'hafif ticari araç motosikletle kafa kafaya çarpıştı  ağır yaralı  ',\n",
       " 'karantina süresi değişti sağlık bakanlığı temaslı takibi rehberini güncelledi  ',\n",
       " 'leyla aydemir davasında şoke eden ses kaydı ortaya çıktı afad ekibi sessiz kalmış  ',\n",
       " 'melih gökçek mansur yavaşı hedef almak isterken baltayı taşa vurdu  ',\n",
       " 'chpden zor soru venezuelaya maske ve test kiti taşıma görevini kim verdi  ',\n",
       " 'hastanın rahminden  miyom çıktı  ',\n",
       " ' yaşındaki market sahibi aracında ölü bulundu  ',\n",
       " ' yıl boyunca üvey babasının cinsel tacizine uğrayan küçük kızın günlüğünden kan donduran satırlar  ',\n",
       " 'kahramanmaraşta sarımsakta  bin ton rekolte gerçekleşti  ',\n",
       " 'ünlü model rhian  sugden kendisine gelen ahlaksız teklifleri bir bir ifşa etti  ',\n",
       " 'bekçilerin darp ettiği gençlere su bile vermemişler  ',\n",
       " 'milyonluk manzaralı evlerde bedava oturuyorlar  ',\n",
       " 'emin çölaşan i̇ktidarın işini şimdi gölgesine sığınmaya kalkıştıkları bu yler bitirecek  ',\n",
       " 'dezenfektan üretimi süsü ile sahte alkol üretenlere operasyon  ',\n",
       " 'sedat pekerin iddialarına vatandaş böyle tepki gösterdi tayyip kendini kandırsın bizi kandıramaz  ',\n",
       " 'ukraynadan gazipaşaya ilk charter seferi  ',\n",
       " 'akp sözcüsü ömer çelikten erken seçim açıklaması  ',\n",
       " 'en zehirli türler arasında yer alıyor o ilde görüldü  ',\n",
       " 'rizede trafik kazası  ölü  yaralı  ',\n",
       " 'kanseri  kez yenen bahar öztanın son hali sosyal medyayı salladı  ',\n",
       " 'bahar şahinden şeyma subaşına olay gönderme eniştemiz sağ olsun  ',\n",
       " 'cemal enginyurt  ak türkçe dedi sosyal medya yıkıldı  ',\n",
       " 'i̇stanbulda terör örgütü deaşa yönelik eş zamanlı düzenlenen operasyonlar  ',\n",
       " 'kredi kartı borçlarıyla ilgili flaş karar artık tarihe karışacak  ',\n",
       " 'genç kız annesinden boşanmak isteyen babasını öldürdü  ',\n",
       " 'chpli ali mahir başarır erdoğana sedat pekerin sözlerini hatırlattı utanç duyuyorum  ',\n",
       " 'aleyna çakır davasında zorla getirme kararı  ',\n",
       " 'davutoğlundan süleyman soyluya ağır sözler bunları satan kişiden devlet adamı olur mu  ',\n",
       " 'sondaki̇ka dsö sinovaca acil kullanım onayı verdi  ',\n",
       " 'sedat peker  videosunu yayınladı uğur mumcu suikastı binali yıldırımın oğlu ve uyuşturucu iddiaları  ',\n",
       " 'cumhurbaşkanlığı sitesinde erdoğanın konuşmasından hangi bölüm kaldırıldı bu bir pişmanlık belirtisi mi  ',\n",
       " 'maskesiz günler geliyor i̇şte  haziran sonrası kafe restoran ve diğer iş yerleri için plan  ',\n",
       " 'özgür özelden ömer çelike atatürk yanıtı bu mesajı bir bayrama saklayın  ',\n",
       " 'i̇ngiliz firma atıkların türkiyeye gönderilmesiyle alay etti  ',\n",
       " 'twitter mavi tik özelliğini bütün kullanıcılarına açtı  ',\n",
       " 'mardinde boş arazide erkek cesedi bulundu  ',\n",
       " 'yeni akit yazarı abdurrahman dilipaktan iktidara zehir zemberek sözler ye kürküm ye doymak bilmiyorlar  ',\n",
       " 'kendini asan itfaiyeciyi ipten aldı  ',\n",
       " 'sevgilisiyle tatil  yapan demet özdemir bikinili pozlarıyla olay oldu  ',\n",
       " 'boluda ayıların saldırdığı vatandaş yaralı kurtuldu  ',\n",
       " 'balıkçı teknesi alabora oldu  ölü  ',\n",
       " 'milyonlarca borçluyu ilgilendiren gelişme tbmmde kabul edildi  ',\n",
       " 'prens william ve prens harry prenses diananın ölümü için bbcyi suçladı  ',\n",
       " 'erdoğanın eski kara kutusu süleyman soyluyla ilgili öyle şeyler söyledi ki  ',\n",
       " 'yaralı halde  kilometre yürüyüp arkadaşlarından yardım istedi  ',\n",
       " 'dünyaca ünlü kuruluş duyurdu akpli yetkiliden ortalığı karıştıracak sedat peker açıklaması  ',\n",
       " 'karantina süresi değişti sağlık bakanlığı temaslı takibi rehberini güncelledi  ',\n",
       " 'i̇mam ile cami cemaatinin vakit namazı tartışması karakolda bitti  ',\n",
       " 'kuraklık endişesi anadoluyu sardı  ',\n",
       " 'nevşin mengü sedat peker yayını yaptı yorumlar çileden çıkardı kafayı cinsellikle bozmuşsunuz  ',\n",
       " 'kırıkkalede trafik kazası i polis  kişi yaralandı  ',\n",
       " 'küçükçekmecedeki vahşette yeni detaylar ortaya çıktı  ',\n",
       " ' yıllık polis görevi başında intihar etti  ',\n",
       " 'koronavirüsü  atlatan buse i̇skenderoğlu formunu nasıl koruduğunu anlattı  ',\n",
       " 'korkunç olay  yaşındaki genç ağaca asılı halde ölü bulundu  ',\n",
       " 'i̇talyada teleferik düştü  ölü  ',\n",
       " 'ünlü oyuncu i̇lker aksum kaza yaptı  ',\n",
       " 'i̇ngiltere başbakanı johnson gizli törenle evlendi  ',\n",
       " 'sedat pekerin nci videosu gelmeden sosyal medyanın gündemine oturdu  ',\n",
       " 'merdan yanardağ devlet içinde bir itişmenin olduğu net şekilde ortaya çıktı  ',\n",
       " 'mehmet ağarın oğlu tolga ağar da sonunda ayrıldı  ',\n",
       " 'mucize doktorun kızları tatilde olay paylaşımlar  ',\n",
       " 'metropollden çarpıcı anket erdoğan büyük farklarla kaybediyor  ',\n",
       " 'i̇ngiltere başbakanı johnson eski başdanışmanı cummingsin iddialarını reddetti  ',\n",
       " 'ümraniyede kamyonet bariyerlere çarptı demir profiller yola savruldu  ',\n",
       " 'uyuşturucu sevkıyatında yeni taktik bm raporunda maske ve dezenfektanla kamufle ediliyor  ',\n",
       " 'almanya dışişleri bakanı maastan skandal i̇srail açıklaması  ',\n",
       " 'aynı anda görüldüler görenler şaşkınlıklarını gizleyemedi  ',\n",
       " 'beyaz saraydan bidenerdoğan görüşmesi açıklaması  ',\n",
       " 'polisle esnaf arasındaki ruhsat tartışması arbedeye döndü  ',\n",
       " 'ezgi molaya musa orhana hakaretten hapis i̇stemi   yalnızdeğilsinezgimola twitter türkiye gündeminde  sırada   ',\n",
       " 'bahçeli erdoğanın  yıllık dostunu fetöcü ilan etti i̇ttifak dağılıyor mu  ',\n",
       " 'kaybolan köpeğin sahibiyle buluşma anları duygulandırdı  ',\n",
       " 'yasa dışı bahis sitesinden gelen süleyman soylusedat peker mesajı şoke etti  sedatpeker    ',\n",
       " 'varlık fonu sonrası zarar devam ediyor çaykurun borcu  milyarı aştı  ',\n",
       " 'aşı kararsızlığında muhtemel yan etki endişesi  ',\n",
       " 'esnaf saat sınırlamasına tepkili bu şekilde pandemi değil sadece esnaf biter  ',\n",
       " 'erdoğan özel yayınındaki gazeteciden çankaya köşkünden bakın ben namaz kılıyorum paylaşımı  ',\n",
       " 'çamlıca kulesine giriş ücreti ve kaferestoran fiyatları belli oldu  ',\n",
       " 'seren serengil yaptığı photoshopla sosyal medyanın yine diline düştü  ',\n",
       " 'bahçeliden atatürke lanet okuyan imama çok sert tepki  ',\n",
       " 'kayseri merkezli  ilde fetö operasyonu  gözaltı kararı  ',\n",
       " 'erdoğanın chpye yönelik darbe açıklamalarına chpli altaydan sert tepki darbe paranoyası işini aşmış  ',\n",
       " 'the guardianda pekerin gelecek videolarıyla ilgili bomba iddia nihai hedef erdoğan  ',\n",
       " 'hem kısıtlamayı ihlal etti hem kavga edip polise niye geç geliyorsunuz dedi  ',\n",
       " 'fetönün tskdan sonra emniyet içindeki kriptolarına yönelik ilk ankesör operasyonu  ',\n",
       " 'i̇ngiltere varyantı yerel bulaşa hakim  ',\n",
       " 'chpli altaydan erdoğanın  tehdit açıklamalarına tepki  bizi öldürecek misin  ',\n",
       " 'chpli ali mahir başarır erdoğana sedat pekerin sözlerini hatırlattı utanç duyuyorum  ',\n",
       " ' milyar dolar nerede afişleri hakkında mahkemeden karar  ',\n",
       " 'levent kırcanın o skeci yeniden gündem oldu  ',\n",
       " 'tanga ipiyle gelen ölüm yunusun yüzgecine dolandı  ',\n",
       " 'memleket partisi lideri i̇nce seçime katılma şartlarını kolaylaştıralım sınırlamasın bizi buyurun hodri meydan  ',\n",
       " 'yurtta hava durumu  ',\n",
       " 'i̇ngiltere varyantı yerel bulaşa hakim  ',\n",
       " 'türkiyede koronavirüsten  kişi daha hayatını kaybetti  bin  yeni vaka var  ',\n",
       " 'sağlık bakanı koca bilim kurulu toplantısının ardından açıklama yapıyor  ',\n",
       " 'hastane otoparkındaki cinayete  yıl hapis  ',\n",
       " 'bütün gemiler yandı sadece bir tane kaldı onu da sedat peker cebinde tutuyor  ',\n",
       " 'aranan kadının sevgilisi intihar girişiminde bulundu  ',\n",
       " 'soylunun baskısı sonrası intihar ettiği öne sürülen emniyet müdürünün son mesajı ortaya çıktı  ',\n",
       " 'bütün gemiler yandı sadece bir tane kaldı onu da sedat peker cebinde tutuyor  ',\n",
       " ...]"
      ]
     },
     "execution_count": 226,
     "metadata": {},
     "output_type": "execute_result"
    }
   ],
   "source": [
    "X_train"
   ]
  },
  {
   "cell_type": "code",
   "execution_count": 227,
   "id": "31789798",
   "metadata": {},
   "outputs": [
    {
     "data": {
      "text/plain": [
       "[506     1\n",
       " 1539    0\n",
       " 1912    0\n",
       " 931     0\n",
       " 2679    0\n",
       "        ..\n",
       " 1419    1\n",
       " 2378    1\n",
       " 2554    0\n",
       " 1507    0\n",
       " 445     0\n",
       " Name: Tweets_duygu, Length: 544, dtype: int32,\n",
       " 506     4\n",
       " 1539    3\n",
       " 1912    2\n",
       " 931     0\n",
       " 2679    5\n",
       "        ..\n",
       " 1419    4\n",
       " 2378    4\n",
       " 2554    2\n",
       " 1507    4\n",
       " 445     4\n",
       " Name: sınıflandırma, Length: 544, dtype: int32]"
      ]
     },
     "execution_count": 227,
     "metadata": {},
     "output_type": "execute_result"
    }
   ],
   "source": [
    "y_test"
   ]
  },
  {
   "cell_type": "code",
   "execution_count": null,
   "id": "967f8ee0",
   "metadata": {},
   "outputs": [],
   "source": []
  },
  {
   "cell_type": "code",
   "execution_count": null,
   "id": "28e4848c",
   "metadata": {},
   "outputs": [],
   "source": []
  },
  {
   "cell_type": "code",
   "execution_count": 228,
   "id": "ddae1279",
   "metadata": {},
   "outputs": [
    {
     "name": "stdout",
     "output_type": "stream",
     "text": [
      "<class 'list'>\n"
     ]
    }
   ],
   "source": [
    "print(type(X_train))"
   ]
  },
  {
   "cell_type": "code",
   "execution_count": null,
   "id": "489a072e",
   "metadata": {},
   "outputs": [],
   "source": []
  },
  {
   "cell_type": "code",
   "execution_count": null,
   "id": "2ca8f7b7",
   "metadata": {},
   "outputs": [],
   "source": []
  },
  {
   "cell_type": "code",
   "execution_count": 229,
   "id": "3df6fa49",
   "metadata": {},
   "outputs": [],
   "source": [
    "# tokenizer=Tokenizer(oov_token=\n",
    "#\n",
    "# tokenizer.fit_on_texts(X_train)\n",
    "# word_index=tokenizer.word_index"
   ]
  },
  {
   "cell_type": "code",
   "execution_count": 230,
   "id": "be2ba806",
   "metadata": {
    "pycharm": {
     "name": "#%%\n"
    }
   },
   "outputs": [],
   "source": [
    "# tokenizer yapama ve  sequence yapam ve post padding kullanmak\n",
    "oov_tok = \"<OOV>\"\n",
    "tokenizer = Tokenizer(num_words=10000, oov_token=oov_tok)\n",
    "tokenizer.fit_on_texts(X_train)\n",
    "\n",
    "word_index = tokenizer.word_index\n",
    "\n",
    "training_sequences = tokenizer.texts_to_sequences(X_train)\n",
    "training_padded = pad_sequences(training_sequences, maxlen=100, padding='post', truncating='post')\n",
    "\n",
    "testing_sequences = tokenizer.texts_to_sequences(X_test)\n",
    "testing_padded = pad_sequences(testing_sequences, maxlen=100, padding='post', truncating='post')\n"
   ]
  },
  {
   "cell_type": "code",
   "execution_count": 231,
   "id": "d58af2d7",
   "metadata": {
    "pycharm": {
     "name": "#%%\n"
    }
   },
   "outputs": [],
   "source": [
    "# \n",
    "training_padded = np.array(training_padded)\n",
    "\n",
    "testing_padded = np.array(testing_padded)\n"
   ]
  },
  {
   "cell_type": "code",
   "execution_count": 232,
   "id": "3a7e0db9",
   "metadata": {},
   "outputs": [],
   "source": [
    "\n",
    "\n",
    "Y1_train=np.array(Y1_train)\n",
    "Y2_train=np.array(Y2_train)\n",
    "Y1_test=np.array(Y1_test)\n",
    "Y2_test=np.array(Y2_test)\n",
    "\n"
   ]
  },
  {
   "cell_type": "code",
   "execution_count": 233,
   "id": "6a6c9e88",
   "metadata": {},
   "outputs": [
    {
     "ename": "IndexError",
     "evalue": "index 5 is out of bounds for axis 1 with size 2",
     "output_type": "error",
     "traceback": [
      "\u001b[1;31m---------------------------------------------------------------------------\u001b[0m",
      "\u001b[1;31mIndexError\u001b[0m                                Traceback (most recent call last)",
      "Cell \u001b[1;32mIn[233], line 1\u001b[0m\n\u001b[1;32m----> 1\u001b[0m Y2_train \u001b[38;5;241m=\u001b[39m \u001b[43mtf\u001b[49m\u001b[38;5;241;43m.\u001b[39;49m\u001b[43mkeras\u001b[49m\u001b[38;5;241;43m.\u001b[39;49m\u001b[43mutils\u001b[49m\u001b[38;5;241;43m.\u001b[39;49m\u001b[43mto_categorical\u001b[49m\u001b[43m(\u001b[49m\u001b[43mY2_train\u001b[49m\u001b[43m,\u001b[49m\u001b[43m \u001b[49m\u001b[43mnum_classes\u001b[49m\u001b[38;5;241;43m=\u001b[39;49m\u001b[43mnum_classes_Y2\u001b[49m\u001b[43m)\u001b[49m\n\u001b[0;32m      2\u001b[0m Y2_test \u001b[38;5;241m=\u001b[39m tf\u001b[38;5;241m.\u001b[39mkeras\u001b[38;5;241m.\u001b[39mutils\u001b[38;5;241m.\u001b[39mto_categorical(Y2_test, num_classes\u001b[38;5;241m=\u001b[39mnum_classes_Y2)\n\u001b[0;32m      5\u001b[0m Y1_train \u001b[38;5;241m=\u001b[39m Y1_train\u001b[38;5;241m.\u001b[39mreshape(\u001b[38;5;241m-\u001b[39m\u001b[38;5;241m1\u001b[39m, \u001b[38;5;241m1\u001b[39m)\n",
      "File \u001b[1;32m~\\anaconda3\\lib\\site-packages\\keras\\src\\utils\\np_utils.py:74\u001b[0m, in \u001b[0;36mto_categorical\u001b[1;34m(y, num_classes, dtype)\u001b[0m\n\u001b[0;32m     72\u001b[0m n \u001b[38;5;241m=\u001b[39m y\u001b[38;5;241m.\u001b[39mshape[\u001b[38;5;241m0\u001b[39m]\n\u001b[0;32m     73\u001b[0m categorical \u001b[38;5;241m=\u001b[39m np\u001b[38;5;241m.\u001b[39mzeros((n, num_classes), dtype\u001b[38;5;241m=\u001b[39mdtype)\n\u001b[1;32m---> 74\u001b[0m categorical[np\u001b[38;5;241m.\u001b[39marange(n), y] \u001b[38;5;241m=\u001b[39m \u001b[38;5;241m1\u001b[39m\n\u001b[0;32m     75\u001b[0m output_shape \u001b[38;5;241m=\u001b[39m input_shape \u001b[38;5;241m+\u001b[39m (num_classes,)\n\u001b[0;32m     76\u001b[0m categorical \u001b[38;5;241m=\u001b[39m np\u001b[38;5;241m.\u001b[39mreshape(categorical, output_shape)\n",
      "\u001b[1;31mIndexError\u001b[0m: index 5 is out of bounds for axis 1 with size 2"
     ]
    }
   ],
   "source": [
    "Y2_train = tf.keras.utils.to_categorical(Y2_train, num_classes=num_classes_Y2)\n",
    "Y2_test = tf.keras.utils.to_categorical(Y2_test, num_classes=num_classes_Y2)\n",
    "\n",
    "\n",
    "Y1_train = Y1_train.reshape(-1, 1)\n",
    "Y1_test = Y1_test.reshape(-1, 1)\n",
    "print(Y2_train[:10])\n",
    "print(Y1_train[:10])"
   ]
  },
  {
   "cell_type": "code",
   "execution_count": 234,
   "id": "7b160eb0",
   "metadata": {},
   "outputs": [],
   "source": [
    "# # model tasarim\n",
    "# sq_model = tf.keras.Sequential([\n",
    "#     tf.keras.layers.Embedding(10000, 16, input_length=100),\n",
    "#     tf.keras.layers.GlobalAveragePooling1D(),\n",
    "#     tf.keras.layers.Dense(24, activation='relu'),\n",
    "#      tf.keras.layers.Dense(64, activation='relu'),\n",
    "#     tf.keras.layers.Dense(7, activation='sigmoid')\n",
    "# ])\n",
    "\n",
    "\n",
    "# sq_model.compile(optimizer='adam',\n",
    "#               loss=tf.keras.losses.categorical_crossentropy,\n",
    "#               metrics=['accuracy'])\n",
    "\n",
    "# Y1_train = Y1_train.reshape(-1, 1)\n",
    "# Y1_test = Y1_test.reshape(-1, 1)\n",
    "\n",
    "# history = sq_model.fit(training_padded, Y2_train, \n",
    "#                     validation_data=(testing_padded, Y2_test),\n",
    "#                     epochs=1)"
   ]
  },
  {
   "cell_type": "code",
   "execution_count": null,
   "id": "ccdc0f03",
   "metadata": {},
   "outputs": [],
   "source": [
    "\n"
   ]
  },
  {
   "cell_type": "code",
   "execution_count": null,
   "id": "ecba2288",
   "metadata": {},
   "outputs": [],
   "source": []
  },
  {
   "cell_type": "code",
   "execution_count": 195,
   "id": "e94231b1",
   "metadata": {},
   "outputs": [
    {
     "ename": "ValueError",
     "evalue": "Data cardinality is ambiguous:\n  x sizes: 2172\n  y sizes: 1086, 2172\nMake sure all arrays contain the same number of samples.",
     "output_type": "error",
     "traceback": [
      "\u001b[1;31m---------------------------------------------------------------------------\u001b[0m",
      "\u001b[1;31mValueError\u001b[0m                                Traceback (most recent call last)",
      "Cell \u001b[1;32mIn[195], line 38\u001b[0m\n\u001b[0;32m     32\u001b[0m model\u001b[38;5;241m.\u001b[39mcompile(optimizer\u001b[38;5;241m=\u001b[39m\u001b[38;5;124m'\u001b[39m\u001b[38;5;124madam\u001b[39m\u001b[38;5;124m'\u001b[39m,\n\u001b[0;32m     33\u001b[0m               loss\u001b[38;5;241m=\u001b[39m{\u001b[38;5;124m'\u001b[39m\u001b[38;5;124moutput_y1\u001b[39m\u001b[38;5;124m'\u001b[39m: tf\u001b[38;5;241m.\u001b[39mkeras\u001b[38;5;241m.\u001b[39mlosses\u001b[38;5;241m.\u001b[39mcategorical_crossentropy, \u001b[38;5;124m'\u001b[39m\u001b[38;5;124moutput_y2\u001b[39m\u001b[38;5;124m'\u001b[39m: tf\u001b[38;5;241m.\u001b[39mkeras\u001b[38;5;241m.\u001b[39mlosses\u001b[38;5;241m.\u001b[39mcategorical_crossentropy},\n\u001b[0;32m     34\u001b[0m               metrics\u001b[38;5;241m=\u001b[39m{\u001b[38;5;124m'\u001b[39m\u001b[38;5;124moutput_y1\u001b[39m\u001b[38;5;124m'\u001b[39m: [\u001b[38;5;124m'\u001b[39m\u001b[38;5;124maccuracy\u001b[39m\u001b[38;5;124m'\u001b[39m], \u001b[38;5;124m'\u001b[39m\u001b[38;5;124moutput_y2\u001b[39m\u001b[38;5;124m'\u001b[39m: [\u001b[38;5;124m'\u001b[39m\u001b[38;5;124maccuracy\u001b[39m\u001b[38;5;124m'\u001b[39m]})\n\u001b[0;32m     37\u001b[0m \u001b[38;5;66;03m# Training the model\u001b[39;00m\n\u001b[1;32m---> 38\u001b[0m history \u001b[38;5;241m=\u001b[39m \u001b[43mmodel\u001b[49m\u001b[38;5;241;43m.\u001b[39;49m\u001b[43mfit\u001b[49m\u001b[43m(\u001b[49m\u001b[43mtraining_padded\u001b[49m\u001b[43m,\u001b[49m\u001b[43m \u001b[49m\u001b[43m{\u001b[49m\u001b[38;5;124;43m'\u001b[39;49m\u001b[38;5;124;43moutput_y1\u001b[39;49m\u001b[38;5;124;43m'\u001b[39;49m\u001b[43m:\u001b[49m\u001b[43m \u001b[49m\u001b[43mY1_train\u001b[49m\u001b[43m,\u001b[49m\u001b[43m \u001b[49m\u001b[38;5;124;43m'\u001b[39;49m\u001b[38;5;124;43moutput_y2\u001b[39;49m\u001b[38;5;124;43m'\u001b[39;49m\u001b[43m:\u001b[49m\u001b[43m \u001b[49m\u001b[43mY2_train\u001b[49m\u001b[43m}\u001b[49m\u001b[43m,\u001b[49m\n\u001b[0;32m     39\u001b[0m \u001b[43m                    \u001b[49m\u001b[43mvalidation_data\u001b[49m\u001b[38;5;241;43m=\u001b[39;49m\u001b[43m(\u001b[49m\u001b[43mtesting_padded\u001b[49m\u001b[43m,\u001b[49m\u001b[43m \u001b[49m\u001b[43m{\u001b[49m\u001b[38;5;124;43m'\u001b[39;49m\u001b[38;5;124;43moutput_y1\u001b[39;49m\u001b[38;5;124;43m'\u001b[39;49m\u001b[43m:\u001b[49m\u001b[43m \u001b[49m\u001b[43mY1_test\u001b[49m\u001b[43m,\u001b[49m\u001b[43m \u001b[49m\u001b[38;5;124;43m'\u001b[39;49m\u001b[38;5;124;43moutput_y2\u001b[39;49m\u001b[38;5;124;43m'\u001b[39;49m\u001b[43m:\u001b[49m\u001b[43m \u001b[49m\u001b[43mY2_test\u001b[49m\u001b[43m}\u001b[49m\u001b[43m)\u001b[49m\u001b[43m,\u001b[49m\n\u001b[0;32m     40\u001b[0m \u001b[43m                    \u001b[49m\u001b[43mepochs\u001b[49m\u001b[38;5;241;43m=\u001b[39;49m\u001b[38;5;241;43m50\u001b[39;49m\u001b[43m)\u001b[49m\n",
      "File \u001b[1;32m~\\anaconda3\\lib\\site-packages\\keras\\src\\utils\\traceback_utils.py:70\u001b[0m, in \u001b[0;36mfilter_traceback.<locals>.error_handler\u001b[1;34m(*args, **kwargs)\u001b[0m\n\u001b[0;32m     67\u001b[0m     filtered_tb \u001b[38;5;241m=\u001b[39m _process_traceback_frames(e\u001b[38;5;241m.\u001b[39m__traceback__)\n\u001b[0;32m     68\u001b[0m     \u001b[38;5;66;03m# To get the full stack trace, call:\u001b[39;00m\n\u001b[0;32m     69\u001b[0m     \u001b[38;5;66;03m# `tf.debugging.disable_traceback_filtering()`\u001b[39;00m\n\u001b[1;32m---> 70\u001b[0m     \u001b[38;5;28;01mraise\u001b[39;00m e\u001b[38;5;241m.\u001b[39mwith_traceback(filtered_tb) \u001b[38;5;28;01mfrom\u001b[39;00m \u001b[38;5;28mNone\u001b[39m\n\u001b[0;32m     71\u001b[0m \u001b[38;5;28;01mfinally\u001b[39;00m:\n\u001b[0;32m     72\u001b[0m     \u001b[38;5;28;01mdel\u001b[39;00m filtered_tb\n",
      "File \u001b[1;32m~\\anaconda3\\lib\\site-packages\\keras\\src\\engine\\data_adapter.py:1950\u001b[0m, in \u001b[0;36m_check_data_cardinality\u001b[1;34m(data)\u001b[0m\n\u001b[0;32m   1943\u001b[0m     msg \u001b[38;5;241m+\u001b[39m\u001b[38;5;241m=\u001b[39m \u001b[38;5;124m\"\u001b[39m\u001b[38;5;124m  \u001b[39m\u001b[38;5;132;01m{}\u001b[39;00m\u001b[38;5;124m sizes: \u001b[39m\u001b[38;5;132;01m{}\u001b[39;00m\u001b[38;5;130;01m\\n\u001b[39;00m\u001b[38;5;124m\"\u001b[39m\u001b[38;5;241m.\u001b[39mformat(\n\u001b[0;32m   1944\u001b[0m         label,\n\u001b[0;32m   1945\u001b[0m         \u001b[38;5;124m\"\u001b[39m\u001b[38;5;124m, \u001b[39m\u001b[38;5;124m\"\u001b[39m\u001b[38;5;241m.\u001b[39mjoin(\n\u001b[0;32m   1946\u001b[0m             \u001b[38;5;28mstr\u001b[39m(i\u001b[38;5;241m.\u001b[39mshape[\u001b[38;5;241m0\u001b[39m]) \u001b[38;5;28;01mfor\u001b[39;00m i \u001b[38;5;129;01min\u001b[39;00m tf\u001b[38;5;241m.\u001b[39mnest\u001b[38;5;241m.\u001b[39mflatten(single_data)\n\u001b[0;32m   1947\u001b[0m         ),\n\u001b[0;32m   1948\u001b[0m     )\n\u001b[0;32m   1949\u001b[0m msg \u001b[38;5;241m+\u001b[39m\u001b[38;5;241m=\u001b[39m \u001b[38;5;124m\"\u001b[39m\u001b[38;5;124mMake sure all arrays contain the same number of samples.\u001b[39m\u001b[38;5;124m\"\u001b[39m\n\u001b[1;32m-> 1950\u001b[0m \u001b[38;5;28;01mraise\u001b[39;00m \u001b[38;5;167;01mValueError\u001b[39;00m(msg)\n",
      "\u001b[1;31mValueError\u001b[0m: Data cardinality is ambiguous:\n  x sizes: 2172\n  y sizes: 1086, 2172\nMake sure all arrays contain the same number of samples."
     ]
    }
   ],
   "source": [
    "num_classes_Y1 = len(np.unique(Y1_train))\n",
    "num_classes_Y2 = len(np.unique(Y2_train))\n",
    "# model mimarisi\n",
    "input_ = tf.keras.Input(shape=(100,))\n",
    "x = tf.keras.layers.Embedding(10000, 32,input_length=100)(input_)\n",
    "x1 = tf.keras.layers.GlobalAveragePooling1D()(x)\n",
    "x2 = tf.keras.layers.Dense(85, activation=\"relu\")(x1)\n",
    "x3 = tf.keras.layers.Dense(120, activation=\"relu\")(x2)\n",
    "x4 = tf.keras.layers.Dense(200, activation=\"relu\")(x3)\n",
    "x5 = tf.keras.layers.Dense(250, activation=\"relu\")(x4)\n",
    "\n",
    "# katmanlar birlestir\n",
    "concat_ = tf.keras.layers.concatenate([x1, x2, x5])\n",
    "\n",
    "# iki cikisi\n",
    "output_1 = tf.keras.layers.Dense(2, activation=\"softmax\", name=\"output_y1\")(concat_)\n",
    "output_2 = tf.keras.layers.Dense(7, activation=\"sigmoid\", name=\"output_y2\")(concat_)\n",
    "\n",
    "# model\n",
    "model = tf.keras.Model(inputs=input_, outputs=[output_1, output_2])\n",
    "# Model compilation\n",
    "# ...\n",
    "\n",
    "# iki cikisi\n",
    "output_1 = tf.keras.layers.Dense(num_classes_Y1, activation=\"softmax\", name=\"output_y1\")(concat_)\n",
    "output_2 = tf.keras.layers.Dense(num_classes_Y2, activation=\"softmax\", name=\"output_y2\")(concat_)\n",
    "\n",
    "\n",
    "\n",
    "# ...\n",
    "# Model compilation\n",
    "model.compile(optimizer='adam',\n",
    "              loss={'output_y1': tf.keras.losses.categorical_crossentropy, 'output_y2': tf.keras.losses.categorical_crossentropy},\n",
    "              metrics={'output_y1': ['accuracy'], 'output_y2': ['accuracy']})\n",
    "\n",
    "\n",
    "# Training the model\n",
    "history = model.fit(training_padded, {'output_y1': Y1_train, 'output_y2': Y2_train},\n",
    "                    validation_data=(testing_padded, {'output_y1': Y1_test, 'output_y2': Y2_test}),\n",
    "                    epochs=50)"
   ]
  },
  {
   "cell_type": "code",
   "execution_count": null,
   "id": "65288b0f",
   "metadata": {},
   "outputs": [],
   "source": []
  },
  {
   "cell_type": "code",
   "execution_count": null,
   "id": "ce49e392",
   "metadata": {},
   "outputs": [],
   "source": []
  },
  {
   "cell_type": "code",
   "execution_count": 172,
   "id": "326082c7",
   "metadata": {},
   "outputs": [
    {
     "name": "stdout",
     "output_type": "stream",
     "text": [
      "Model: \"model_5\"\n",
      "__________________________________________________________________________________________________\n",
      " Layer (type)                Output Shape                 Param #   Connected to                  \n",
      "==================================================================================================\n",
      " input_6 (InputLayer)        [(None, 100)]                0         []                            \n",
      "                                                                                                  \n",
      " embedding_5 (Embedding)     (None, 100, 32)              320000    ['input_6[0][0]']             \n",
      "                                                                                                  \n",
      " global_average_pooling1d_5  (None, 32)                   0         ['embedding_5[0][0]']         \n",
      "  (GlobalAveragePooling1D)                                                                        \n",
      "                                                                                                  \n",
      " dense_26 (Dense)            (None, 85)                   2805      ['global_average_pooling1d_5[0\n",
      "                                                                    ][0]']                        \n",
      "                                                                                                  \n",
      " dense_27 (Dense)            (None, 120)                  10320     ['dense_26[0][0]']            \n",
      "                                                                                                  \n",
      " dense_28 (Dense)            (None, 200)                  24200     ['dense_27[0][0]']            \n",
      "                                                                                                  \n",
      " dense_29 (Dense)            (None, 250)                  50250     ['dense_28[0][0]']            \n",
      "                                                                                                  \n",
      " concatenate_5 (Concatenate  (None, 367)                  0         ['global_average_pooling1d_5[0\n",
      " )                                                                  ][0]',                        \n",
      "                                                                     'dense_26[0][0]',            \n",
      "                                                                     'dense_29[0][0]']            \n",
      "                                                                                                  \n",
      " output_1 (Dense)            (None, 2)                    736       ['concatenate_5[0][0]']       \n",
      "                                                                                                  \n",
      " output_2 (Dense)            (None, 7)                    2576      ['concatenate_5[0][0]']       \n",
      "                                                                                                  \n",
      "==================================================================================================\n",
      "Total params: 410887 (1.57 MB)\n",
      "Trainable params: 410887 (1.57 MB)\n",
      "Non-trainable params: 0 (0.00 Byte)\n",
      "__________________________________________________________________________________________________\n"
     ]
    }
   ],
   "source": [
    "#model ozeti\n",
    "model_with_2_output.summary()"
   ]
  },
  {
   "cell_type": "code",
   "execution_count": 173,
   "id": "06030cfa",
   "metadata": {},
   "outputs": [],
   "source": [
    "# training\n"
   ]
  },
  {
   "cell_type": "code",
   "execution_count": 175,
   "id": "a8a89d3b",
   "metadata": {},
   "outputs": [
    {
     "data": {
      "image/png": "[encoded data removed]",
      "text/plain": [
       "<Figure size 1200x600 with 2 Axes>"
      ]
     },
     "metadata": {},
     "output_type": "display_data"
    }
   ],
   "source": [
    "import matplotlib.pyplot as plt\n",
    "\n",
    "# Extract the training and validation loss from the history object\n",
    "train_loss_y1 = history.history['output_y1_loss']\n",
    "val_loss_y1 = history.history['val_output_y1_loss']\n",
    "\n",
    "train_loss_y2 = history.history['output_y2_loss']\n",
    "val_loss_y2 = history.history['val_output_y2_loss']\n",
    "\n",
    "# Extract the training and validation accuracy from the history object (if needed)\n",
    "# train_accuracy = history.history['output_y1_accuracy']\n",
    "# val_accuracy = history.history['val_output_y1_accuracy']\n",
    "\n",
    "# Create a range of x values for the number of epochs\n",
    "epochs = range(1, len(train_loss_y1) + 1)\n",
    "\n",
    "# Plot the training and validation loss\n",
    "plt.figure(figsize=(12, 6))\n",
    "plt.subplot(1, 2, 1)\n",
    "plt.plot(epochs, train_loss_y1, 'bo-', label='Training Loss (y1)')\n",
    "plt.plot(epochs, val_loss_y1, 'ro-', label='Validation Loss (y1)')\n",
    "plt.title('Training and Validation Loss for output_y1')\n",
    "plt.xlabel('Epochs')\n",
    "plt.ylabel('Loss')\n",
    "plt.legend()\n",
    "\n",
    "plt.subplot(1, 2, 2)\n",
    "plt.plot(epochs, train_loss_y2, 'bo-', label='Training Loss (y2)')\n",
    "plt.plot(epochs, val_loss_y2, 'ro-', label='Validation Loss (y2)')\n",
    "plt.title('Training and Validation Loss for output_y2')\n",
    "plt.xlabel('Epochs')\n",
    "plt.ylabel('Loss')\n",
    "plt.legend()\n",
    "\n",
    "# If you want to include accuracy plots, you can add them here\n",
    "\n",
    "plt.tight_layout()\n",
    "plt.show()\n"
   ]
  },
  {
   "cell_type": "code",
   "execution_count": 128,
   "id": "6a4c62fb",
   "metadata": {
    "pycharm": {
     "name": "#%%\n"
    }
   },
   "outputs": [],
   "source": []
  },
  {
   "cell_type": "code",
   "execution_count": 128,
   "id": "287aadef",
   "metadata": {
    "pycharm": {
     "name": "#%%\n"
    }
   },
   "outputs": [],
   "source": []
  },
  {
   "cell_type": "code",
   "execution_count": 49,
   "id": "c5fe5ab0",
   "metadata": {
    "pycharm": {
     "name": "#%%\n"
    }
   },
   "outputs": [],
   "source": [
    "#testing yapmak\n",
    "y_test=np.array(y_test)"
   ]
  },
  {
   "cell_type": "code",
   "execution_count": 176,
   "id": "1aa339a7",
   "metadata": {
    "pycharm": {
     "name": "#%%\n"
    }
   },
   "outputs": [
    {
     "name": "stdout",
     "output_type": "stream",
     "text": [
      "17/17 [==============================] - 0s 2ms/step - loss: 22132230144.0000 - output_y1_loss: 0.0000e+00 - output_y2_loss: 22132230144.0000 - output_y1_accuracy: 0.2629 - output_y2_accuracy: 0.5349\n"
     ]
    },
    {
     "name": "stderr",
     "output_type": "stream",
     "text": [
      "C:\\Users\\USMAN KHALID\\anaconda3\\lib\\site-packages\\tensorflow\\python\\util\\dispatch.py:1176: SyntaxWarning: In loss categorical_crossentropy, expected y_pred.shape to be (batch_size, num_classes) with num_classes > 1. Received: y_pred.shape=(32, 1). Consider using 'binary_crossentropy' if you only have 2 classes.\n",
      "  return dispatch_target(*args, **kwargs)\n"
     ]
    }
   ],
   "source": [
    "# evaluating\n",
    "histo=model.evaluate(testing_padded,(Y1_test,Y2_test))"
   ]
  },
  {
   "cell_type": "code",
   "execution_count": 51,
   "id": "423395c5",
   "metadata": {
    "pycharm": {
     "name": "#%%\n"
    }
   },
   "outputs": [],
   "source": []
  },
  {
   "cell_type": "code",
   "execution_count": 180,
   "id": "d2abd940",
   "metadata": {
    "pycharm": {
     "name": "#%%\n"
    }
   },
   "outputs": [
    {
     "name": "stdout",
     "output_type": "stream",
     "text": [
      "1/1 [==============================] - 0s 11ms/step\n",
      "[array([[1.]], dtype=float32), array([[1., 1., 1., 1., 1., 1., 1.]], dtype=float32)]\n"
     ]
    }
   ],
   "source": [
    "# testing\n",
    "sentence = [\"ali koçtan şike kumpası davasında verilen cezalara ilişkin ilk açıklama \"]\n",
    "sequences = tokenizer.texts_to_sequences(sentence)\n",
    "padded = pad_sequences(sequences, maxlen=100, padding='post', truncating='post')\n",
    "prediction=model.predict(padded)\n",
    "print(prediction)"
   ]
  },
  {
   "cell_type": "code",
   "execution_count": 179,
   "id": "eb9567a7",
   "metadata": {
    "pycharm": {
     "name": "#%%\n"
    }
   },
   "outputs": [
    {
     "name": "stdout",
     "output_type": "stream",
     "text": [
      "0\n"
     ]
    }
   ],
   "source": [
    "print(np.argmax(prediction[0]))"
   ]
  },
  {
   "cell_type": "code",
   "execution_count": 58,
   "id": "90e48aff",
   "metadata": {},
   "outputs": [],
   "source": [
    "#model kaydetmek\n",
    "model.save('tweetter.h5')"
   ]
  },
  {
   "cell_type": "code",
   "execution_count": 59,
   "id": "ae5ad423",
   "metadata": {
    "pycharm": {
     "name": "#%%\n"
    }
   },
   "outputs": [],
   "source": [
    "import pickle\n",
    "\n",
    "# tokenizer kaydetmek\n",
    "with open('tweeter_tokenizer.pickle', 'wb') as handle:\n",
    "    pickle.dump(tokenizer, handle, protocol=pickle.HIGHEST_PROTOCOL)"
   ]
  },
  {
   "cell_type": "code",
   "execution_count": null,
   "id": "1f78d3c7",
   "metadata": {
    "pycharm": {
     "name": "#%%\n"
    }
   },
   "outputs": [],
   "source": []
  }
 ],
 "metadata": {
  "kernelspec": {
   "display_name": "Python 3 (ipykernel)",
   "language": "python",
   "name": "python3"
  },
  "language_info": {
   "codemirror_mode": {
    "name": "ipython",
    "version": 3
   },
   "file_extension": ".py",
   "mimetype": "text/x-python",
   "name": "python",
   "nbconvert_exporter": "python",
   "pygments_lexer": "ipython3",
   "version": "3.10.9"
  }
 },
 "nbformat": 4,
 "nbformat_minor": 5
}
