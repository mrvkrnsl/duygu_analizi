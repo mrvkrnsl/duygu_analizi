{
 "cells": [
  {
   "cell_type": "markdown",
   "id": "93cc4e94",
   "metadata": {},
   "source": [
    "# Haber Tweetlerinin Duygu Analizi Ve Sınıflandırma"
   ]
  },
  {
   "cell_type": "code",
   "execution_count": 1,
   "id": "d9ac5b43",
   "metadata": {
    "scrolled": true
   },
   "outputs": [],
   "source": [
    "import string  \n",
    "import numpy as np\n",
    "import pandas as pd\n",
    "import tensorflow as tf\n",
    "from tensorflow import keras\n",
    "from tensorflow.keras.preprocessing.text import Tokenizer\n",
    "from sklearn.model_selection import train_test_split\n",
    "from tensorflow.keras.preprocessing.sequence import pad_sequences\n",
    "from sklearn import preprocessing \n",
    "import re"
   ]
  },
  {
   "cell_type": "code",
   "execution_count": null,
   "id": "088ee031",
   "metadata": {},
   "outputs": [],
   "source": []
  },
  {
   "cell_type": "code",
   "execution_count": 2,
   "id": "93b35e55",
   "metadata": {},
   "outputs": [],
   "source": [
    "# veri seti okumasi\n",
    "data=pd.read_csv(\"dataset.csv\")"
   ]
  },
  {
   "cell_type": "code",
   "execution_count": 3,
   "id": "b9d6d8cb",
   "metadata": {},
   "outputs": [
    {
     "data": {
      "text/plain": [
       "Unnamed: 0       2716\n",
       "hour             2716\n",
       "tweet            2716\n",
       "Tweets_duygu     2716\n",
       "sınıflandırma    2716\n",
       "dtype: int64"
      ]
     },
     "execution_count": 3,
     "metadata": {},
     "output_type": "execute_result"
    }
   ],
   "source": [
    "# kac tane veri var\n",
    "data.count()"
   ]
  },
  {
   "cell_type": "code",
   "execution_count": 4,
   "id": "daaeb7be",
   "metadata": {},
   "outputs": [
    {
     "data": {
      "text/html": [
       "<div>\n",
       "<style scoped>\n",
       "    .dataframe tbody tr th:only-of-type {\n",
       "        vertical-align: middle;\n",
       "    }\n",
       "\n",
       "    .dataframe tbody tr th {\n",
       "        vertical-align: top;\n",
       "    }\n",
       "\n",
       "    .dataframe thead th {\n",
       "        text-align: right;\n",
       "    }\n",
       "</style>\n",
       "<table border=\"1\" class=\"dataframe\">\n",
       "  <thead>\n",
       "    <tr style=\"text-align: right;\">\n",
       "      <th></th>\n",
       "      <th>Unnamed: 0</th>\n",
       "      <th>hour</th>\n",
       "      <th>tweet</th>\n",
       "      <th>Tweets_duygu</th>\n",
       "      <th>sınıflandırma</th>\n",
       "    </tr>\n",
       "  </thead>\n",
       "  <tbody>\n",
       "    <tr>\n",
       "      <th>0</th>\n",
       "      <td>0</td>\n",
       "      <td>9</td>\n",
       "      <td>Ali Koçtan Şike Kumpası Davasında verilen ceza...</td>\n",
       "      <td>negatif</td>\n",
       "      <td>spor</td>\n",
       "    </tr>\n",
       "    <tr>\n",
       "      <th>1</th>\n",
       "      <td>1</td>\n",
       "      <td>8</td>\n",
       "      <td>Abdulkadir Selvi Venezuelaya giden CHPli mille...</td>\n",
       "      <td>negatif</td>\n",
       "      <td>siyaset</td>\n",
       "    </tr>\n",
       "    <tr>\n",
       "      <th>2</th>\n",
       "      <td>2</td>\n",
       "      <td>8</td>\n",
       "      <td>Futbolda şike soruşturmasını ilk başlatan poli...</td>\n",
       "      <td>negatif</td>\n",
       "      <td>spor</td>\n",
       "    </tr>\n",
       "    <tr>\n",
       "      <th>3</th>\n",
       "      <td>3</td>\n",
       "      <td>8</td>\n",
       "      <td>SONDAKİKA Futbolda şike kumpası davası Hidayet...</td>\n",
       "      <td>negatif</td>\n",
       "      <td>spor</td>\n",
       "    </tr>\n",
       "    <tr>\n",
       "      <th>4</th>\n",
       "      <td>4</td>\n",
       "      <td>6</td>\n",
       "      <td>AKPde bir istifa kararı daha</td>\n",
       "      <td>negatif</td>\n",
       "      <td>siyaset</td>\n",
       "    </tr>\n",
       "    <tr>\n",
       "      <th>5</th>\n",
       "      <td>5</td>\n",
       "      <td>6</td>\n",
       "      <td>CHPli Tanrıkulu  Yargıtay Mehmet Ağar hakkında...</td>\n",
       "      <td>negatif</td>\n",
       "      <td>siyaset</td>\n",
       "    </tr>\n",
       "    <tr>\n",
       "      <th>6</th>\n",
       "      <td>6</td>\n",
       "      <td>6</td>\n",
       "      <td>Bahçeli Erdoğanın  yıllık dostunu FETÖcü ilan ...</td>\n",
       "      <td>negatif</td>\n",
       "      <td>siyaset</td>\n",
       "    </tr>\n",
       "    <tr>\n",
       "      <th>7</th>\n",
       "      <td>7</td>\n",
       "      <td>6</td>\n",
       "      <td>Ünlü sunucu  Ezgi Avcının tatil pozları mest e...</td>\n",
       "      <td>pozitif</td>\n",
       "      <td>saglik</td>\n",
       "    </tr>\n",
       "    <tr>\n",
       "      <th>8</th>\n",
       "      <td>8</td>\n",
       "      <td>6</td>\n",
       "      <td>Ahmet Takan  Siyaset sahnesindeki racon kesmel...</td>\n",
       "      <td>negatif</td>\n",
       "      <td>siyaset</td>\n",
       "    </tr>\n",
       "    <tr>\n",
       "      <th>9</th>\n",
       "      <td>9</td>\n",
       "      <td>6</td>\n",
       "      <td>Kılıçdaroğlundan Saraya yanıt Trolleri Kılıçda...</td>\n",
       "      <td>negatif</td>\n",
       "      <td>siyaset</td>\n",
       "    </tr>\n",
       "  </tbody>\n",
       "</table>\n",
       "</div>"
      ],
      "text/plain": [
       "   Unnamed: 0  hour                                              tweet  \\\n",
       "0           0     9  Ali Koçtan Şike Kumpası Davasında verilen ceza...   \n",
       "1           1     8  Abdulkadir Selvi Venezuelaya giden CHPli mille...   \n",
       "2           2     8  Futbolda şike soruşturmasını ilk başlatan poli...   \n",
       "3           3     8  SONDAKİKA Futbolda şike kumpası davası Hidayet...   \n",
       "4           4     6                     AKPde bir istifa kararı daha     \n",
       "5           5     6  CHPli Tanrıkulu  Yargıtay Mehmet Ağar hakkında...   \n",
       "6           6     6  Bahçeli Erdoğanın  yıllık dostunu FETÖcü ilan ...   \n",
       "7           7     6  Ünlü sunucu  Ezgi Avcının tatil pozları mest e...   \n",
       "8           8     6  Ahmet Takan  Siyaset sahnesindeki racon kesmel...   \n",
       "9           9     6  Kılıçdaroğlundan Saraya yanıt Trolleri Kılıçda...   \n",
       "\n",
       "  Tweets_duygu sınıflandırma  \n",
       "0      negatif         spor   \n",
       "1      negatif      siyaset   \n",
       "2      negatif         spor   \n",
       "3      negatif         spor   \n",
       "4      negatif      siyaset   \n",
       "5      negatif      siyaset   \n",
       "6      negatif      siyaset   \n",
       "7      pozitif       saglik   \n",
       "8      negatif      siyaset   \n",
       "9      negatif      siyaset   "
      ]
     },
     "execution_count": 4,
     "metadata": {},
     "output_type": "execute_result"
    }
   ],
   "source": [
    "# ilk 10 veri gorunmesi\n",
    "data.head(10)"
   ]
  },
  {
   "cell_type": "code",
   "execution_count": 5,
   "id": "8b6ae502",
   "metadata": {
    "pycharm": {
     "name": "#%%\n"
    }
   },
   "outputs": [
    {
     "data": {
      "text/plain": [
       "array(['negatif', 'pozitif'], dtype=object)"
      ]
     },
     "execution_count": 5,
     "metadata": {},
     "output_type": "execute_result"
    }
   ],
   "source": [
    "# Tweets_duygu\n",
    "data.Tweets_duygu.unique()"
   ]
  },
  {
   "cell_type": "code",
   "execution_count": 6,
   "id": "8161d5ab",
   "metadata": {},
   "outputs": [
    {
     "data": {
      "text/plain": [
       "array(['spor ', 'siyaset ', 'saglik ', 'kultur ', 'dunya ', 'ekonomi ',\n",
       "       'teknoloji '], dtype=object)"
      ]
     },
     "execution_count": 6,
     "metadata": {},
     "output_type": "execute_result"
    }
   ],
   "source": [
    "# hangi sinifa ait\n",
    "data.sınıflandırma.unique()"
   ]
  },
  {
   "cell_type": "code",
   "execution_count": 7,
   "id": "556d87a5",
   "metadata": {
    "pycharm": {
     "name": "#%%\n"
    }
   },
   "outputs": [
    {
     "data": {
      "text/plain": [
       "False"
      ]
     },
     "execution_count": 7,
     "metadata": {},
     "output_type": "execute_result"
    }
   ],
   "source": [
    "# nall veri var mi yok mu\n",
    "data.isnull().values.any()"
   ]
  },
  {
   "cell_type": "code",
   "execution_count": 8,
   "id": "9fdb3d76",
   "metadata": {},
   "outputs": [
    {
     "data": {
      "text/plain": [
       "Unnamed: 0       2716\n",
       "hour             2716\n",
       "tweet            2716\n",
       "Tweets_duygu     2716\n",
       "sınıflandırma    2716\n",
       "dtype: int64"
      ]
     },
     "execution_count": 8,
     "metadata": {},
     "output_type": "execute_result"
    }
   ],
   "source": [
    "data.isnull().count()"
   ]
  },
  {
   "cell_type": "code",
   "execution_count": 9,
   "id": "e4f6f456",
   "metadata": {},
   "outputs": [],
   "source": [
    "# nall verileri silome\n",
    "data=data.dropna()"
   ]
  },
  {
   "cell_type": "code",
   "execution_count": null,
   "id": "c7122229",
   "metadata": {},
   "outputs": [],
   "source": []
  },
  {
   "cell_type": "code",
   "execution_count": 10,
   "id": "f0f762a4",
   "metadata": {},
   "outputs": [
    {
     "data": {
      "text/plain": [
       "Unnamed: 0       2716\n",
       "hour             2716\n",
       "tweet            2716\n",
       "Tweets_duygu     2716\n",
       "sınıflandırma    2716\n",
       "dtype: int64"
      ]
     },
     "execution_count": 10,
     "metadata": {},
     "output_type": "execute_result"
    }
   ],
   "source": [
    "data.count()"
   ]
  },
  {
   "cell_type": "code",
   "execution_count": 11,
   "id": "c39aa792",
   "metadata": {},
   "outputs": [
    {
     "data": {
      "text/plain": [
       "False"
      ]
     },
     "execution_count": 11,
     "metadata": {},
     "output_type": "execute_result"
    }
   ],
   "source": [
    "# nallvar mi yok mu tekrar kontrol etmek\n",
    "data.isnull().values.any()"
   ]
  },
  {
   "cell_type": "code",
   "execution_count": 12,
   "id": "ec8c2987",
   "metadata": {},
   "outputs": [
    {
     "name": "stderr",
     "output_type": "stream",
     "text": [
      "C:\\Users\\USMAN KHALID\\AppData\\Local\\Temp\\ipykernel_18552\\3717164451.py:2: FutureWarning: The default value of regex will change from True to False in a future version.\n",
      "  data['tweet'] = data['tweet'].str.replace('\\d+', '')\n"
     ]
    }
   ],
   "source": [
    "# strip yapmk\n",
    "data['tweet'] = data['tweet'].str.replace('\\d+', '')\n",
    "data['tweet'] = data['tweet'].str.rstrip(string.digits)"
   ]
  },
  {
   "cell_type": "code",
   "execution_count": null,
   "id": "fe6d7a10",
   "metadata": {},
   "outputs": [],
   "source": [
    "\n"
   ]
  },
  {
   "cell_type": "code",
   "execution_count": null,
   "id": "4270288d",
   "metadata": {},
   "outputs": [],
   "source": []
  },
  {
   "cell_type": "code",
   "execution_count": null,
   "id": "a2e6ea54",
   "metadata": {},
   "outputs": [],
   "source": []
  },
  {
   "cell_type": "code",
   "execution_count": null,
   "id": "04043db4",
   "metadata": {
    "pycharm": {
     "name": "#%%\n"
    }
   },
   "outputs": [],
   "source": []
  },
  {
   "cell_type": "code",
   "execution_count": 13,
   "id": "266d7ff0",
   "metadata": {
    "pycharm": {
     "name": "#%%\n"
    }
   },
   "outputs": [
    {
     "data": {
      "text/html": [
       "<div>\n",
       "<style scoped>\n",
       "    .dataframe tbody tr th:only-of-type {\n",
       "        vertical-align: middle;\n",
       "    }\n",
       "\n",
       "    .dataframe tbody tr th {\n",
       "        vertical-align: top;\n",
       "    }\n",
       "\n",
       "    .dataframe thead th {\n",
       "        text-align: right;\n",
       "    }\n",
       "</style>\n",
       "<table border=\"1\" class=\"dataframe\">\n",
       "  <thead>\n",
       "    <tr style=\"text-align: right;\">\n",
       "      <th></th>\n",
       "      <th>Unnamed: 0</th>\n",
       "      <th>hour</th>\n",
       "      <th>tweet</th>\n",
       "      <th>Tweets_duygu</th>\n",
       "      <th>sınıflandırma</th>\n",
       "    </tr>\n",
       "  </thead>\n",
       "  <tbody>\n",
       "    <tr>\n",
       "      <th>0</th>\n",
       "      <td>0</td>\n",
       "      <td>9</td>\n",
       "      <td>Ali Koçtan Şike Kumpası Davasında verilen ceza...</td>\n",
       "      <td>negatif</td>\n",
       "      <td>spor</td>\n",
       "    </tr>\n",
       "    <tr>\n",
       "      <th>1</th>\n",
       "      <td>1</td>\n",
       "      <td>8</td>\n",
       "      <td>Abdulkadir Selvi Venezuelaya giden CHPli mille...</td>\n",
       "      <td>negatif</td>\n",
       "      <td>siyaset</td>\n",
       "    </tr>\n",
       "    <tr>\n",
       "      <th>2</th>\n",
       "      <td>2</td>\n",
       "      <td>8</td>\n",
       "      <td>Futbolda şike soruşturmasını ilk başlatan poli...</td>\n",
       "      <td>negatif</td>\n",
       "      <td>spor</td>\n",
       "    </tr>\n",
       "    <tr>\n",
       "      <th>3</th>\n",
       "      <td>3</td>\n",
       "      <td>8</td>\n",
       "      <td>SONDAKİKA Futbolda şike kumpası davası Hidayet...</td>\n",
       "      <td>negatif</td>\n",
       "      <td>spor</td>\n",
       "    </tr>\n",
       "    <tr>\n",
       "      <th>4</th>\n",
       "      <td>4</td>\n",
       "      <td>6</td>\n",
       "      <td>AKPde bir istifa kararı daha</td>\n",
       "      <td>negatif</td>\n",
       "      <td>siyaset</td>\n",
       "    </tr>\n",
       "  </tbody>\n",
       "</table>\n",
       "</div>"
      ],
      "text/plain": [
       "   Unnamed: 0  hour                                              tweet  \\\n",
       "0           0     9  Ali Koçtan Şike Kumpası Davasında verilen ceza...   \n",
       "1           1     8  Abdulkadir Selvi Venezuelaya giden CHPli mille...   \n",
       "2           2     8  Futbolda şike soruşturmasını ilk başlatan poli...   \n",
       "3           3     8  SONDAKİKA Futbolda şike kumpası davası Hidayet...   \n",
       "4           4     6                     AKPde bir istifa kararı daha     \n",
       "\n",
       "  Tweets_duygu sınıflandırma  \n",
       "0      negatif         spor   \n",
       "1      negatif      siyaset   \n",
       "2      negatif         spor   \n",
       "3      negatif         spor   \n",
       "4      negatif      siyaset   "
      ]
     },
     "execution_count": 13,
     "metadata": {},
     "output_type": "execute_result"
    }
   ],
   "source": [
    "data.head(5)"
   ]
  },
  {
   "cell_type": "code",
   "execution_count": null,
   "id": "d9d90d7b",
   "metadata": {
    "pycharm": {
     "name": "#%%\n"
    }
   },
   "outputs": [],
   "source": []
  },
  {
   "cell_type": "code",
   "execution_count": 14,
   "id": "5e482258",
   "metadata": {},
   "outputs": [],
   "source": [
    "# encoder\n",
    "label_encoder =preprocessing .LabelEncoder()"
   ]
  },
  {
   "cell_type": "code",
   "execution_count": 15,
   "id": "15459642",
   "metadata": {},
   "outputs": [],
   "source": [
    "# fit transform yapmak\n",
    "data['Tweets_duygu']= label_encoder.fit_transform(data['Tweets_duygu'])\n",
    "data['sınıflandırma']= label_encoder.fit_transform(data['sınıflandırma'])"
   ]
  },
  {
   "cell_type": "code",
   "execution_count": 16,
   "id": "5dee751f",
   "metadata": {},
   "outputs": [
    {
     "data": {
      "text/plain": [
       "array([0, 1])"
      ]
     },
     "execution_count": 16,
     "metadata": {},
     "output_type": "execute_result"
    }
   ],
   "source": [
    "data.Tweets_duygu.unique()\n",
    "\n"
   ]
  },
  {
   "cell_type": "code",
   "execution_count": 17,
   "id": "affe6d49",
   "metadata": {},
   "outputs": [
    {
     "data": {
      "text/plain": [
       "array([5, 4, 3, 2, 0, 1, 6])"
      ]
     },
     "execution_count": 17,
     "metadata": {},
     "output_type": "execute_result"
    }
   ],
   "source": [
    "data.sınıflandırma.unique()"
   ]
  },
  {
   "cell_type": "code",
   "execution_count": 18,
   "id": "5395f23c",
   "metadata": {},
   "outputs": [
    {
     "data": {
      "text/html": [
       "<div>\n",
       "<style scoped>\n",
       "    .dataframe tbody tr th:only-of-type {\n",
       "        vertical-align: middle;\n",
       "    }\n",
       "\n",
       "    .dataframe tbody tr th {\n",
       "        vertical-align: top;\n",
       "    }\n",
       "\n",
       "    .dataframe thead th {\n",
       "        text-align: right;\n",
       "    }\n",
       "</style>\n",
       "<table border=\"1\" class=\"dataframe\">\n",
       "  <thead>\n",
       "    <tr style=\"text-align: right;\">\n",
       "      <th></th>\n",
       "      <th>Unnamed: 0</th>\n",
       "      <th>hour</th>\n",
       "      <th>tweet</th>\n",
       "      <th>Tweets_duygu</th>\n",
       "      <th>sınıflandırma</th>\n",
       "    </tr>\n",
       "  </thead>\n",
       "  <tbody>\n",
       "    <tr>\n",
       "      <th>0</th>\n",
       "      <td>0</td>\n",
       "      <td>9</td>\n",
       "      <td>Ali Koçtan Şike Kumpası Davasında verilen ceza...</td>\n",
       "      <td>0</td>\n",
       "      <td>5</td>\n",
       "    </tr>\n",
       "    <tr>\n",
       "      <th>1</th>\n",
       "      <td>1</td>\n",
       "      <td>8</td>\n",
       "      <td>Abdulkadir Selvi Venezuelaya giden CHPli mille...</td>\n",
       "      <td>0</td>\n",
       "      <td>4</td>\n",
       "    </tr>\n",
       "    <tr>\n",
       "      <th>2</th>\n",
       "      <td>2</td>\n",
       "      <td>8</td>\n",
       "      <td>Futbolda şike soruşturmasını ilk başlatan poli...</td>\n",
       "      <td>0</td>\n",
       "      <td>5</td>\n",
       "    </tr>\n",
       "    <tr>\n",
       "      <th>3</th>\n",
       "      <td>3</td>\n",
       "      <td>8</td>\n",
       "      <td>SONDAKİKA Futbolda şike kumpası davası Hidayet...</td>\n",
       "      <td>0</td>\n",
       "      <td>5</td>\n",
       "    </tr>\n",
       "    <tr>\n",
       "      <th>4</th>\n",
       "      <td>4</td>\n",
       "      <td>6</td>\n",
       "      <td>AKPde bir istifa kararı daha</td>\n",
       "      <td>0</td>\n",
       "      <td>4</td>\n",
       "    </tr>\n",
       "    <tr>\n",
       "      <th>...</th>\n",
       "      <td>...</td>\n",
       "      <td>...</td>\n",
       "      <td>...</td>\n",
       "      <td>...</td>\n",
       "      <td>...</td>\n",
       "    </tr>\n",
       "    <tr>\n",
       "      <th>115</th>\n",
       "      <td>115</td>\n",
       "      <td>19</td>\n",
       "      <td>Magazin muhabirinden şok iddia Nagehan Alçı ve...</td>\n",
       "      <td>0</td>\n",
       "      <td>2</td>\n",
       "    </tr>\n",
       "    <tr>\n",
       "      <th>116</th>\n",
       "      <td>116</td>\n",
       "      <td>19</td>\n",
       "      <td>Temel Karamollaoğlu Esnaf Kongresinde konuştu ...</td>\n",
       "      <td>0</td>\n",
       "      <td>4</td>\n",
       "    </tr>\n",
       "    <tr>\n",
       "      <th>117</th>\n",
       "      <td>117</td>\n",
       "      <td>19</td>\n",
       "      <td>Tuvana Türkay Türkiyeden gidiyor</td>\n",
       "      <td>0</td>\n",
       "      <td>5</td>\n",
       "    </tr>\n",
       "    <tr>\n",
       "      <th>118</th>\n",
       "      <td>118</td>\n",
       "      <td>19</td>\n",
       "      <td>AKPde istifa şoku Peş peşe açıkladılar</td>\n",
       "      <td>0</td>\n",
       "      <td>4</td>\n",
       "    </tr>\n",
       "    <tr>\n",
       "      <th>119</th>\n",
       "      <td>119</td>\n",
       "      <td>19</td>\n",
       "      <td>Esnafın vergi borçlarına faizsiz erteleme</td>\n",
       "      <td>1</td>\n",
       "      <td>1</td>\n",
       "    </tr>\n",
       "  </tbody>\n",
       "</table>\n",
       "<p>120 rows × 5 columns</p>\n",
       "</div>"
      ],
      "text/plain": [
       "     Unnamed: 0  hour                                              tweet  \\\n",
       "0             0     9  Ali Koçtan Şike Kumpası Davasında verilen ceza...   \n",
       "1             1     8  Abdulkadir Selvi Venezuelaya giden CHPli mille...   \n",
       "2             2     8  Futbolda şike soruşturmasını ilk başlatan poli...   \n",
       "3             3     8  SONDAKİKA Futbolda şike kumpası davası Hidayet...   \n",
       "4             4     6                     AKPde bir istifa kararı daha     \n",
       "..          ...   ...                                                ...   \n",
       "115         115    19  Magazin muhabirinden şok iddia Nagehan Alçı ve...   \n",
       "116         116    19  Temel Karamollaoğlu Esnaf Kongresinde konuştu ...   \n",
       "117         117    19                 Tuvana Türkay Türkiyeden gidiyor     \n",
       "118         118    19           AKPde istifa şoku Peş peşe açıkladılar     \n",
       "119         119    19        Esnafın vergi borçlarına faizsiz erteleme     \n",
       "\n",
       "     Tweets_duygu  sınıflandırma  \n",
       "0               0              5  \n",
       "1               0              4  \n",
       "2               0              5  \n",
       "3               0              5  \n",
       "4               0              4  \n",
       "..            ...            ...  \n",
       "115             0              2  \n",
       "116             0              4  \n",
       "117             0              5  \n",
       "118             0              4  \n",
       "119             1              1  \n",
       "\n",
       "[120 rows x 5 columns]"
      ]
     },
     "execution_count": 18,
     "metadata": {},
     "output_type": "execute_result"
    }
   ],
   "source": [
    "# tekrar inceleme\n",
    "data.head(120)"
   ]
  },
  {
   "cell_type": "code",
   "execution_count": null,
   "id": "aafd558e",
   "metadata": {},
   "outputs": [],
   "source": []
  },
  {
   "cell_type": "code",
   "execution_count": 19,
   "id": "744fdd3c",
   "metadata": {
    "pycharm": {
     "name": "#%%\n"
    }
   },
   "outputs": [],
   "source": [
    "# float filan var mi\n",
    "for x in data.tweet:\n",
    "    if type(x)==float:\n",
    "        print(x)"
   ]
  },
  {
   "cell_type": "code",
   "execution_count": 20,
   "id": "5f57740a",
   "metadata": {
    "pycharm": {
     "name": "#%%\n"
    }
   },
   "outputs": [],
   "source": [
    "# X=veri seti lowercase yapma\n",
    "X=[str(x.lower()) for x in data.tweet]\n",
    "y1=data.Tweets_duygu\n",
    "y2=data.sınıflandırma"
   ]
  },
  {
   "cell_type": "code",
   "execution_count": 21,
   "id": "02907d2e",
   "metadata": {},
   "outputs": [
    {
     "name": "stdout",
     "output_type": "stream",
     "text": [
      "2716\n",
      "2716\n",
      "2716\n"
     ]
    }
   ],
   "source": [
    "print(len(X))\n",
    "print(len(y1))\n",
    "print(len(y2))"
   ]
  },
  {
   "cell_type": "code",
   "execution_count": 22,
   "id": "1ef60287",
   "metadata": {
    "pycharm": {
     "name": "#%%\n"
    }
   },
   "outputs": [
    {
     "data": {
      "text/plain": [
       "['ali koçtan şike kumpası davasında verilen cezalara ilişkin ilk açıklama  ',\n",
       " 'abdulkadir selvi venezuelaya giden chpli milletvekili konuşmalı  ']"
      ]
     },
     "execution_count": 22,
     "metadata": {},
     "output_type": "execute_result"
    }
   ],
   "source": [
    "X[:2]"
   ]
  },
  {
   "cell_type": "code",
   "execution_count": 23,
   "id": "06bdc077",
   "metadata": {},
   "outputs": [
    {
     "data": {
      "text/plain": [
       "0    0\n",
       "1    0\n",
       "Name: Tweets_duygu, dtype: int32"
      ]
     },
     "execution_count": 23,
     "metadata": {},
     "output_type": "execute_result"
    }
   ],
   "source": [
    "y1[:2]"
   ]
  },
  {
   "cell_type": "code",
   "execution_count": 24,
   "id": "1d028092",
   "metadata": {},
   "outputs": [
    {
     "data": {
      "text/plain": [
       "0    5\n",
       "1    4\n",
       "Name: sınıflandırma, dtype: int32"
      ]
     },
     "execution_count": 24,
     "metadata": {},
     "output_type": "execute_result"
    }
   ],
   "source": [
    "y2[:2]"
   ]
  },
  {
   "cell_type": "code",
   "execution_count": 26,
   "id": "7b0c6fc1",
   "metadata": {
    "pycharm": {
     "name": "#%%\n"
    }
   },
   "outputs": [],
   "source": [
    "X_train, X_test, Y1_train, Y1_test, Y2_train, Y2_test = train_test_split( X, y1, y2, test_size=.2, random_state=42)"
   ]
  },
  {
   "cell_type": "code",
   "execution_count": 27,
   "id": "7a87dbae",
   "metadata": {},
   "outputs": [],
   "source": [
    "# training veri seti ve testing veri seti ayarlama\n"
   ]
  },
  {
   "cell_type": "code",
   "execution_count": 28,
   "id": "7d84a8de",
   "metadata": {},
   "outputs": [
    {
     "data": {
      "text/plain": [
       "2172"
      ]
     },
     "execution_count": 28,
     "metadata": {},
     "output_type": "execute_result"
    }
   ],
   "source": [
    "len(X_train)"
   ]
  },
  {
   "cell_type": "code",
   "execution_count": 29,
   "id": "31789798",
   "metadata": {},
   "outputs": [
    {
     "data": {
      "text/plain": [
       "2172"
      ]
     },
     "execution_count": 29,
     "metadata": {},
     "output_type": "execute_result"
    }
   ],
   "source": [
    "len( Y1_train)"
   ]
  },
  {
   "cell_type": "code",
   "execution_count": null,
   "id": "967f8ee0",
   "metadata": {},
   "outputs": [],
   "source": []
  },
  {
   "cell_type": "code",
   "execution_count": null,
   "id": "28e4848c",
   "metadata": {},
   "outputs": [],
   "source": []
  },
  {
   "cell_type": "code",
   "execution_count": 29,
   "id": "ddae1279",
   "metadata": {},
   "outputs": [
    {
     "name": "stdout",
     "output_type": "stream",
     "text": [
      "<class 'list'>\n"
     ]
    }
   ],
   "source": [
    "print(type(X_train))"
   ]
  },
  {
   "cell_type": "code",
   "execution_count": null,
   "id": "489a072e",
   "metadata": {},
   "outputs": [],
   "source": []
  },
  {
   "cell_type": "code",
   "execution_count": null,
   "id": "2ca8f7b7",
   "metadata": {},
   "outputs": [],
   "source": []
  },
  {
   "cell_type": "code",
   "execution_count": 229,
   "id": "3df6fa49",
   "metadata": {},
   "outputs": [],
   "source": [
    "# tokenizer=Tokenizer(oov_token=\n",
    "#\n",
    "# tokenizer.fit_on_texts(X_train)\n",
    "# word_index=tokenizer.word_index"
   ]
  },
  {
   "cell_type": "code",
   "execution_count": 30,
   "id": "be2ba806",
   "metadata": {
    "pycharm": {
     "name": "#%%\n"
    }
   },
   "outputs": [],
   "source": [
    "# tokenizer yapama ve  sequence yapam ve post padding kullanmak\n",
    "oov_tok = \"<OOV>\"\n",
    "tokenizer = Tokenizer(num_words=10000, oov_token=oov_tok)\n",
    "tokenizer.fit_on_texts(X_train)\n",
    "\n",
    "word_index = tokenizer.word_index\n",
    "\n",
    "training_sequences = tokenizer.texts_to_sequences(X_train)\n",
    "training_padded = pad_sequences(training_sequences, maxlen=100, padding='post', truncating='post')\n",
    "\n",
    "testing_sequences = tokenizer.texts_to_sequences(X_test)\n",
    "testing_padded = pad_sequences(testing_sequences, maxlen=100, padding='post', truncating='post')\n"
   ]
  },
  {
   "cell_type": "code",
   "execution_count": 31,
   "id": "d58af2d7",
   "metadata": {
    "pycharm": {
     "name": "#%%\n"
    }
   },
   "outputs": [],
   "source": [
    "# \n",
    "training_padded = np.array(training_padded)\n",
    "\n",
    "testing_padded = np.array(testing_padded)\n"
   ]
  },
  {
   "cell_type": "code",
   "execution_count": 32,
   "id": "8a022eb8",
   "metadata": {},
   "outputs": [],
   "source": [
    "\n",
    "num_classes_Y1 = len(np.unique(Y1_train))\n",
    "num_classes_Y2 = len(np.unique(Y2_train))"
   ]
  },
  {
   "cell_type": "code",
   "execution_count": 33,
   "id": "3a7e0db9",
   "metadata": {},
   "outputs": [],
   "source": [
    "\n",
    "\n",
    "Y1_train=np.array(Y1_train)\n",
    "Y2_train=np.array(Y2_train)\n",
    "Y1_test=np.array(Y1_test)\n",
    "Y2_test=np.array(Y2_test)\n",
    "\n",
    "\n"
   ]
  },
  {
   "cell_type": "code",
   "execution_count": 43,
   "id": "91eef564",
   "metadata": {},
   "outputs": [
    {
     "name": "stdout",
     "output_type": "stream",
     "text": [
      "<class 'numpy.ndarray'>\n",
      "(2172,)\n",
      "(2172,)\n"
     ]
    }
   ],
   "source": [
    "print(type(Y2_train))\n",
    "print(Y2_train.shape)\n",
    "print(Y1_train.shape)"
   ]
  },
  {
   "cell_type": "code",
   "execution_count": 34,
   "id": "d0a667ae",
   "metadata": {},
   "outputs": [],
   "source": [
    "# Y2_train = tf.keras.utils.to_categorical(Y2_train, num_classes=num_classes_Y2)\n",
    "# Y2_test = tf.keras.utils.to_categorical(Y2_test, num_classes=num_classes_Y2)\n",
    "\n",
    "Y1_train = tf.keras.utils.to_categorical(Y1_train, num_classes=num_classes_Y1)\n",
    "Y2_train = tf.keras.utils.to_categorical(Y2_train, num_classes=num_classes_Y2)\n",
    "Y1_test = tf.keras.utils.to_categorical(Y1_test, num_classes=num_classes_Y1)\n",
    "Y2_test = tf.keras.utils.to_categorical(Y2_test, num_classes=num_classes_Y2)\n",
    "\n",
    "# Y1_train = Y1_train.reshape(-1, 1)\n",
    "# Y1_test = Y1_test.reshape(-1, 1)\n",
    "# print(Y2_train[:10])\n",
    "# print(Y1_train[:10])"
   ]
  },
  {
   "cell_type": "code",
   "execution_count": 47,
   "id": "58ffe81e",
   "metadata": {},
   "outputs": [],
   "source": [
    "\n"
   ]
  },
  {
   "cell_type": "code",
   "execution_count": 234,
   "id": "7b160eb0",
   "metadata": {},
   "outputs": [],
   "source": [
    "# # model tasarim\n",
    "# sq_model = tf.keras.Sequential([\n",
    "#     tf.keras.layers.Embedding(10000, 16, input_length=100),\n",
    "#     tf.keras.layers.GlobalAveragePooling1D(),\n",
    "#     tf.keras.layers.Dense(24, activation='relu'),\n",
    "#      tf.keras.layers.Dense(64, activation='relu'),\n",
    "#     tf.keras.layers.Dense(7, activation='sigmoid')\n",
    "# ])\n",
    "\n",
    "\n",
    "# sq_model.compile(optimizer='adam',\n",
    "#               loss=tf.keras.losses.categorical_crossentropy,\n",
    "#               metrics=['accuracy'])\n",
    "\n",
    "# Y1_train = Y1_train.reshape(-1, 1)\n",
    "# Y1_test = Y1_test.reshape(-1, 1)\n",
    "\n",
    "# history = sq_model.fit(training_padded, Y2_train, \n",
    "#                     validation_data=(testing_padded, Y2_test),\n",
    "#                     epochs=1)"
   ]
  },
  {
   "cell_type": "code",
   "execution_count": null,
   "id": "d08d8354",
   "metadata": {},
   "outputs": [],
   "source": [
    "\n"
   ]
  },
  {
   "cell_type": "code",
   "execution_count": null,
   "id": "3f3cb895",
   "metadata": {},
   "outputs": [],
   "source": []
  },
  {
   "cell_type": "code",
   "execution_count": 48,
   "id": "e94231b1",
   "metadata": {},
   "outputs": [
    {
     "name": "stdout",
     "output_type": "stream",
     "text": [
      "Epoch 1/50\n",
      "68/68 [==============================] - 1s 7ms/step - loss: 2.1789 - output_y1_loss: 0.5746 - output_y2_loss: 1.6043 - output_y1_accuracy: 0.7564 - output_y2_accuracy: 0.5046 - val_loss: 2.0838 - val_output_y1_loss: 0.5830 - val_output_y2_loss: 1.5007 - val_output_y1_accuracy: 0.7371 - val_output_y2_accuracy: 0.5349\n",
      "Epoch 2/50\n",
      "68/68 [==============================] - 0s 4ms/step - loss: 2.0623 - output_y1_loss: 0.5562 - output_y2_loss: 1.5062 - output_y1_accuracy: 0.7564 - output_y2_accuracy: 0.5235 - val_loss: 2.0569 - val_output_y1_loss: 0.5725 - val_output_y2_loss: 1.4844 - val_output_y1_accuracy: 0.7371 - val_output_y2_accuracy: 0.5349\n",
      "Epoch 3/50\n",
      "68/68 [==============================] - 0s 4ms/step - loss: 1.9694 - output_y1_loss: 0.5401 - output_y2_loss: 1.4293 - output_y1_accuracy: 0.7564 - output_y2_accuracy: 0.5235 - val_loss: 1.8493 - val_output_y1_loss: 0.5402 - val_output_y2_loss: 1.3091 - val_output_y1_accuracy: 0.7371 - val_output_y2_accuracy: 0.5349\n",
      "Epoch 4/50\n",
      "68/68 [==============================] - 0s 4ms/step - loss: 1.5914 - output_y1_loss: 0.5012 - output_y2_loss: 1.0902 - output_y1_accuracy: 0.7564 - output_y2_accuracy: 0.5695 - val_loss: 1.6439 - val_output_y1_loss: 0.5285 - val_output_y2_loss: 1.1155 - val_output_y1_accuracy: 0.7371 - val_output_y2_accuracy: 0.5956\n",
      "Epoch 5/50\n",
      "68/68 [==============================] - 0s 4ms/step - loss: 1.3897 - output_y1_loss: 0.4840 - output_y2_loss: 0.9057 - output_y1_accuracy: 0.7564 - output_y2_accuracy: 0.6418 - val_loss: 2.0360 - val_output_y1_loss: 0.5365 - val_output_y2_loss: 1.4995 - val_output_y1_accuracy: 0.7371 - val_output_y2_accuracy: 0.5588\n",
      "Epoch 6/50\n",
      "68/68 [==============================] - 0s 4ms/step - loss: 1.2798 - output_y1_loss: 0.4524 - output_y2_loss: 0.8273 - output_y1_accuracy: 0.7624 - output_y2_accuracy: 0.6690 - val_loss: 1.6204 - val_output_y1_loss: 0.4820 - val_output_y2_loss: 1.1384 - val_output_y1_accuracy: 0.7702 - val_output_y2_accuracy: 0.6434\n",
      "Epoch 7/50\n",
      "68/68 [==============================] - 0s 4ms/step - loss: 1.1036 - output_y1_loss: 0.3942 - output_y2_loss: 0.7095 - output_y1_accuracy: 0.8043 - output_y2_accuracy: 0.7122 - val_loss: 1.7984 - val_output_y1_loss: 0.4530 - val_output_y2_loss: 1.3454 - val_output_y1_accuracy: 0.7739 - val_output_y2_accuracy: 0.6562\n",
      "Epoch 8/50\n",
      "68/68 [==============================] - 0s 4ms/step - loss: 0.9822 - output_y1_loss: 0.3552 - output_y2_loss: 0.6270 - output_y1_accuracy: 0.8439 - output_y2_accuracy: 0.7449 - val_loss: 1.9169 - val_output_y1_loss: 0.4508 - val_output_y2_loss: 1.4661 - val_output_y1_accuracy: 0.7868 - val_output_y2_accuracy: 0.6765\n",
      "Epoch 9/50\n",
      "68/68 [==============================] - 0s 4ms/step - loss: 0.8640 - output_y1_loss: 0.2925 - output_y2_loss: 0.5715 - output_y1_accuracy: 0.8936 - output_y2_accuracy: 0.7574 - val_loss: 2.1690 - val_output_y1_loss: 0.4638 - val_output_y2_loss: 1.7052 - val_output_y1_accuracy: 0.8125 - val_output_y2_accuracy: 0.6599\n",
      "Epoch 10/50\n",
      "68/68 [==============================] - 0s 4ms/step - loss: 0.7947 - output_y1_loss: 0.2728 - output_y2_loss: 0.5219 - output_y1_accuracy: 0.8932 - output_y2_accuracy: 0.7855 - val_loss: 2.2849 - val_output_y1_loss: 0.4836 - val_output_y2_loss: 1.8013 - val_output_y1_accuracy: 0.7868 - val_output_y2_accuracy: 0.6838\n",
      "Epoch 11/50\n",
      "68/68 [==============================] - 0s 4ms/step - loss: 0.7397 - output_y1_loss: 0.2402 - output_y2_loss: 0.4995 - output_y1_accuracy: 0.9125 - output_y2_accuracy: 0.7914 - val_loss: 2.7714 - val_output_y1_loss: 0.4623 - val_output_y2_loss: 2.3091 - val_output_y1_accuracy: 0.8070 - val_output_y2_accuracy: 0.6765\n",
      "Epoch 12/50\n",
      "68/68 [==============================] - 0s 4ms/step - loss: 0.6818 - output_y1_loss: 0.2144 - output_y2_loss: 0.4674 - output_y1_accuracy: 0.9254 - output_y2_accuracy: 0.8029 - val_loss: 2.4464 - val_output_y1_loss: 0.4841 - val_output_y2_loss: 1.9624 - val_output_y1_accuracy: 0.8235 - val_output_y2_accuracy: 0.6636\n",
      "Epoch 13/50\n",
      "68/68 [==============================] - 0s 4ms/step - loss: 0.6235 - output_y1_loss: 0.2034 - output_y2_loss: 0.4201 - output_y1_accuracy: 0.9296 - output_y2_accuracy: 0.8218 - val_loss: 3.0014 - val_output_y1_loss: 0.4848 - val_output_y2_loss: 2.5166 - val_output_y1_accuracy: 0.8290 - val_output_y2_accuracy: 0.6985\n",
      "Epoch 14/50\n",
      "68/68 [==============================] - 0s 5ms/step - loss: 0.5763 - output_y1_loss: 0.1810 - output_y2_loss: 0.3952 - output_y1_accuracy: 0.9484 - output_y2_accuracy: 0.8347 - val_loss: 2.9592 - val_output_y1_loss: 0.4862 - val_output_y2_loss: 2.4730 - val_output_y1_accuracy: 0.8309 - val_output_y2_accuracy: 0.6912\n",
      "Epoch 15/50\n",
      "68/68 [==============================] - 0s 4ms/step - loss: 0.6954 - output_y1_loss: 0.2145 - output_y2_loss: 0.4809 - output_y1_accuracy: 0.9176 - output_y2_accuracy: 0.7859 - val_loss: 2.9224 - val_output_y1_loss: 0.4677 - val_output_y2_loss: 2.4546 - val_output_y1_accuracy: 0.8217 - val_output_y2_accuracy: 0.6746\n",
      "Epoch 16/50\n",
      "68/68 [==============================] - 0s 5ms/step - loss: 0.6109 - output_y1_loss: 0.1986 - output_y2_loss: 0.4122 - output_y1_accuracy: 0.9296 - output_y2_accuracy: 0.8264 - val_loss: 3.1910 - val_output_y1_loss: 0.4884 - val_output_y2_loss: 2.7026 - val_output_y1_accuracy: 0.8217 - val_output_y2_accuracy: 0.7040\n",
      "Epoch 17/50\n",
      "68/68 [==============================] - 0s 5ms/step - loss: 0.5255 - output_y1_loss: 0.1740 - output_y2_loss: 0.3515 - output_y1_accuracy: 0.9411 - output_y2_accuracy: 0.8517 - val_loss: 3.4413 - val_output_y1_loss: 0.5238 - val_output_y2_loss: 2.9176 - val_output_y1_accuracy: 0.8125 - val_output_y2_accuracy: 0.7077\n",
      "Epoch 18/50\n",
      "68/68 [==============================] - 0s 5ms/step - loss: 0.4815 - output_y1_loss: 0.1611 - output_y2_loss: 0.3204 - output_y1_accuracy: 0.9507 - output_y2_accuracy: 0.8679 - val_loss: 3.9862 - val_output_y1_loss: 0.5752 - val_output_y2_loss: 3.4111 - val_output_y1_accuracy: 0.8235 - val_output_y2_accuracy: 0.7151\n",
      "Epoch 19/50\n",
      "68/68 [==============================] - 0s 4ms/step - loss: 0.4705 - output_y1_loss: 0.1604 - output_y2_loss: 0.3101 - output_y1_accuracy: 0.9461 - output_y2_accuracy: 0.8785 - val_loss: 3.8989 - val_output_y1_loss: 0.5443 - val_output_y2_loss: 3.3546 - val_output_y1_accuracy: 0.8290 - val_output_y2_accuracy: 0.7004\n",
      "Epoch 20/50\n",
      "68/68 [==============================] - 0s 5ms/step - loss: 0.5541 - output_y1_loss: 0.1877 - output_y2_loss: 0.3664 - output_y1_accuracy: 0.9337 - output_y2_accuracy: 0.8352 - val_loss: 3.8414 - val_output_y1_loss: 0.5249 - val_output_y2_loss: 3.3165 - val_output_y1_accuracy: 0.8180 - val_output_y2_accuracy: 0.6893\n",
      "Epoch 21/50\n",
      "68/68 [==============================] - 0s 4ms/step - loss: 0.5111 - output_y1_loss: 0.1816 - output_y2_loss: 0.3295 - output_y1_accuracy: 0.9300 - output_y2_accuracy: 0.8628 - val_loss: 3.9661 - val_output_y1_loss: 0.5335 - val_output_y2_loss: 3.4326 - val_output_y1_accuracy: 0.8309 - val_output_y2_accuracy: 0.7132\n",
      "Epoch 22/50\n",
      "68/68 [==============================] - 0s 4ms/step - loss: 0.4237 - output_y1_loss: 0.1535 - output_y2_loss: 0.2702 - output_y1_accuracy: 0.9489 - output_y2_accuracy: 0.8877 - val_loss: 4.2609 - val_output_y1_loss: 0.5572 - val_output_y2_loss: 3.7037 - val_output_y1_accuracy: 0.8327 - val_output_y2_accuracy: 0.7335\n",
      "Epoch 23/50\n",
      "68/68 [==============================] - 0s 5ms/step - loss: 0.3929 - output_y1_loss: 0.1457 - output_y2_loss: 0.2472 - output_y1_accuracy: 0.9517 - output_y2_accuracy: 0.8978 - val_loss: 5.4929 - val_output_y1_loss: 0.6281 - val_output_y2_loss: 4.8648 - val_output_y1_accuracy: 0.8272 - val_output_y2_accuracy: 0.6618\n",
      "Epoch 24/50\n",
      "68/68 [==============================] - 0s 4ms/step - loss: 0.4761 - output_y1_loss: 0.1802 - output_y2_loss: 0.2959 - output_y1_accuracy: 0.9277 - output_y2_accuracy: 0.8743 - val_loss: 4.6302 - val_output_y1_loss: 0.5734 - val_output_y2_loss: 4.0568 - val_output_y1_accuracy: 0.8235 - val_output_y2_accuracy: 0.7316\n",
      "Epoch 25/50\n",
      "68/68 [==============================] - 0s 5ms/step - loss: 0.3874 - output_y1_loss: 0.1559 - output_y2_loss: 0.2315 - output_y1_accuracy: 0.9434 - output_y2_accuracy: 0.9029 - val_loss: 5.1059 - val_output_y1_loss: 0.6237 - val_output_y2_loss: 4.4821 - val_output_y1_accuracy: 0.8272 - val_output_y2_accuracy: 0.7518\n"
     ]
    },
    {
     "name": "stdout",
     "output_type": "stream",
     "text": [
      "Epoch 26/50\n",
      "68/68 [==============================] - 0s 4ms/step - loss: 0.3219 - output_y1_loss: 0.1453 - output_y2_loss: 0.1766 - output_y1_accuracy: 0.9521 - output_y2_accuracy: 0.9429 - val_loss: 5.0134 - val_output_y1_loss: 0.5769 - val_output_y2_loss: 4.4365 - val_output_y1_accuracy: 0.8235 - val_output_y2_accuracy: 0.7518\n",
      "Epoch 27/50\n",
      "68/68 [==============================] - 0s 4ms/step - loss: 0.2846 - output_y1_loss: 0.1271 - output_y2_loss: 0.1574 - output_y1_accuracy: 0.9590 - output_y2_accuracy: 0.9549 - val_loss: 5.4157 - val_output_y1_loss: 0.6240 - val_output_y2_loss: 4.7917 - val_output_y1_accuracy: 0.8382 - val_output_y2_accuracy: 0.7629\n",
      "Epoch 28/50\n",
      "68/68 [==============================] - 0s 4ms/step - loss: 0.3257 - output_y1_loss: 0.1370 - output_y2_loss: 0.1887 - output_y1_accuracy: 0.9544 - output_y2_accuracy: 0.9401 - val_loss: 5.2550 - val_output_y1_loss: 0.6499 - val_output_y2_loss: 4.6051 - val_output_y1_accuracy: 0.8015 - val_output_y2_accuracy: 0.7316\n",
      "Epoch 29/50\n",
      "68/68 [==============================] - 0s 4ms/step - loss: 0.3879 - output_y1_loss: 0.1569 - output_y2_loss: 0.2310 - output_y1_accuracy: 0.9401 - output_y2_accuracy: 0.9093 - val_loss: 5.5311 - val_output_y1_loss: 0.6202 - val_output_y2_loss: 4.9108 - val_output_y1_accuracy: 0.8235 - val_output_y2_accuracy: 0.7445\n",
      "Epoch 30/50\n",
      "68/68 [==============================] - 0s 4ms/step - loss: 0.3192 - output_y1_loss: 0.1301 - output_y2_loss: 0.1891 - output_y1_accuracy: 0.9503 - output_y2_accuracy: 0.9355 - val_loss: 5.5390 - val_output_y1_loss: 0.6639 - val_output_y2_loss: 4.8751 - val_output_y1_accuracy: 0.8162 - val_output_y2_accuracy: 0.7500\n",
      "Epoch 31/50\n",
      "68/68 [==============================] - 0s 4ms/step - loss: 0.2521 - output_y1_loss: 0.1119 - output_y2_loss: 0.1401 - output_y1_accuracy: 0.9581 - output_y2_accuracy: 0.9567 - val_loss: 6.1729 - val_output_y1_loss: 0.6504 - val_output_y2_loss: 5.5225 - val_output_y1_accuracy: 0.8438 - val_output_y2_accuracy: 0.7574\n",
      "Epoch 32/50\n",
      "68/68 [==============================] - 0s 4ms/step - loss: 0.2102 - output_y1_loss: 0.0953 - output_y2_loss: 0.1149 - output_y1_accuracy: 0.9645 - output_y2_accuracy: 0.9715 - val_loss: 6.3100 - val_output_y1_loss: 0.6394 - val_output_y2_loss: 5.6706 - val_output_y1_accuracy: 0.8309 - val_output_y2_accuracy: 0.7721\n",
      "Epoch 33/50\n",
      "68/68 [==============================] - 0s 4ms/step - loss: 0.1907 - output_y1_loss: 0.0876 - output_y2_loss: 0.1031 - output_y1_accuracy: 0.9659 - output_y2_accuracy: 0.9733 - val_loss: 6.6025 - val_output_y1_loss: 0.6112 - val_output_y2_loss: 5.9913 - val_output_y1_accuracy: 0.8438 - val_output_y2_accuracy: 0.7647\n",
      "Epoch 34/50\n",
      "68/68 [==============================] - 0s 4ms/step - loss: 0.2021 - output_y1_loss: 0.0841 - output_y2_loss: 0.1180 - output_y1_accuracy: 0.9696 - output_y2_accuracy: 0.9618 - val_loss: 7.1949 - val_output_y1_loss: 0.6798 - val_output_y2_loss: 6.5151 - val_output_y1_accuracy: 0.8438 - val_output_y2_accuracy: 0.7500\n",
      "Epoch 35/50\n",
      "68/68 [==============================] - 0s 4ms/step - loss: 0.1749 - output_y1_loss: 0.0821 - output_y2_loss: 0.0928 - output_y1_accuracy: 0.9715 - output_y2_accuracy: 0.9682 - val_loss: 7.0090 - val_output_y1_loss: 0.6051 - val_output_y2_loss: 6.4039 - val_output_y1_accuracy: 0.8493 - val_output_y2_accuracy: 0.7665\n",
      "Epoch 36/50\n",
      "68/68 [==============================] - 0s 4ms/step - loss: 0.1570 - output_y1_loss: 0.0693 - output_y2_loss: 0.0877 - output_y1_accuracy: 0.9756 - output_y2_accuracy: 0.9765 - val_loss: 7.0579 - val_output_y1_loss: 0.6129 - val_output_y2_loss: 6.4451 - val_output_y1_accuracy: 0.8438 - val_output_y2_accuracy: 0.7592\n",
      "Epoch 37/50\n",
      "68/68 [==============================] - 0s 4ms/step - loss: 0.1691 - output_y1_loss: 0.0550 - output_y2_loss: 0.1141 - output_y1_accuracy: 0.9820 - output_y2_accuracy: 0.9641 - val_loss: 7.1551 - val_output_y1_loss: 0.5826 - val_output_y2_loss: 6.5724 - val_output_y1_accuracy: 0.8585 - val_output_y2_accuracy: 0.7739\n",
      "Epoch 38/50\n",
      "68/68 [==============================] - 0s 5ms/step - loss: 0.2872 - output_y1_loss: 0.0884 - output_y2_loss: 0.1988 - output_y1_accuracy: 0.9728 - output_y2_accuracy: 0.9323 - val_loss: 6.2023 - val_output_y1_loss: 0.6446 - val_output_y2_loss: 5.5577 - val_output_y1_accuracy: 0.8162 - val_output_y2_accuracy: 0.6342\n",
      "Epoch 39/50\n",
      "68/68 [==============================] - 0s 4ms/step - loss: 0.3873 - output_y1_loss: 0.0909 - output_y2_loss: 0.2964 - output_y1_accuracy: 0.9669 - output_y2_accuracy: 0.9001 - val_loss: 6.1476 - val_output_y1_loss: 0.4903 - val_output_y2_loss: 5.6573 - val_output_y1_accuracy: 0.8585 - val_output_y2_accuracy: 0.7537\n",
      "Epoch 40/50\n",
      "68/68 [==============================] - 0s 4ms/step - loss: 0.1632 - output_y1_loss: 0.0385 - output_y2_loss: 0.1247 - output_y1_accuracy: 0.9885 - output_y2_accuracy: 0.9572 - val_loss: 6.3870 - val_output_y1_loss: 0.5044 - val_output_y2_loss: 5.8826 - val_output_y1_accuracy: 0.8621 - val_output_y2_accuracy: 0.7684\n",
      "Epoch 41/50\n",
      "68/68 [==============================] - 0s 4ms/step - loss: 0.0976 - output_y1_loss: 0.0241 - output_y2_loss: 0.0735 - output_y1_accuracy: 0.9949 - output_y2_accuracy: 0.9848 - val_loss: 6.8902 - val_output_y1_loss: 0.5256 - val_output_y2_loss: 6.3645 - val_output_y1_accuracy: 0.8732 - val_output_y2_accuracy: 0.7812\n",
      "Epoch 42/50\n",
      "68/68 [==============================] - 0s 4ms/step - loss: 0.0750 - output_y1_loss: 0.0177 - output_y2_loss: 0.0572 - output_y1_accuracy: 0.9945 - output_y2_accuracy: 0.9890 - val_loss: 6.7308 - val_output_y1_loss: 0.5139 - val_output_y2_loss: 6.2169 - val_output_y1_accuracy: 0.8750 - val_output_y2_accuracy: 0.7776\n",
      "Epoch 43/50\n",
      "68/68 [==============================] - 0s 4ms/step - loss: 0.0729 - output_y1_loss: 0.0166 - output_y2_loss: 0.0563 - output_y1_accuracy: 0.9963 - output_y2_accuracy: 0.9908 - val_loss: 6.5520 - val_output_y1_loss: 0.5220 - val_output_y2_loss: 6.0300 - val_output_y1_accuracy: 0.8860 - val_output_y2_accuracy: 0.7757\n",
      "Epoch 44/50\n",
      "68/68 [==============================] - 0s 4ms/step - loss: 0.0701 - output_y1_loss: 0.0193 - output_y2_loss: 0.0508 - output_y1_accuracy: 0.9940 - output_y2_accuracy: 0.9926 - val_loss: 6.8321 - val_output_y1_loss: 0.5249 - val_output_y2_loss: 6.3071 - val_output_y1_accuracy: 0.8787 - val_output_y2_accuracy: 0.7757\n",
      "Epoch 45/50\n",
      "68/68 [==============================] - 0s 4ms/step - loss: 0.0556 - output_y1_loss: 0.0114 - output_y2_loss: 0.0441 - output_y1_accuracy: 0.9972 - output_y2_accuracy: 0.9908 - val_loss: 7.9347 - val_output_y1_loss: 0.5568 - val_output_y2_loss: 7.3779 - val_output_y1_accuracy: 0.8695 - val_output_y2_accuracy: 0.7849\n",
      "Epoch 46/50\n",
      "68/68 [==============================] - 0s 4ms/step - loss: 0.0463 - output_y1_loss: 0.0099 - output_y2_loss: 0.0364 - output_y1_accuracy: 0.9972 - output_y2_accuracy: 0.9945 - val_loss: 7.7421 - val_output_y1_loss: 0.6121 - val_output_y2_loss: 7.1300 - val_output_y1_accuracy: 0.8603 - val_output_y2_accuracy: 0.7757\n",
      "Epoch 47/50\n",
      "68/68 [==============================] - 0s 5ms/step - loss: 0.0618 - output_y1_loss: 0.0154 - output_y2_loss: 0.0463 - output_y1_accuracy: 0.9945 - output_y2_accuracy: 0.9903 - val_loss: 8.2657 - val_output_y1_loss: 0.6089 - val_output_y2_loss: 7.6568 - val_output_y1_accuracy: 0.8732 - val_output_y2_accuracy: 0.7886\n",
      "Epoch 48/50\n",
      "68/68 [==============================] - 0s 5ms/step - loss: 0.1093 - output_y1_loss: 0.0307 - output_y2_loss: 0.0786 - output_y1_accuracy: 0.9903 - output_y2_accuracy: 0.9802 - val_loss: 7.8635 - val_output_y1_loss: 0.5851 - val_output_y2_loss: 7.2784 - val_output_y1_accuracy: 0.8732 - val_output_y2_accuracy: 0.7665\n",
      "Epoch 49/50\n",
      "68/68 [==============================] - 0s 5ms/step - loss: 0.2054 - output_y1_loss: 0.0275 - output_y2_loss: 0.1779 - output_y1_accuracy: 0.9903 - output_y2_accuracy: 0.9457 - val_loss: 7.2488 - val_output_y1_loss: 0.5258 - val_output_y2_loss: 6.7230 - val_output_y1_accuracy: 0.8842 - val_output_y2_accuracy: 0.7574\n",
      "Epoch 50/50\n",
      "68/68 [==============================] - 0s 5ms/step - loss: 0.1276 - output_y1_loss: 0.0169 - output_y2_loss: 0.1107 - output_y1_accuracy: 0.9959 - output_y2_accuracy: 0.9627 - val_loss: 7.1667 - val_output_y1_loss: 0.5668 - val_output_y2_loss: 6.5999 - val_output_y1_accuracy: 0.8934 - val_output_y2_accuracy: 0.7610\n"
     ]
    }
   ],
   "source": [
    "\n",
    "# model mimarisi\n",
    "input_ = tf.keras.Input(shape=(100,))\n",
    "x = tf.keras.layers.Embedding(10000, 32,input_length=100)(input_)\n",
    "x1 = tf.keras.layers.GlobalAveragePooling1D()(x)\n",
    "x2 = tf.keras.layers.Dense(85, activation=\"relu\")(x1)\n",
    "x3 = tf.keras.layers.Dense(120, activation=\"relu\")(x2)\n",
    "x4 = tf.keras.layers.Dense(200, activation=\"relu\")(x3)\n",
    "x5 = tf.keras.layers.Dense(250, activation=\"relu\")(x4)\n",
    "\n",
    "concat_ = tf.keras.layers.concatenate([x1, x2, x5])\n",
    "\n",
    "# katmanlar birlestir\n",
    "output_1 = tf.keras.layers.Dense(num_classes_Y1, activation=\"softmax\", name=\"output_y1\")(concat_)\n",
    "output_2 = tf.keras.layers.Dense(num_classes_Y2, activation=\"sigmoid\", name=\"output_y2\")(concat_)\n",
    "\n",
    "# Create a model with the defined inputs and outputs\n",
    "model = tf.keras.Model(inputs=[x1, x2, x5], outputs=[output_1, output_2])\n",
    "\n",
    "# model\n",
    "model = tf.keras.Model(inputs=input_, outputs=[output_1, output_2])\n",
    "# Model compilation\n",
    "# ...\n",
    "\n",
    "# iki cikisi\n",
    "# output_1 = tf.keras.layers.Dense(num_classes_Y1, activation=\"softmax\", name=\"output_y1\")(concat_)\n",
    "# output_2 = tf.keras.layers.Dense(num_classes_Y2, activation=\"softmax\", name=\"output_y2\")(concat_)\n",
    "\n",
    "\n",
    "\n",
    "# ...\n",
    "# Model compilation\n",
    "model.compile(optimizer='adam',\n",
    "              loss={'output_y1': tf.keras.losses.categorical_crossentropy, 'output_y2': tf.keras.losses.categorical_crossentropy},\n",
    "              metrics={'output_y1': ['accuracy'], 'output_y2': ['accuracy']})\n",
    "\n",
    "\n",
    "# Training the model\n",
    "history = model.fit(training_padded, {'output_y1': Y1_train, 'output_y2': Y2_train},\n",
    "                    validation_data=(testing_padded, {'output_y1': Y1_test, 'output_y2': Y2_test}),\n",
    "                    epochs=50)"
   ]
  },
  {
   "cell_type": "code",
   "execution_count": null,
   "id": "65288b0f",
   "metadata": {},
   "outputs": [],
   "source": []
  },
  {
   "cell_type": "code",
   "execution_count": null,
   "id": "ce49e392",
   "metadata": {},
   "outputs": [],
   "source": []
  },
  {
   "cell_type": "code",
   "execution_count": 50,
   "id": "326082c7",
   "metadata": {},
   "outputs": [
    {
     "name": "stdout",
     "output_type": "stream",
     "text": [
      "Model: \"model_10\"\n",
      "__________________________________________________________________________________________________\n",
      " Layer (type)                Output Shape                 Param #   Connected to                  \n",
      "==================================================================================================\n",
      " input_16 (InputLayer)       [(None, 100)]                0         []                            \n",
      "                                                                                                  \n",
      " embedding_6 (Embedding)     (None, 100, 32)              320000    ['input_16[0][0]']            \n",
      "                                                                                                  \n",
      " global_average_pooling1d_6  (None, 32)                   0         ['embedding_6[0][0]']         \n",
      "  (GlobalAveragePooling1D)                                                                        \n",
      "                                                                                                  \n",
      " dense_24 (Dense)            (None, 85)                   2805      ['global_average_pooling1d_6[0\n",
      "                                                                    ][0]']                        \n",
      "                                                                                                  \n",
      " dense_25 (Dense)            (None, 120)                  10320     ['dense_24[0][0]']            \n",
      "                                                                                                  \n",
      " dense_26 (Dense)            (None, 200)                  24200     ['dense_25[0][0]']            \n",
      "                                                                                                  \n",
      " dense_27 (Dense)            (None, 250)                  50250     ['dense_26[0][0]']            \n",
      "                                                                                                  \n",
      " concatenate_6 (Concatenate  (None, 367)                  0         ['global_average_pooling1d_6[0\n",
      " )                                                                  ][0]',                        \n",
      "                                                                     'dense_24[0][0]',            \n",
      "                                                                     'dense_27[0][0]']            \n",
      "                                                                                                  \n",
      " output_y1 (Dense)           (None, 2)                    736       ['concatenate_6[0][0]']       \n",
      "                                                                                                  \n",
      " output_y2 (Dense)           (None, 7)                    2576      ['concatenate_6[0][0]']       \n",
      "                                                                                                  \n",
      "==================================================================================================\n",
      "Total params: 410887 (1.57 MB)\n",
      "Trainable params: 410887 (1.57 MB)\n",
      "Non-trainable params: 0 (0.00 Byte)\n",
      "__________________________________________________________________________________________________\n"
     ]
    }
   ],
   "source": [
    "#model ozeti\n",
    "model.summary()"
   ]
  },
  {
   "cell_type": "code",
   "execution_count": 51,
   "id": "06030cfa",
   "metadata": {},
   "outputs": [],
   "source": [
    "# training\n"
   ]
  },
  {
   "cell_type": "code",
   "execution_count": 54,
   "id": "a8a89d3b",
   "metadata": {},
   "outputs": [
    {
     "data": {
      "image/png": "[encoded data removed]",
      "text/plain": [
       "<Figure size 1200x600 with 2 Axes>"
      ]
     },
     "metadata": {},
     "output_type": "display_data"
    }
   ],
   "source": [
    "import matplotlib.pyplot as plt\n",
    "\n",
    "# Extract training and validation accuracy and loss values\n",
    "train_loss_y1 = history.history['output_y1_loss']\n",
    "val_loss_y1 = history.history['val_output_y1_loss']\n",
    "train_acc_y1 = history.history['output_y1_accuracy']\n",
    "val_acc_y1 = history.history['val_output_y1_accuracy']\n",
    "\n",
    "train_loss_y2 = history.history['output_y2_loss']\n",
    "val_loss_y2 = history.history['val_output_y2_loss']\n",
    "train_acc_y2 = history.history['output_y2_accuracy']\n",
    "val_acc_y2 = history.history['val_output_y2_accuracy']\n",
    "\n",
    "# Create subplots for accuracy and loss\n",
    "plt.figure(figsize=(12, 6))\n",
    "\n",
    "# Plot accuracy\n",
    "plt.subplot(1, 2, 1)\n",
    "plt.plot(range(1, len(train_acc_y1) + 1), train_acc_y1, label='Training y1')\n",
    "plt.plot(range(1, len(val_acc_y1) + 1), val_acc_y1, label='Validation y1')\n",
    "plt.plot(range(1, len(train_acc_y2) + 1), train_acc_y2, label='Training y2')\n",
    "plt.plot(range(1, len(val_acc_y2) + 1), val_acc_y2, label='Validation y2')\n",
    "plt.title('Model Accuracy')\n",
    "plt.xlabel('Epoch')\n",
    "plt.ylabel('Accuracy')\n",
    "plt.legend()\n",
    "\n",
    "# Plot loss\n",
    "plt.subplot(1, 2, 2)\n",
    "plt.plot(range(1, len(train_loss_y1) + 1), train_loss_y1, label='Training y1')\n",
    "plt.plot(range(1, len(val_loss_y1) + 1), val_loss_y1, label='Validation y1')\n",
    "plt.plot(range(1, len(train_loss_y2) + 1), train_loss_y2, label='Training y2')\n",
    "plt.plot(range(1, len(val_loss_y2) + 1), val_loss_y2, label='Validation y2')\n",
    "plt.title('Model Loss')\n",
    "plt.xlabel('Epoch')\n",
    "plt.ylabel('Loss')\n",
    "plt.legend()\n",
    "\n",
    "plt.tight_layout()\n",
    "plt.show()\n"
   ]
  },
  {
   "cell_type": "code",
   "execution_count": null,
   "id": "6a4c62fb",
   "metadata": {
    "pycharm": {
     "name": "#%%\n"
    }
   },
   "outputs": [],
   "source": []
  },
  {
   "cell_type": "code",
   "execution_count": null,
   "id": "287aadef",
   "metadata": {
    "pycharm": {
     "name": "#%%\n"
    }
   },
   "outputs": [],
   "source": []
  },
  {
   "cell_type": "code",
   "execution_count": null,
   "id": "c5fe5ab0",
   "metadata": {
    "pycharm": {
     "name": "#%%\n"
    }
   },
   "outputs": [],
   "source": []
  },
  {
   "cell_type": "code",
   "execution_count": 52,
   "id": "1aa339a7",
   "metadata": {
    "pycharm": {
     "name": "#%%\n"
    }
   },
   "outputs": [
    {
     "name": "stdout",
     "output_type": "stream",
     "text": [
      "17/17 [==============================] - 0s 1ms/step - loss: 7.1667 - output_y1_loss: 0.5668 - output_y2_loss: 6.5999 - output_y1_accuracy: 0.8934 - output_y2_accuracy: 0.7610\n"
     ]
    }
   ],
   "source": [
    "# evaluating\n",
    "histo=model.evaluate(testing_padded,(Y1_test,Y2_test))"
   ]
  },
  {
   "cell_type": "code",
   "execution_count": 51,
   "id": "423395c5",
   "metadata": {
    "pycharm": {
     "name": "#%%\n"
    }
   },
   "outputs": [],
   "source": []
  },
  {
   "cell_type": "code",
   "execution_count": 61,
   "id": "d2abd940",
   "metadata": {
    "pycharm": {
     "name": "#%%\n"
    }
   },
   "outputs": [
    {
     "name": "stdout",
     "output_type": "stream",
     "text": [
      "1/1 [==============================] - 0s 19ms/step\n",
      "[array([[9.993278e-01, 6.722074e-04]], dtype=float32), array([[8.1577939e-01, 3.0601958e-26, 4.0118592e-03, 6.5791655e-01,\n",
      "        6.8455803e-01, 9.9166220e-01, 3.0393185e-15]], dtype=float32)]\n"
     ]
    }
   ],
   "source": [
    "# testing\n",
    "sentence = [\"ali koçtan şike kumpası davasında verilen cezalara ilişkin ilk açıklama \"]\n",
    "sequences = tokenizer.texts_to_sequences(sentence)\n",
    "padded = pad_sequences(sequences, maxlen=100, padding='post', truncating='post')\n",
    "prediction=model.predict(padded)\n",
    "print(prediction)"
   ]
  },
  {
   "cell_type": "code",
   "execution_count": 63,
   "id": "eb9567a7",
   "metadata": {
    "pycharm": {
     "name": "#%%\n"
    }
   },
   "outputs": [
    {
     "name": "stdout",
     "output_type": "stream",
     "text": [
      "0\n"
     ]
    }
   ],
   "source": [
    "print(np.argmax(prediction[0]))"
   ]
  },
  {
   "cell_type": "code",
   "execution_count": 59,
   "id": "90e48aff",
   "metadata": {},
   "outputs": [
    {
     "name": "stderr",
     "output_type": "stream",
     "text": [
      "C:\\Users\\USMAN KHALID\\anaconda3\\lib\\site-packages\\keras\\src\\engine\\training.py:3000: UserWarning: You are saving your model as an HDF5 file via `model.save()`. This file format is considered legacy. We recommend using instead the native Keras format, e.g. `model.save('my_model.keras')`.\n",
      "  saving_api.save_model(\n"
     ]
    }
   ],
   "source": [
    "#model kaydetmek\n",
    "model.save('tweetter1.h5')"
   ]
  },
  {
   "cell_type": "code",
   "execution_count": 60,
   "id": "ae5ad423",
   "metadata": {
    "pycharm": {
     "name": "#%%\n"
    }
   },
   "outputs": [],
   "source": [
    "import pickle\n",
    "\n",
    "# tokenizer kaydetmek\n",
    "with open('tweeter_tokenizer4.pickle', 'wb') as handle:\n",
    "    pickle.dump(tokenizer, handle, protocol=pickle.HIGHEST_PROTOCOL)"
   ]
  },
  {
   "cell_type": "code",
   "execution_count": null,
   "id": "1f78d3c7",
   "metadata": {
    "pycharm": {
     "name": "#%%\n"
    }
   },
   "outputs": [],
   "source": []
  },
  {
   "cell_type": "code",
   "execution_count": 37,
   "id": "0bc6cae8",
   "metadata": {},
   "outputs": [],
   "source": [
    "model2 = tf.keras.models.load_model(\"tweetter4.h5\")"
   ]
  },
  {
   "cell_type": "code",
   "execution_count": 52,
   "id": "2d1d90f4",
   "metadata": {},
   "outputs": [
    {
     "name": "stdout",
     "output_type": "stream",
     "text": [
      "17/17 [==============================] - 0s 2ms/step\n"
     ]
    }
   ],
   "source": [
    "pred=model2.predict(testing_padded)"
   ]
  },
  {
   "cell_type": "code",
   "execution_count": 73,
   "id": "66c290e3",
   "metadata": {},
   "outputs": [
    {
     "data": {
      "text/plain": [
       "1"
      ]
     },
     "execution_count": 73,
     "metadata": {},
     "output_type": "execute_result"
    }
   ],
   "source": [
    "np.argmax(pred[0][50])"
   ]
  },
  {
   "cell_type": "code",
   "execution_count": null,
   "id": "2293e307",
   "metadata": {},
   "outputs": [],
   "source": [
    "\n",
    "   "
   ]
  },
  {
   "cell_type": "code",
   "execution_count": null,
   "id": "1fb8b6a4",
   "metadata": {},
   "outputs": [],
   "source": []
  },
  {
   "cell_type": "code",
   "execution_count": null,
   "id": "001e47d4",
   "metadata": {},
   "outputs": [],
   "source": []
  },
  {
   "cell_type": "code",
   "execution_count": null,
   "id": "c3571e17",
   "metadata": {},
   "outputs": [],
   "source": []
  },
  {
   "cell_type": "code",
   "execution_count": null,
   "id": "aeac91b4",
   "metadata": {},
   "outputs": [],
   "source": []
  },
  {
   "cell_type": "code",
   "execution_count": null,
   "id": "5632eb2d",
   "metadata": {},
   "outputs": [],
   "source": []
  },
  {
   "cell_type": "code",
   "execution_count": null,
   "id": "e2fc7336",
   "metadata": {},
   "outputs": [],
   "source": []
  }
 ],
 "metadata": {
  "kernelspec": {
   "display_name": "Python 3 (ipykernel)",
   "language": "python",
   "name": "python3"
  },
  "language_info": {
   "codemirror_mode": {
    "name": "ipython",
    "version": 3
   },
   "file_extension": ".py",
   "mimetype": "text/x-python",
   "name": "python",
   "nbconvert_exporter": "python",
   "pygments_lexer": "ipython3",
   "version": "3.10.9"
  }
 },
 "nbformat": 4,
 "nbformat_minor": 5
}
