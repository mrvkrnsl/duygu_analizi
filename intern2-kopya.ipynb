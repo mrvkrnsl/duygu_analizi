{
 "cells": [
  {
   "cell_type": "markdown",
   "id": "93cc4e94",
   "metadata": {},
   "source": [
    "# Haber Tweetlerinin Duygu Analizi Ve Sınıflandırma"
   ]
  },
  {
   "cell_type": "code",
   "execution_count": 1,
   "id": "d9ac5b43",
   "metadata": {
    "scrolled": true
   },
   "outputs": [],
   "source": [
    "import string  \n",
    "import numpy as np\n",
    "import pandas as pd\n",
    "import tensorflow as tf\n",
    "from tensorflow import keras\n",
    "from tensorflow.keras.preprocessing.text import Tokenizer\n",
    "from sklearn.model_selection import train_test_split\n",
    "from tensorflow.keras.preprocessing.sequence import pad_sequences\n",
    "from sklearn import preprocessing \n",
    "import re"
   ]
  },
  {
   "cell_type": "code",
   "execution_count": null,
   "id": "088ee031",
   "metadata": {},
   "outputs": [],
   "source": []
  },
  {
   "cell_type": "code",
   "execution_count": 2,
   "id": "93b35e55",
   "metadata": {},
   "outputs": [],
   "source": [
    "# veri seti okumasi\n",
    "data=pd.read_csv(\"dataset.csv\")"
   ]
  },
  {
   "cell_type": "code",
   "execution_count": 3,
   "id": "b9d6d8cb",
   "metadata": {},
   "outputs": [
    {
     "data": {
      "text/plain": [
       "Unnamed: 0       2716\n",
       "hour             2716\n",
       "tweet            2716\n",
       "Tweets_duygu     2716\n",
       "sınıflandırma    2716\n",
       "dtype: int64"
      ]
     },
     "execution_count": 3,
     "metadata": {},
     "output_type": "execute_result"
    }
   ],
   "source": [
    "# kac tane veri var\n",
    "data.count()"
   ]
  },
  {
   "cell_type": "code",
   "execution_count": 4,
   "id": "daaeb7be",
   "metadata": {},
   "outputs": [
    {
     "data": {
      "text/html": [
       "<div>\n",
       "<style scoped>\n",
       "    .dataframe tbody tr th:only-of-type {\n",
       "        vertical-align: middle;\n",
       "    }\n",
       "\n",
       "    .dataframe tbody tr th {\n",
       "        vertical-align: top;\n",
       "    }\n",
       "\n",
       "    .dataframe thead th {\n",
       "        text-align: right;\n",
       "    }\n",
       "</style>\n",
       "<table border=\"1\" class=\"dataframe\">\n",
       "  <thead>\n",
       "    <tr style=\"text-align: right;\">\n",
       "      <th></th>\n",
       "      <th>Unnamed: 0</th>\n",
       "      <th>hour</th>\n",
       "      <th>tweet</th>\n",
       "      <th>Tweets_duygu</th>\n",
       "      <th>sınıflandırma</th>\n",
       "    </tr>\n",
       "  </thead>\n",
       "  <tbody>\n",
       "    <tr>\n",
       "      <th>0</th>\n",
       "      <td>0</td>\n",
       "      <td>9</td>\n",
       "      <td>Ali Koçtan Şike Kumpası Davasında verilen ceza...</td>\n",
       "      <td>negatif</td>\n",
       "      <td>spor</td>\n",
       "    </tr>\n",
       "    <tr>\n",
       "      <th>1</th>\n",
       "      <td>1</td>\n",
       "      <td>8</td>\n",
       "      <td>Abdulkadir Selvi Venezuelaya giden CHPli mille...</td>\n",
       "      <td>negatif</td>\n",
       "      <td>siyaset</td>\n",
       "    </tr>\n",
       "    <tr>\n",
       "      <th>2</th>\n",
       "      <td>2</td>\n",
       "      <td>8</td>\n",
       "      <td>Futbolda şike soruşturmasını ilk başlatan poli...</td>\n",
       "      <td>negatif</td>\n",
       "      <td>spor</td>\n",
       "    </tr>\n",
       "    <tr>\n",
       "      <th>3</th>\n",
       "      <td>3</td>\n",
       "      <td>8</td>\n",
       "      <td>SONDAKİKA Futbolda şike kumpası davası Hidayet...</td>\n",
       "      <td>negatif</td>\n",
       "      <td>spor</td>\n",
       "    </tr>\n",
       "    <tr>\n",
       "      <th>4</th>\n",
       "      <td>4</td>\n",
       "      <td>6</td>\n",
       "      <td>AKPde bir istifa kararı daha</td>\n",
       "      <td>negatif</td>\n",
       "      <td>siyaset</td>\n",
       "    </tr>\n",
       "    <tr>\n",
       "      <th>5</th>\n",
       "      <td>5</td>\n",
       "      <td>6</td>\n",
       "      <td>CHPli Tanrıkulu  Yargıtay Mehmet Ağar hakkında...</td>\n",
       "      <td>negatif</td>\n",
       "      <td>siyaset</td>\n",
       "    </tr>\n",
       "    <tr>\n",
       "      <th>6</th>\n",
       "      <td>6</td>\n",
       "      <td>6</td>\n",
       "      <td>Bahçeli Erdoğanın  yıllık dostunu FETÖcü ilan ...</td>\n",
       "      <td>negatif</td>\n",
       "      <td>siyaset</td>\n",
       "    </tr>\n",
       "    <tr>\n",
       "      <th>7</th>\n",
       "      <td>7</td>\n",
       "      <td>6</td>\n",
       "      <td>Ünlü sunucu  Ezgi Avcının tatil pozları mest e...</td>\n",
       "      <td>pozitif</td>\n",
       "      <td>saglik</td>\n",
       "    </tr>\n",
       "    <tr>\n",
       "      <th>8</th>\n",
       "      <td>8</td>\n",
       "      <td>6</td>\n",
       "      <td>Ahmet Takan  Siyaset sahnesindeki racon kesmel...</td>\n",
       "      <td>negatif</td>\n",
       "      <td>siyaset</td>\n",
       "    </tr>\n",
       "    <tr>\n",
       "      <th>9</th>\n",
       "      <td>9</td>\n",
       "      <td>6</td>\n",
       "      <td>Kılıçdaroğlundan Saraya yanıt Trolleri Kılıçda...</td>\n",
       "      <td>negatif</td>\n",
       "      <td>siyaset</td>\n",
       "    </tr>\n",
       "  </tbody>\n",
       "</table>\n",
       "</div>"
      ],
      "text/plain": [
       "   Unnamed: 0  hour                                              tweet  \\\n",
       "0           0     9  Ali Koçtan Şike Kumpası Davasında verilen ceza...   \n",
       "1           1     8  Abdulkadir Selvi Venezuelaya giden CHPli mille...   \n",
       "2           2     8  Futbolda şike soruşturmasını ilk başlatan poli...   \n",
       "3           3     8  SONDAKİKA Futbolda şike kumpası davası Hidayet...   \n",
       "4           4     6                     AKPde bir istifa kararı daha     \n",
       "5           5     6  CHPli Tanrıkulu  Yargıtay Mehmet Ağar hakkında...   \n",
       "6           6     6  Bahçeli Erdoğanın  yıllık dostunu FETÖcü ilan ...   \n",
       "7           7     6  Ünlü sunucu  Ezgi Avcının tatil pozları mest e...   \n",
       "8           8     6  Ahmet Takan  Siyaset sahnesindeki racon kesmel...   \n",
       "9           9     6  Kılıçdaroğlundan Saraya yanıt Trolleri Kılıçda...   \n",
       "\n",
       "  Tweets_duygu sınıflandırma  \n",
       "0      negatif         spor   \n",
       "1      negatif      siyaset   \n",
       "2      negatif         spor   \n",
       "3      negatif         spor   \n",
       "4      negatif      siyaset   \n",
       "5      negatif      siyaset   \n",
       "6      negatif      siyaset   \n",
       "7      pozitif       saglik   \n",
       "8      negatif      siyaset   \n",
       "9      negatif      siyaset   "
      ]
     },
     "execution_count": 4,
     "metadata": {},
     "output_type": "execute_result"
    }
   ],
   "source": [
    "# ilk 10 veri gorunmesi\n",
    "data.head(10)"
   ]
  },
  {
   "cell_type": "code",
   "execution_count": 5,
   "id": "8b6ae502",
   "metadata": {
    "pycharm": {
     "name": "#%%\n"
    }
   },
   "outputs": [
    {
     "data": {
      "text/plain": [
       "array(['negatif', 'pozitif'], dtype=object)"
      ]
     },
     "execution_count": 5,
     "metadata": {},
     "output_type": "execute_result"
    }
   ],
   "source": [
    "# Tweets_duygu\n",
    "data.Tweets_duygu.unique()"
   ]
  },
  {
   "cell_type": "code",
   "execution_count": 6,
   "id": "8161d5ab",
   "metadata": {},
   "outputs": [
    {
     "data": {
      "text/plain": [
       "array(['spor ', 'siyaset ', 'saglik ', 'kultur ', 'dunya ', 'ekonomi ',\n",
       "       'teknoloji '], dtype=object)"
      ]
     },
     "execution_count": 6,
     "metadata": {},
     "output_type": "execute_result"
    }
   ],
   "source": [
    "# hangi sinifa ait\n",
    "data.sınıflandırma.unique()  "
   ]
  },
  {
   "cell_type": "code",
   "execution_count": 5,
   "id": "556d87a5",
   "metadata": {
    "pycharm": {
     "name": "#%%\n"
    }
   },
   "outputs": [
    {
     "data": {
      "text/plain": [
       "False"
      ]
     },
     "execution_count": 5,
     "metadata": {},
     "output_type": "execute_result"
    }
   ],
   "source": [
    "# nall veri var mi yok mu\n",
    "data.isnull().values.any()"
   ]
  },
  {
   "cell_type": "code",
   "execution_count": 6,
   "id": "9fdb3d76",
   "metadata": {},
   "outputs": [
    {
     "data": {
      "text/plain": [
       "Unnamed: 0       2716\n",
       "hour             2716\n",
       "tweet            2716\n",
       "Tweets_duygu     2716\n",
       "sınıflandırma    2716\n",
       "dtype: int64"
      ]
     },
     "execution_count": 6,
     "metadata": {},
     "output_type": "execute_result"
    }
   ],
   "source": [
    "data.isnull().count()"
   ]
  },
  {
   "cell_type": "code",
   "execution_count": 7,
   "id": "e4f6f456",
   "metadata": {},
   "outputs": [],
   "source": [
    "# nall verileri silome\n",
    "data=data.dropna()"
   ]
  },
  {
   "cell_type": "code",
   "execution_count": null,
   "id": "c7122229",
   "metadata": {},
   "outputs": [],
   "source": []
  },
  {
   "cell_type": "code",
   "execution_count": 8,
   "id": "f0f762a4",
   "metadata": {},
   "outputs": [
    {
     "data": {
      "text/plain": [
       "Unnamed: 0       2716\n",
       "hour             2716\n",
       "tweet            2716\n",
       "Tweets_duygu     2716\n",
       "sınıflandırma    2716\n",
       "dtype: int64"
      ]
     },
     "execution_count": 8,
     "metadata": {},
     "output_type": "execute_result"
    }
   ],
   "source": [
    "data.count()"
   ]
  },
  {
   "cell_type": "code",
   "execution_count": 9,
   "id": "c39aa792",
   "metadata": {},
   "outputs": [
    {
     "data": {
      "text/plain": [
       "False"
      ]
     },
     "execution_count": 9,
     "metadata": {},
     "output_type": "execute_result"
    }
   ],
   "source": [
    "# nallvar mi yok mu tekrar kontrol etmek\n",
    "data.isnull().values.any()"
   ]
  },
  {
   "cell_type": "code",
   "execution_count": 10,
   "id": "ec8c2987",
   "metadata": {},
   "outputs": [
    {
     "name": "stderr",
     "output_type": "stream",
     "text": [
      "C:\\Users\\USMAN KHALID\\AppData\\Local\\Temp\\ipykernel_18376\\3717164451.py:2: FutureWarning: The default value of regex will change from True to False in a future version.\n",
      "  data['tweet'] = data['tweet'].str.replace('\\d+', '')\n"
     ]
    }
   ],
   "source": [
    "# strip yapmk\n",
    "data['tweet'] = data['tweet'].str.replace('\\d+', '')\n",
    "data['tweet'] = data['tweet'].str.rstrip(string.digits)"
   ]
  },
  {
   "cell_type": "code",
   "execution_count": null,
   "id": "fe6d7a10",
   "metadata": {},
   "outputs": [],
   "source": [
    "\n"
   ]
  },
  {
   "cell_type": "code",
   "execution_count": null,
   "id": "4270288d",
   "metadata": {},
   "outputs": [],
   "source": []
  },
  {
   "cell_type": "code",
   "execution_count": null,
   "id": "a2e6ea54",
   "metadata": {},
   "outputs": [],
   "source": []
  },
  {
   "cell_type": "code",
   "execution_count": null,
   "id": "04043db4",
   "metadata": {
    "pycharm": {
     "name": "#%%\n"
    }
   },
   "outputs": [],
   "source": []
  },
  {
   "cell_type": "code",
   "execution_count": 11,
   "id": "266d7ff0",
   "metadata": {
    "pycharm": {
     "name": "#%%\n"
    }
   },
   "outputs": [
    {
     "data": {
      "text/html": [
       "<div>\n",
       "<style scoped>\n",
       "    .dataframe tbody tr th:only-of-type {\n",
       "        vertical-align: middle;\n",
       "    }\n",
       "\n",
       "    .dataframe tbody tr th {\n",
       "        vertical-align: top;\n",
       "    }\n",
       "\n",
       "    .dataframe thead th {\n",
       "        text-align: right;\n",
       "    }\n",
       "</style>\n",
       "<table border=\"1\" class=\"dataframe\">\n",
       "  <thead>\n",
       "    <tr style=\"text-align: right;\">\n",
       "      <th></th>\n",
       "      <th>Unnamed: 0</th>\n",
       "      <th>hour</th>\n",
       "      <th>tweet</th>\n",
       "      <th>Tweets_duygu</th>\n",
       "      <th>sınıflandırma</th>\n",
       "    </tr>\n",
       "  </thead>\n",
       "  <tbody>\n",
       "    <tr>\n",
       "      <th>0</th>\n",
       "      <td>0</td>\n",
       "      <td>9</td>\n",
       "      <td>Ali Koçtan Şike Kumpası Davasında verilen ceza...</td>\n",
       "      <td>negatif</td>\n",
       "      <td>spor</td>\n",
       "    </tr>\n",
       "    <tr>\n",
       "      <th>1</th>\n",
       "      <td>1</td>\n",
       "      <td>8</td>\n",
       "      <td>Abdulkadir Selvi Venezuelaya giden CHPli mille...</td>\n",
       "      <td>negatif</td>\n",
       "      <td>siyaset</td>\n",
       "    </tr>\n",
       "    <tr>\n",
       "      <th>2</th>\n",
       "      <td>2</td>\n",
       "      <td>8</td>\n",
       "      <td>Futbolda şike soruşturmasını ilk başlatan poli...</td>\n",
       "      <td>negatif</td>\n",
       "      <td>spor</td>\n",
       "    </tr>\n",
       "    <tr>\n",
       "      <th>3</th>\n",
       "      <td>3</td>\n",
       "      <td>8</td>\n",
       "      <td>SONDAKİKA Futbolda şike kumpası davası Hidayet...</td>\n",
       "      <td>negatif</td>\n",
       "      <td>spor</td>\n",
       "    </tr>\n",
       "    <tr>\n",
       "      <th>4</th>\n",
       "      <td>4</td>\n",
       "      <td>6</td>\n",
       "      <td>AKPde bir istifa kararı daha</td>\n",
       "      <td>negatif</td>\n",
       "      <td>siyaset</td>\n",
       "    </tr>\n",
       "  </tbody>\n",
       "</table>\n",
       "</div>"
      ],
      "text/plain": [
       "   Unnamed: 0  hour                                              tweet  \\\n",
       "0           0     9  Ali Koçtan Şike Kumpası Davasında verilen ceza...   \n",
       "1           1     8  Abdulkadir Selvi Venezuelaya giden CHPli mille...   \n",
       "2           2     8  Futbolda şike soruşturmasını ilk başlatan poli...   \n",
       "3           3     8  SONDAKİKA Futbolda şike kumpası davası Hidayet...   \n",
       "4           4     6                     AKPde bir istifa kararı daha     \n",
       "\n",
       "  Tweets_duygu sınıflandırma  \n",
       "0      negatif         spor   \n",
       "1      negatif      siyaset   \n",
       "2      negatif         spor   \n",
       "3      negatif         spor   \n",
       "4      negatif      siyaset   "
      ]
     },
     "execution_count": 11,
     "metadata": {},
     "output_type": "execute_result"
    }
   ],
   "source": [
    "data.head(5)"
   ]
  },
  {
   "cell_type": "code",
   "execution_count": null,
   "id": "d9d90d7b",
   "metadata": {
    "pycharm": {
     "name": "#%%\n"
    }
   },
   "outputs": [],
   "source": []
  },
  {
   "cell_type": "code",
   "execution_count": 12,
   "id": "5e482258",
   "metadata": {},
   "outputs": [],
   "source": [
    "# encoder\n",
    "label_encoder =preprocessing .LabelEncoder()"
   ]
  },
  {
   "cell_type": "code",
   "execution_count": 13,
   "id": "15459642",
   "metadata": {},
   "outputs": [],
   "source": [
    "# fit transform yapmak\n",
    "data['Tweets_duygu']= label_encoder.fit_transform(data['Tweets_duygu'])\n",
    "data['sınıflandırma']= label_encoder.fit_transform(data['sınıflandırma'])"
   ]
  },
  {
   "cell_type": "code",
   "execution_count": 14,
   "id": "5dee751f",
   "metadata": {},
   "outputs": [
    {
     "data": {
      "text/plain": [
       "array([0, 1])"
      ]
     },
     "execution_count": 14,
     "metadata": {},
     "output_type": "execute_result"
    }
   ],
   "source": [
    "data.Tweets_duygu.unique()\n",
    "\n"
   ]
  },
  {
   "cell_type": "code",
   "execution_count": 15,
   "id": "affe6d49",
   "metadata": {},
   "outputs": [
    {
     "data": {
      "text/plain": [
       "array([5, 4, 3, 2, 0, 1, 6])"
      ]
     },
     "execution_count": 15,
     "metadata": {},
     "output_type": "execute_result"
    }
   ],
   "source": [
    "data.sınıflandırma.unique()"
   ]
  },
  {
   "cell_type": "code",
   "execution_count": 16,
   "id": "5395f23c",
   "metadata": {},
   "outputs": [
    {
     "data": {
      "text/html": [
       "<div>\n",
       "<style scoped>\n",
       "    .dataframe tbody tr th:only-of-type {\n",
       "        vertical-align: middle;\n",
       "    }\n",
       "\n",
       "    .dataframe tbody tr th {\n",
       "        vertical-align: top;\n",
       "    }\n",
       "\n",
       "    .dataframe thead th {\n",
       "        text-align: right;\n",
       "    }\n",
       "</style>\n",
       "<table border=\"1\" class=\"dataframe\">\n",
       "  <thead>\n",
       "    <tr style=\"text-align: right;\">\n",
       "      <th></th>\n",
       "      <th>Unnamed: 0</th>\n",
       "      <th>hour</th>\n",
       "      <th>tweet</th>\n",
       "      <th>Tweets_duygu</th>\n",
       "      <th>sınıflandırma</th>\n",
       "    </tr>\n",
       "  </thead>\n",
       "  <tbody>\n",
       "    <tr>\n",
       "      <th>0</th>\n",
       "      <td>0</td>\n",
       "      <td>9</td>\n",
       "      <td>Ali Koçtan Şike Kumpası Davasında verilen ceza...</td>\n",
       "      <td>0</td>\n",
       "      <td>5</td>\n",
       "    </tr>\n",
       "    <tr>\n",
       "      <th>1</th>\n",
       "      <td>1</td>\n",
       "      <td>8</td>\n",
       "      <td>Abdulkadir Selvi Venezuelaya giden CHPli mille...</td>\n",
       "      <td>0</td>\n",
       "      <td>4</td>\n",
       "    </tr>\n",
       "    <tr>\n",
       "      <th>2</th>\n",
       "      <td>2</td>\n",
       "      <td>8</td>\n",
       "      <td>Futbolda şike soruşturmasını ilk başlatan poli...</td>\n",
       "      <td>0</td>\n",
       "      <td>5</td>\n",
       "    </tr>\n",
       "    <tr>\n",
       "      <th>3</th>\n",
       "      <td>3</td>\n",
       "      <td>8</td>\n",
       "      <td>SONDAKİKA Futbolda şike kumpası davası Hidayet...</td>\n",
       "      <td>0</td>\n",
       "      <td>5</td>\n",
       "    </tr>\n",
       "    <tr>\n",
       "      <th>4</th>\n",
       "      <td>4</td>\n",
       "      <td>6</td>\n",
       "      <td>AKPde bir istifa kararı daha</td>\n",
       "      <td>0</td>\n",
       "      <td>4</td>\n",
       "    </tr>\n",
       "    <tr>\n",
       "      <th>...</th>\n",
       "      <td>...</td>\n",
       "      <td>...</td>\n",
       "      <td>...</td>\n",
       "      <td>...</td>\n",
       "      <td>...</td>\n",
       "    </tr>\n",
       "    <tr>\n",
       "      <th>115</th>\n",
       "      <td>115</td>\n",
       "      <td>19</td>\n",
       "      <td>Magazin muhabirinden şok iddia Nagehan Alçı ve...</td>\n",
       "      <td>0</td>\n",
       "      <td>2</td>\n",
       "    </tr>\n",
       "    <tr>\n",
       "      <th>116</th>\n",
       "      <td>116</td>\n",
       "      <td>19</td>\n",
       "      <td>Temel Karamollaoğlu Esnaf Kongresinde konuştu ...</td>\n",
       "      <td>0</td>\n",
       "      <td>4</td>\n",
       "    </tr>\n",
       "    <tr>\n",
       "      <th>117</th>\n",
       "      <td>117</td>\n",
       "      <td>19</td>\n",
       "      <td>Tuvana Türkay Türkiyeden gidiyor</td>\n",
       "      <td>0</td>\n",
       "      <td>5</td>\n",
       "    </tr>\n",
       "    <tr>\n",
       "      <th>118</th>\n",
       "      <td>118</td>\n",
       "      <td>19</td>\n",
       "      <td>AKPde istifa şoku Peş peşe açıkladılar</td>\n",
       "      <td>0</td>\n",
       "      <td>4</td>\n",
       "    </tr>\n",
       "    <tr>\n",
       "      <th>119</th>\n",
       "      <td>119</td>\n",
       "      <td>19</td>\n",
       "      <td>Esnafın vergi borçlarına faizsiz erteleme</td>\n",
       "      <td>1</td>\n",
       "      <td>1</td>\n",
       "    </tr>\n",
       "  </tbody>\n",
       "</table>\n",
       "<p>120 rows × 5 columns</p>\n",
       "</div>"
      ],
      "text/plain": [
       "     Unnamed: 0  hour                                              tweet  \\\n",
       "0             0     9  Ali Koçtan Şike Kumpası Davasında verilen ceza...   \n",
       "1             1     8  Abdulkadir Selvi Venezuelaya giden CHPli mille...   \n",
       "2             2     8  Futbolda şike soruşturmasını ilk başlatan poli...   \n",
       "3             3     8  SONDAKİKA Futbolda şike kumpası davası Hidayet...   \n",
       "4             4     6                     AKPde bir istifa kararı daha     \n",
       "..          ...   ...                                                ...   \n",
       "115         115    19  Magazin muhabirinden şok iddia Nagehan Alçı ve...   \n",
       "116         116    19  Temel Karamollaoğlu Esnaf Kongresinde konuştu ...   \n",
       "117         117    19                 Tuvana Türkay Türkiyeden gidiyor     \n",
       "118         118    19           AKPde istifa şoku Peş peşe açıkladılar     \n",
       "119         119    19        Esnafın vergi borçlarına faizsiz erteleme     \n",
       "\n",
       "     Tweets_duygu  sınıflandırma  \n",
       "0               0              5  \n",
       "1               0              4  \n",
       "2               0              5  \n",
       "3               0              5  \n",
       "4               0              4  \n",
       "..            ...            ...  \n",
       "115             0              2  \n",
       "116             0              4  \n",
       "117             0              5  \n",
       "118             0              4  \n",
       "119             1              1  \n",
       "\n",
       "[120 rows x 5 columns]"
      ]
     },
     "execution_count": 16,
     "metadata": {},
     "output_type": "execute_result"
    }
   ],
   "source": [
    "# tekrar inceleme\n",
    "data.head(120)"
   ]
  },
  {
   "cell_type": "code",
   "execution_count": null,
   "id": "aafd558e",
   "metadata": {},
   "outputs": [],
   "source": []
  },
  {
   "cell_type": "code",
   "execution_count": 17,
   "id": "744fdd3c",
   "metadata": {
    "pycharm": {
     "name": "#%%\n"
    }
   },
   "outputs": [],
   "source": [
    "# float filan var mi\n",
    "for x in data.tweet:\n",
    "    if type(x)==float:\n",
    "        print(x)"
   ]
  },
  {
   "cell_type": "code",
   "execution_count": 18,
   "id": "5f57740a",
   "metadata": {
    "pycharm": {
     "name": "#%%\n"
    }
   },
   "outputs": [],
   "source": [
    "# X=veri seti lowercase yapma\n",
    "X=[str(x.lower()) for x in data.tweet]\n",
    "y1=data.Tweets_duygu\n",
    "y2=data.sınıflandırma"
   ]
  },
  {
   "cell_type": "code",
   "execution_count": 19,
   "id": "02907d2e",
   "metadata": {},
   "outputs": [
    {
     "name": "stdout",
     "output_type": "stream",
     "text": [
      "2716\n",
      "2716\n",
      "2716\n"
     ]
    }
   ],
   "source": [
    "print(len(X))\n",
    "print(len(y1))\n",
    "print(len(y2))"
   ]
  },
  {
   "cell_type": "code",
   "execution_count": 21,
   "id": "1ef60287",
   "metadata": {
    "pycharm": {
     "name": "#%%\n"
    }
   },
   "outputs": [
    {
     "data": {
      "text/plain": [
       "['ali koçtan şike kumpası davasında verilen cezalara ilişkin ilk açıklama  ',\n",
       " 'abdulkadir selvi venezuelaya giden chpli milletvekili konuşmalı  ']"
      ]
     },
     "execution_count": 21,
     "metadata": {},
     "output_type": "execute_result"
    }
   ],
   "source": [
    "X[:2]"
   ]
  },
  {
   "cell_type": "code",
   "execution_count": 22,
   "id": "06bdc077",
   "metadata": {},
   "outputs": [
    {
     "data": {
      "text/plain": [
       "0    0\n",
       "1    0\n",
       "Name: Tweets_duygu, dtype: int32"
      ]
     },
     "execution_count": 22,
     "metadata": {},
     "output_type": "execute_result"
    }
   ],
   "source": [
    "y1[:2]"
   ]
  },
  {
   "cell_type": "code",
   "execution_count": 23,
   "id": "1d028092",
   "metadata": {},
   "outputs": [
    {
     "data": {
      "text/plain": [
       "0    5\n",
       "1    4\n",
       "Name: sınıflandırma, dtype: int32"
      ]
     },
     "execution_count": 23,
     "metadata": {},
     "output_type": "execute_result"
    }
   ],
   "source": [
    "y2[:2]"
   ]
  },
  {
   "cell_type": "code",
   "execution_count": 25,
   "id": "7b0c6fc1",
   "metadata": {
    "pycharm": {
     "name": "#%%\n"
    }
   },
   "outputs": [],
   "source": [
    "X_train, X_test, Y1_train, Y1_test, Y2_train, Y2_test = train_test_split( X, y1, y2, test_size=.2, random_state=42)"
   ]
  },
  {
   "cell_type": "code",
   "execution_count": 27,
   "id": "7a87dbae",
   "metadata": {},
   "outputs": [],
   "source": [
    "# training veri seti ve testing veri seti ayarlama\n"
   ]
  },
  {
   "cell_type": "code",
   "execution_count": 26,
   "id": "7d84a8de",
   "metadata": {},
   "outputs": [
    {
     "data": {
      "text/plain": [
       "2172"
      ]
     },
     "execution_count": 26,
     "metadata": {},
     "output_type": "execute_result"
    }
   ],
   "source": [
    "len(X_train)"
   ]
  },
  {
   "cell_type": "code",
   "execution_count": 27,
   "id": "31789798",
   "metadata": {},
   "outputs": [
    {
     "data": {
      "text/plain": [
       "2172"
      ]
     },
     "execution_count": 27,
     "metadata": {},
     "output_type": "execute_result"
    }
   ],
   "source": [
    "len( Y1_train)"
   ]
  },
  {
   "cell_type": "code",
   "execution_count": null,
   "id": "967f8ee0",
   "metadata": {},
   "outputs": [],
   "source": []
  },
  {
   "cell_type": "code",
   "execution_count": null,
   "id": "28e4848c",
   "metadata": {},
   "outputs": [],
   "source": []
  },
  {
   "cell_type": "code",
   "execution_count": 28,
   "id": "ddae1279",
   "metadata": {},
   "outputs": [
    {
     "name": "stdout",
     "output_type": "stream",
     "text": [
      "<class 'list'>\n"
     ]
    }
   ],
   "source": [
    "print(type(X_train))"
   ]
  },
  {
   "cell_type": "code",
   "execution_count": null,
   "id": "489a072e",
   "metadata": {},
   "outputs": [],
   "source": []
  },
  {
   "cell_type": "code",
   "execution_count": null,
   "id": "2ca8f7b7",
   "metadata": {},
   "outputs": [],
   "source": []
  },
  {
   "cell_type": "code",
   "execution_count": 229,
   "id": "3df6fa49",
   "metadata": {},
   "outputs": [],
   "source": [
    "# tokenizer=Tokenizer(oov_token=\n",
    "#\n",
    "# tokenizer.fit_on_texts(X_train)\n",
    "# word_index=tokenizer.word_index"
   ]
  },
  {
   "cell_type": "code",
   "execution_count": 30,
   "id": "be2ba806",
   "metadata": {
    "pycharm": {
     "name": "#%%\n"
    }
   },
   "outputs": [],
   "source": [
    "# tokenizer yapama ve  sequence yapam ve post padding kullanmak\n",
    "oov_tok = \"<OOV>\"\n",
    "tokenizer = Tokenizer(num_words=10000, oov_token=oov_tok)\n",
    "tokenizer.fit_on_texts(X_train)\n",
    "\n",
    "word_index = tokenizer.word_index\n",
    "\n",
    "training_sequences = tokenizer.texts_to_sequences(X_train)\n",
    "training_padded = pad_sequences(training_sequences, maxlen=100, padding='post', truncating='post')\n",
    "\n",
    "testing_sequences = tokenizer.texts_to_sequences(X_test)\n",
    "testing_padded = pad_sequences(testing_sequences, maxlen=100, padding='post', truncating='post')\n"
   ]
  },
  {
   "cell_type": "code",
   "execution_count": 31,
   "id": "d58af2d7",
   "metadata": {
    "pycharm": {
     "name": "#%%\n"
    }
   },
   "outputs": [],
   "source": [
    "# \n",
    "training_padded = np.array(training_padded)\n",
    "\n",
    "testing_padded = np.array(testing_padded)\n"
   ]
  },
  {
   "cell_type": "code",
   "execution_count": 32,
   "id": "8a022eb8",
   "metadata": {},
   "outputs": [],
   "source": [
    "\n",
    "num_classes_Y1 = len(np.unique(Y1_train))\n",
    "num_classes_Y2 = len(np.unique(Y2_train))"
   ]
  },
  {
   "cell_type": "code",
   "execution_count": 33,
   "id": "3a7e0db9",
   "metadata": {},
   "outputs": [],
   "source": [
    "\n",
    "\n",
    "Y1_train=np.array(Y1_train)\n",
    "Y2_train=np.array(Y2_train)\n",
    "Y1_test=np.array(Y1_test)\n",
    "Y2_test=np.array(Y2_test)\n",
    "\n",
    "\n"
   ]
  },
  {
   "cell_type": "code",
   "execution_count": 34,
   "id": "91eef564",
   "metadata": {},
   "outputs": [
    {
     "name": "stdout",
     "output_type": "stream",
     "text": [
      "<class 'numpy.ndarray'>\n",
      "(2172,)\n",
      "(2172,)\n"
     ]
    }
   ],
   "source": [
    "print(type(Y2_train))\n",
    "print(Y2_train.shape)\n",
    "print(Y1_train.shape)"
   ]
  },
  {
   "cell_type": "code",
   "execution_count": 35,
   "id": "d0a667ae",
   "metadata": {},
   "outputs": [],
   "source": [
    "# Y2_train = tf.keras.utils.to_categorical(Y2_train, num_classes=num_classes_Y2)\n",
    "# Y2_test = tf.keras.utils.to_categorical(Y2_test, num_classes=num_classes_Y2)\n",
    "\n",
    "Y1_train = tf.keras.utils.to_categorical(Y1_train, num_classes=num_classes_Y1)\n",
    "Y2_train = tf.keras.utils.to_categorical(Y2_train, num_classes=num_classes_Y2)\n",
    "Y1_test = tf.keras.utils.to_categorical(Y1_test, num_classes=num_classes_Y1)\n",
    "Y2_test = tf.keras.utils.to_categorical(Y2_test, num_classes=num_classes_Y2)\n",
    "\n",
    "# Y1_train = Y1_train.reshape(-1, 1)\n",
    "# Y1_test = Y1_test.reshape(-1, 1)\n",
    "# print(Y2_train[:10])\n",
    "# print(Y1_train[:10])"
   ]
  },
  {
   "cell_type": "code",
   "execution_count": null,
   "id": "58ffe81e",
   "metadata": {},
   "outputs": [],
   "source": [
    "\n"
   ]
  },
  {
   "cell_type": "code",
   "execution_count": 234,
   "id": "7b160eb0",
   "metadata": {},
   "outputs": [],
   "source": [
    "# # model tasarim\n",
    "# sq_model = tf.keras.Sequential([\n",
    "#     tf.keras.layers.Embedding(10000, 16, input_length=100),\n",
    "#     tf.keras.layers.GlobalAveragePooling1D(),\n",
    "#     tf.keras.layers.Dense(24, activation='relu'),\n",
    "#      tf.keras.layers.Dense(64, activation='relu'),\n",
    "#     tf.keras.layers.Dense(7, activation='sigmoid')\n",
    "# ])\n",
    "\n",
    "\n",
    "# sq_model.compile(optimizer='adam',\n",
    "#               loss=tf.keras.losses.categorical_crossentropy,\n",
    "#               metrics=['accuracy'])\n",
    "\n",
    "# Y1_train = Y1_train.reshape(-1, 1)\n",
    "# Y1_test = Y1_test.reshape(-1, 1)\n",
    "\n",
    "# history = sq_model.fit(training_padded, Y2_train, \n",
    "#                     validation_data=(testing_padded, Y2_test),\n",
    "#                     epochs=1)"
   ]
  },
  {
   "cell_type": "code",
   "execution_count": null,
   "id": "d08d8354",
   "metadata": {},
   "outputs": [],
   "source": [
    "\n"
   ]
  },
  {
   "cell_type": "code",
   "execution_count": null,
   "id": "3f3cb895",
   "metadata": {},
   "outputs": [],
   "source": []
  },
  {
   "cell_type": "code",
   "execution_count": 39,
   "id": "e94231b1",
   "metadata": {},
   "outputs": [
    {
     "name": "stdout",
     "output_type": "stream",
     "text": [
      "Epoch 1/60\n",
      "68/68 [==============================] - 3s 15ms/step - loss: 2.1643 - output_y1_loss: 0.5767 - output_y2_loss: 1.5876 - output_y1_accuracy: 0.7482 - output_y2_accuracy: 0.5180 - val_loss: 2.0786 - val_output_y1_loss: 0.5756 - val_output_y2_loss: 1.5030 - val_output_y1_accuracy: 0.7371 - val_output_y2_accuracy: 0.5349\n",
      "Epoch 2/60\n",
      "68/68 [==============================] - 0s 6ms/step - loss: 2.0561 - output_y1_loss: 0.5544 - output_y2_loss: 1.5016 - output_y1_accuracy: 0.7564 - output_y2_accuracy: 0.5235 - val_loss: 2.0597 - val_output_y1_loss: 0.5726 - val_output_y2_loss: 1.4870 - val_output_y1_accuracy: 0.7371 - val_output_y2_accuracy: 0.5349\n",
      "Epoch 3/60\n",
      "68/68 [==============================] - 1s 12ms/step - loss: 1.9259 - output_y1_loss: 0.5423 - output_y2_loss: 1.3836 - output_y1_accuracy: 0.7564 - output_y2_accuracy: 0.5262 - val_loss: 1.7572 - val_output_y1_loss: 0.5485 - val_output_y2_loss: 1.2086 - val_output_y1_accuracy: 0.7371 - val_output_y2_accuracy: 0.5515\n",
      "Epoch 4/60\n",
      "68/68 [==============================] - 0s 6ms/step - loss: 1.5737 - output_y1_loss: 0.5134 - output_y2_loss: 1.0603 - output_y1_accuracy: 0.7564 - output_y2_accuracy: 0.5916 - val_loss: 1.6443 - val_output_y1_loss: 0.5417 - val_output_y2_loss: 1.1026 - val_output_y1_accuracy: 0.7371 - val_output_y2_accuracy: 0.5680\n",
      "Epoch 5/60\n",
      "68/68 [==============================] - 1s 10ms/step - loss: 1.4078 - output_y1_loss: 0.4978 - output_y2_loss: 0.9100 - output_y1_accuracy: 0.7564 - output_y2_accuracy: 0.6331 - val_loss: 1.6203 - val_output_y1_loss: 0.5179 - val_output_y2_loss: 1.1025 - val_output_y1_accuracy: 0.7371 - val_output_y2_accuracy: 0.6213\n",
      "Epoch 6/60\n",
      "68/68 [==============================] - 0s 7ms/step - loss: 1.3287 - output_y1_loss: 0.4703 - output_y2_loss: 0.8584 - output_y1_accuracy: 0.7564 - output_y2_accuracy: 0.6561 - val_loss: 1.7067 - val_output_y1_loss: 0.4949 - val_output_y2_loss: 1.2118 - val_output_y1_accuracy: 0.7371 - val_output_y2_accuracy: 0.6379\n",
      "Epoch 7/60\n",
      "68/68 [==============================] - 0s 6ms/step - loss: 1.1730 - output_y1_loss: 0.4347 - output_y2_loss: 0.7382 - output_y1_accuracy: 0.7601 - output_y2_accuracy: 0.7063 - val_loss: 1.7883 - val_output_y1_loss: 0.4862 - val_output_y2_loss: 1.3020 - val_output_y1_accuracy: 0.7353 - val_output_y2_accuracy: 0.6636\n",
      "Epoch 8/60\n",
      "68/68 [==============================] - 0s 6ms/step - loss: 1.0444 - output_y1_loss: 0.4090 - output_y2_loss: 0.6355 - output_y1_accuracy: 0.7974 - output_y2_accuracy: 0.7293 - val_loss: 1.8148 - val_output_y1_loss: 0.4793 - val_output_y2_loss: 1.3355 - val_output_y1_accuracy: 0.7629 - val_output_y2_accuracy: 0.6599\n",
      "Epoch 9/60\n",
      "68/68 [==============================] - 1s 9ms/step - loss: 0.9398 - output_y1_loss: 0.3735 - output_y2_loss: 0.5663 - output_y1_accuracy: 0.8218 - output_y2_accuracy: 0.7477 - val_loss: 2.0615 - val_output_y1_loss: 0.5614 - val_output_y2_loss: 1.5001 - val_output_y1_accuracy: 0.7298 - val_output_y2_accuracy: 0.6140\n",
      "Epoch 10/60\n",
      "68/68 [==============================] - 1s 8ms/step - loss: 1.0682 - output_y1_loss: 0.3984 - output_y2_loss: 0.6698 - output_y1_accuracy: 0.8071 - output_y2_accuracy: 0.7284 - val_loss: 2.1283 - val_output_y1_loss: 0.5307 - val_output_y2_loss: 1.5976 - val_output_y1_accuracy: 0.7408 - val_output_y2_accuracy: 0.6801\n",
      "Epoch 11/60\n",
      "68/68 [==============================] - 1s 8ms/step - loss: 0.8415 - output_y1_loss: 0.3347 - output_y2_loss: 0.5068 - output_y1_accuracy: 0.8361 - output_y2_accuracy: 0.7896 - val_loss: 2.2845 - val_output_y1_loss: 0.4961 - val_output_y2_loss: 1.7884 - val_output_y1_accuracy: 0.7684 - val_output_y2_accuracy: 0.6507\n",
      "Epoch 12/60\n",
      "68/68 [==============================] - 0s 6ms/step - loss: 0.7452 - output_y1_loss: 0.2941 - output_y2_loss: 0.4511 - output_y1_accuracy: 0.8646 - output_y2_accuracy: 0.8264 - val_loss: 2.3247 - val_output_y1_loss: 0.5011 - val_output_y2_loss: 1.8236 - val_output_y1_accuracy: 0.7647 - val_output_y2_accuracy: 0.7169\n",
      "Epoch 13/60\n",
      "68/68 [==============================] - 0s 6ms/step - loss: 0.7056 - output_y1_loss: 0.2698 - output_y2_loss: 0.4358 - output_y1_accuracy: 0.8854 - output_y2_accuracy: 0.8320 - val_loss: 2.5211 - val_output_y1_loss: 0.5131 - val_output_y2_loss: 2.0080 - val_output_y1_accuracy: 0.7868 - val_output_y2_accuracy: 0.7114\n",
      "Epoch 14/60\n",
      "68/68 [==============================] - 0s 6ms/step - loss: 0.6660 - output_y1_loss: 0.2562 - output_y2_loss: 0.4097 - output_y1_accuracy: 0.8936 - output_y2_accuracy: 0.8343 - val_loss: 2.8988 - val_output_y1_loss: 0.5392 - val_output_y2_loss: 2.3596 - val_output_y1_accuracy: 0.7776 - val_output_y2_accuracy: 0.7077\n",
      "Epoch 15/60\n",
      "68/68 [==============================] - 0s 7ms/step - loss: 0.5980 - output_y1_loss: 0.2442 - output_y2_loss: 0.3538 - output_y1_accuracy: 0.9001 - output_y2_accuracy: 0.8541 - val_loss: 2.8544 - val_output_y1_loss: 0.5354 - val_output_y2_loss: 2.3191 - val_output_y1_accuracy: 0.8088 - val_output_y2_accuracy: 0.7298\n",
      "Epoch 16/60\n",
      "68/68 [==============================] - 1s 11ms/step - loss: 0.5340 - output_y1_loss: 0.2230 - output_y2_loss: 0.3110 - output_y1_accuracy: 0.9121 - output_y2_accuracy: 0.8688 - val_loss: 3.0531 - val_output_y1_loss: 0.5442 - val_output_y2_loss: 2.5089 - val_output_y1_accuracy: 0.8107 - val_output_y2_accuracy: 0.7500\n",
      "Epoch 17/60\n",
      "68/68 [==============================] - 0s 6ms/step - loss: 0.4728 - output_y1_loss: 0.1983 - output_y2_loss: 0.2745 - output_y1_accuracy: 0.9250 - output_y2_accuracy: 0.8904 - val_loss: 3.1889 - val_output_y1_loss: 0.5157 - val_output_y2_loss: 2.6732 - val_output_y1_accuracy: 0.8309 - val_output_y2_accuracy: 0.7574\n",
      "Epoch 18/60\n",
      "68/68 [==============================] - 1s 8ms/step - loss: 0.3964 - output_y1_loss: 0.1463 - output_y2_loss: 0.2501 - output_y1_accuracy: 0.9517 - output_y2_accuracy: 0.9098 - val_loss: 3.2605 - val_output_y1_loss: 0.4713 - val_output_y2_loss: 2.7892 - val_output_y1_accuracy: 0.8290 - val_output_y2_accuracy: 0.7445\n",
      "Epoch 19/60\n",
      "68/68 [==============================] - 1s 11ms/step - loss: 0.4823 - output_y1_loss: 0.1278 - output_y2_loss: 0.3544 - output_y1_accuracy: 0.9586 - output_y2_accuracy: 0.8669 - val_loss: 2.8029 - val_output_y1_loss: 0.3661 - val_output_y2_loss: 2.4368 - val_output_y1_accuracy: 0.8364 - val_output_y2_accuracy: 0.7390\n",
      "Epoch 20/60\n",
      "68/68 [==============================] - 1s 11ms/step - loss: 0.3635 - output_y1_loss: 0.0810 - output_y2_loss: 0.2825 - output_y1_accuracy: 0.9761 - output_y2_accuracy: 0.8909 - val_loss: 2.8745 - val_output_y1_loss: 0.3434 - val_output_y2_loss: 2.5310 - val_output_y1_accuracy: 0.8732 - val_output_y2_accuracy: 0.7629\n",
      "Epoch 21/60\n",
      "68/68 [==============================] - 1s 12ms/step - loss: 0.2119 - output_y1_loss: 0.0395 - output_y2_loss: 0.1724 - output_y1_accuracy: 0.9917 - output_y2_accuracy: 0.9503 - val_loss: 3.1727 - val_output_y1_loss: 0.3622 - val_output_y2_loss: 2.8105 - val_output_y1_accuracy: 0.8915 - val_output_y2_accuracy: 0.7518\n",
      "Epoch 22/60\n",
      "68/68 [==============================] - 0s 6ms/step - loss: 0.1656 - output_y1_loss: 0.0288 - output_y2_loss: 0.1368 - output_y1_accuracy: 0.9940 - output_y2_accuracy: 0.9650 - val_loss: 3.7063 - val_output_y1_loss: 0.3834 - val_output_y2_loss: 3.3229 - val_output_y1_accuracy: 0.8915 - val_output_y2_accuracy: 0.7776\n",
      "Epoch 23/60\n",
      "68/68 [==============================] - 0s 6ms/step - loss: 0.1457 - output_y1_loss: 0.0233 - output_y2_loss: 0.1224 - output_y1_accuracy: 0.9940 - output_y2_accuracy: 0.9669 - val_loss: 4.0859 - val_output_y1_loss: 0.4426 - val_output_y2_loss: 3.6433 - val_output_y1_accuracy: 0.8934 - val_output_y2_accuracy: 0.7831\n",
      "Epoch 24/60\n",
      "68/68 [==============================] - 0s 6ms/step - loss: 0.1212 - output_y1_loss: 0.0173 - output_y2_loss: 0.1039 - output_y1_accuracy: 0.9968 - output_y2_accuracy: 0.9765 - val_loss: 4.1159 - val_output_y1_loss: 0.4136 - val_output_y2_loss: 3.7023 - val_output_y1_accuracy: 0.8971 - val_output_y2_accuracy: 0.7868\n",
      "Epoch 25/60\n",
      "68/68 [==============================] - 1s 10ms/step - loss: 0.0896 - output_y1_loss: 0.0139 - output_y2_loss: 0.0757 - output_y1_accuracy: 0.9972 - output_y2_accuracy: 0.9903 - val_loss: 4.3479 - val_output_y1_loss: 0.4127 - val_output_y2_loss: 3.9351 - val_output_y1_accuracy: 0.8971 - val_output_y2_accuracy: 0.7868\n"
     ]
    },
    {
     "name": "stdout",
     "output_type": "stream",
     "text": [
      "Epoch 26/60\n",
      "68/68 [==============================] - 1s 12ms/step - loss: 0.1067 - output_y1_loss: 0.0088 - output_y2_loss: 0.0979 - output_y1_accuracy: 0.9968 - output_y2_accuracy: 0.9761 - val_loss: 4.9924 - val_output_y1_loss: 0.4883 - val_output_y2_loss: 4.5041 - val_output_y1_accuracy: 0.8732 - val_output_y2_accuracy: 0.7904\n",
      "Epoch 27/60\n",
      "68/68 [==============================] - 0s 7ms/step - loss: 0.1076 - output_y1_loss: 0.0108 - output_y2_loss: 0.0968 - output_y1_accuracy: 0.9968 - output_y2_accuracy: 0.9724 - val_loss: 5.1947 - val_output_y1_loss: 0.5416 - val_output_y2_loss: 4.6531 - val_output_y1_accuracy: 0.8915 - val_output_y2_accuracy: 0.7886\n",
      "Epoch 28/60\n",
      "68/68 [==============================] - 0s 6ms/step - loss: 0.1056 - output_y1_loss: 0.0113 - output_y2_loss: 0.0943 - output_y1_accuracy: 0.9972 - output_y2_accuracy: 0.9724 - val_loss: 4.7050 - val_output_y1_loss: 0.4828 - val_output_y2_loss: 4.2222 - val_output_y1_accuracy: 0.9007 - val_output_y2_accuracy: 0.7757\n",
      "Epoch 29/60\n",
      "68/68 [==============================] - 0s 6ms/step - loss: 0.0996 - output_y1_loss: 0.0069 - output_y2_loss: 0.0927 - output_y1_accuracy: 0.9991 - output_y2_accuracy: 0.9761 - val_loss: 4.6912 - val_output_y1_loss: 0.5448 - val_output_y2_loss: 4.1463 - val_output_y1_accuracy: 0.9007 - val_output_y2_accuracy: 0.7757\n",
      "Epoch 30/60\n",
      "68/68 [==============================] - 0s 6ms/step - loss: 0.0626 - output_y1_loss: 0.0039 - output_y2_loss: 0.0586 - output_y1_accuracy: 0.9995 - output_y2_accuracy: 0.9866 - val_loss: 5.0908 - val_output_y1_loss: 0.5870 - val_output_y2_loss: 4.5038 - val_output_y1_accuracy: 0.8971 - val_output_y2_accuracy: 0.7960\n",
      "Epoch 31/60\n",
      "68/68 [==============================] - 0s 7ms/step - loss: 0.0559 - output_y1_loss: 0.0054 - output_y2_loss: 0.0504 - output_y1_accuracy: 0.9991 - output_y2_accuracy: 0.9913 - val_loss: 5.0877 - val_output_y1_loss: 0.6519 - val_output_y2_loss: 4.4358 - val_output_y1_accuracy: 0.9026 - val_output_y2_accuracy: 0.7831\n",
      "Epoch 32/60\n",
      "68/68 [==============================] - 1s 10ms/step - loss: 0.0558 - output_y1_loss: 0.0044 - output_y2_loss: 0.0514 - output_y1_accuracy: 0.9991 - output_y2_accuracy: 0.9917 - val_loss: 4.9935 - val_output_y1_loss: 0.5307 - val_output_y2_loss: 4.4628 - val_output_y1_accuracy: 0.9007 - val_output_y2_accuracy: 0.7757\n",
      "Epoch 33/60\n",
      "68/68 [==============================] - 0s 6ms/step - loss: 0.1034 - output_y1_loss: 0.0061 - output_y2_loss: 0.0973 - output_y1_accuracy: 0.9991 - output_y2_accuracy: 0.9645 - val_loss: 5.8883 - val_output_y1_loss: 0.5014 - val_output_y2_loss: 5.3870 - val_output_y1_accuracy: 0.8750 - val_output_y2_accuracy: 0.7665\n",
      "Epoch 34/60\n",
      "68/68 [==============================] - 1s 11ms/step - loss: 0.1944 - output_y1_loss: 0.0168 - output_y2_loss: 0.1777 - output_y1_accuracy: 0.9954 - output_y2_accuracy: 0.9415 - val_loss: 4.9923 - val_output_y1_loss: 0.8745 - val_output_y2_loss: 4.1178 - val_output_y1_accuracy: 0.8860 - val_output_y2_accuracy: 0.7812\n",
      "Epoch 35/60\n",
      "68/68 [==============================] - 0s 6ms/step - loss: 0.0841 - output_y1_loss: 0.0067 - output_y2_loss: 0.0774 - output_y1_accuracy: 0.9977 - output_y2_accuracy: 0.9788 - val_loss: 4.9771 - val_output_y1_loss: 0.6176 - val_output_y2_loss: 4.3595 - val_output_y1_accuracy: 0.8989 - val_output_y2_accuracy: 0.7960\n",
      "Epoch 36/60\n",
      "68/68 [==============================] - 0s 6ms/step - loss: 0.0315 - output_y1_loss: 0.0024 - output_y2_loss: 0.0291 - output_y1_accuracy: 0.9991 - output_y2_accuracy: 0.9959 - val_loss: 4.7193 - val_output_y1_loss: 0.5796 - val_output_y2_loss: 4.1397 - val_output_y1_accuracy: 0.8971 - val_output_y2_accuracy: 0.7868\n",
      "Epoch 37/60\n",
      "68/68 [==============================] - 1s 8ms/step - loss: 0.0203 - output_y1_loss: 0.0017 - output_y2_loss: 0.0186 - output_y1_accuracy: 1.0000 - output_y2_accuracy: 0.9977 - val_loss: 5.2511 - val_output_y1_loss: 0.8231 - val_output_y2_loss: 4.4280 - val_output_y1_accuracy: 0.9007 - val_output_y2_accuracy: 0.7923\n",
      "Epoch 38/60\n",
      "68/68 [==============================] - 0s 6ms/step - loss: 0.0187 - output_y1_loss: 0.0016 - output_y2_loss: 0.0171 - output_y1_accuracy: 1.0000 - output_y2_accuracy: 0.9977 - val_loss: 5.1850 - val_output_y1_loss: 0.6666 - val_output_y2_loss: 4.5184 - val_output_y1_accuracy: 0.9026 - val_output_y2_accuracy: 0.7904\n",
      "Epoch 39/60\n",
      "68/68 [==============================] - 1s 11ms/step - loss: 0.0190 - output_y1_loss: 0.0019 - output_y2_loss: 0.0171 - output_y1_accuracy: 0.9995 - output_y2_accuracy: 0.9968 - val_loss: 5.3728 - val_output_y1_loss: 0.6607 - val_output_y2_loss: 4.7121 - val_output_y1_accuracy: 0.8971 - val_output_y2_accuracy: 0.7941\n",
      "Epoch 40/60\n",
      "68/68 [==============================] - 0s 6ms/step - loss: 0.0192 - output_y1_loss: 0.0012 - output_y2_loss: 0.0179 - output_y1_accuracy: 1.0000 - output_y2_accuracy: 0.9963 - val_loss: 5.6276 - val_output_y1_loss: 0.8331 - val_output_y2_loss: 4.7944 - val_output_y1_accuracy: 0.9007 - val_output_y2_accuracy: 0.7904\n",
      "Epoch 41/60\n",
      "68/68 [==============================] - 0s 6ms/step - loss: 0.0199 - output_y1_loss: 9.5894e-04 - output_y2_loss: 0.0190 - output_y1_accuracy: 1.0000 - output_y2_accuracy: 0.9968 - val_loss: 5.3334 - val_output_y1_loss: 0.6397 - val_output_y2_loss: 4.6937 - val_output_y1_accuracy: 0.8952 - val_output_y2_accuracy: 0.7904\n",
      "Epoch 42/60\n",
      "68/68 [==============================] - 0s 6ms/step - loss: 0.0182 - output_y1_loss: 0.0015 - output_y2_loss: 0.0167 - output_y1_accuracy: 1.0000 - output_y2_accuracy: 0.9968 - val_loss: 5.8061 - val_output_y1_loss: 0.7150 - val_output_y2_loss: 5.0911 - val_output_y1_accuracy: 0.9007 - val_output_y2_accuracy: 0.7960\n",
      "Epoch 43/60\n",
      "68/68 [==============================] - 0s 6ms/step - loss: 0.0183 - output_y1_loss: 5.6183e-04 - output_y2_loss: 0.0177 - output_y1_accuracy: 1.0000 - output_y2_accuracy: 0.9972 - val_loss: 5.7884 - val_output_y1_loss: 0.7801 - val_output_y2_loss: 5.0083 - val_output_y1_accuracy: 0.9026 - val_output_y2_accuracy: 0.7904\n",
      "Epoch 44/60\n",
      "68/68 [==============================] - 0s 6ms/step - loss: 0.0238 - output_y1_loss: 0.0017 - output_y2_loss: 0.0221 - output_y1_accuracy: 1.0000 - output_y2_accuracy: 0.9959 - val_loss: 5.6678 - val_output_y1_loss: 0.7249 - val_output_y2_loss: 4.9429 - val_output_y1_accuracy: 0.9007 - val_output_y2_accuracy: 0.7776\n",
      "Epoch 45/60\n",
      "68/68 [==============================] - 1s 9ms/step - loss: 0.0211 - output_y1_loss: 0.0015 - output_y2_loss: 0.0196 - output_y1_accuracy: 1.0000 - output_y2_accuracy: 0.9963 - val_loss: 5.9334 - val_output_y1_loss: 0.7510 - val_output_y2_loss: 5.1824 - val_output_y1_accuracy: 0.8989 - val_output_y2_accuracy: 0.7923\n",
      "Epoch 46/60\n",
      "68/68 [==============================] - 0s 6ms/step - loss: 0.0318 - output_y1_loss: 0.0063 - output_y2_loss: 0.0255 - output_y1_accuracy: 0.9972 - output_y2_accuracy: 0.9945 - val_loss: 5.9150 - val_output_y1_loss: 0.6329 - val_output_y2_loss: 5.2820 - val_output_y1_accuracy: 0.8971 - val_output_y2_accuracy: 0.7886\n",
      "Epoch 47/60\n",
      "68/68 [==============================] - 0s 6ms/step - loss: 0.0401 - output_y1_loss: 0.0015 - output_y2_loss: 0.0386 - output_y1_accuracy: 1.0000 - output_y2_accuracy: 0.9917 - val_loss: 6.2133 - val_output_y1_loss: 0.8150 - val_output_y2_loss: 5.3983 - val_output_y1_accuracy: 0.9007 - val_output_y2_accuracy: 0.7960\n",
      "Epoch 48/60\n",
      "68/68 [==============================] - 1s 9ms/step - loss: 0.1026 - output_y1_loss: 0.0132 - output_y2_loss: 0.0894 - output_y1_accuracy: 0.9954 - output_y2_accuracy: 0.9793 - val_loss: 6.6242 - val_output_y1_loss: 1.8290 - val_output_y2_loss: 4.7952 - val_output_y1_accuracy: 0.8456 - val_output_y2_accuracy: 0.7243\n",
      "Epoch 49/60\n",
      "68/68 [==============================] - 0s 6ms/step - loss: 0.0895 - output_y1_loss: 0.0150 - output_y2_loss: 0.0746 - output_y1_accuracy: 0.9936 - output_y2_accuracy: 0.9738 - val_loss: 5.6197 - val_output_y1_loss: 0.7387 - val_output_y2_loss: 4.8810 - val_output_y1_accuracy: 0.8971 - val_output_y2_accuracy: 0.7923\n",
      "Epoch 50/60\n",
      "68/68 [==============================] - 0s 6ms/step - loss: 0.0429 - output_y1_loss: 0.0025 - output_y2_loss: 0.0403 - output_y1_accuracy: 0.9995 - output_y2_accuracy: 0.9894 - val_loss: 6.1836 - val_output_y1_loss: 1.0992 - val_output_y2_loss: 5.0844 - val_output_y1_accuracy: 0.8989 - val_output_y2_accuracy: 0.7978\n"
     ]
    },
    {
     "name": "stdout",
     "output_type": "stream",
     "text": [
      "Epoch 51/60\n",
      "68/68 [==============================] - 0s 6ms/step - loss: 0.0421 - output_y1_loss: 0.0113 - output_y2_loss: 0.0308 - output_y1_accuracy: 0.9968 - output_y2_accuracy: 0.9931 - val_loss: 5.8114 - val_output_y1_loss: 0.6186 - val_output_y2_loss: 5.1928 - val_output_y1_accuracy: 0.8805 - val_output_y2_accuracy: 0.7941\n",
      "Epoch 52/60\n",
      "68/68 [==============================] - 1s 11ms/step - loss: 0.0486 - output_y1_loss: 0.0117 - output_y2_loss: 0.0369 - output_y1_accuracy: 0.9945 - output_y2_accuracy: 0.9890 - val_loss: 5.8925 - val_output_y1_loss: 1.0037 - val_output_y2_loss: 4.8888 - val_output_y1_accuracy: 0.9007 - val_output_y2_accuracy: 0.7647\n",
      "Epoch 53/60\n",
      "68/68 [==============================] - 0s 6ms/step - loss: 0.0325 - output_y1_loss: 0.0015 - output_y2_loss: 0.0310 - output_y1_accuracy: 0.9995 - output_y2_accuracy: 0.9908 - val_loss: 5.7081 - val_output_y1_loss: 0.6750 - val_output_y2_loss: 5.0332 - val_output_y1_accuracy: 0.8676 - val_output_y2_accuracy: 0.7923\n",
      "Epoch 54/60\n",
      "68/68 [==============================] - 0s 6ms/step - loss: 0.0546 - output_y1_loss: 0.0202 - output_y2_loss: 0.0344 - output_y1_accuracy: 0.9945 - output_y2_accuracy: 0.9931 - val_loss: 5.9547 - val_output_y1_loss: 0.9890 - val_output_y2_loss: 4.9657 - val_output_y1_accuracy: 0.9007 - val_output_y2_accuracy: 0.7923\n",
      "Epoch 55/60\n",
      "68/68 [==============================] - 0s 6ms/step - loss: 0.0239 - output_y1_loss: 0.0039 - output_y2_loss: 0.0200 - output_y1_accuracy: 0.9982 - output_y2_accuracy: 0.9954 - val_loss: 6.0295 - val_output_y1_loss: 1.0865 - val_output_y2_loss: 4.9430 - val_output_y1_accuracy: 0.8989 - val_output_y2_accuracy: 0.7794\n",
      "Epoch 56/60\n",
      "68/68 [==============================] - 0s 6ms/step - loss: 0.0244 - output_y1_loss: 0.0012 - output_y2_loss: 0.0232 - output_y1_accuracy: 0.9995 - output_y2_accuracy: 0.9954 - val_loss: 6.3037 - val_output_y1_loss: 0.8187 - val_output_y2_loss: 5.4850 - val_output_y1_accuracy: 0.8989 - val_output_y2_accuracy: 0.7996\n",
      "Epoch 57/60\n",
      "68/68 [==============================] - 0s 6ms/step - loss: 0.0295 - output_y1_loss: 7.0288e-04 - output_y2_loss: 0.0288 - output_y1_accuracy: 1.0000 - output_y2_accuracy: 0.9903 - val_loss: 6.1969 - val_output_y1_loss: 0.8171 - val_output_y2_loss: 5.3798 - val_output_y1_accuracy: 0.8952 - val_output_y2_accuracy: 0.7960\n",
      "Epoch 58/60\n",
      "68/68 [==============================] - 0s 6ms/step - loss: 0.0178 - output_y1_loss: 5.2064e-04 - output_y2_loss: 0.0172 - output_y1_accuracy: 1.0000 - output_y2_accuracy: 0.9954 - val_loss: 5.8525 - val_output_y1_loss: 0.8891 - val_output_y2_loss: 4.9634 - val_output_y1_accuracy: 0.9062 - val_output_y2_accuracy: 0.7812\n",
      "Epoch 59/60\n",
      "68/68 [==============================] - 1s 9ms/step - loss: 0.0108 - output_y1_loss: 0.0020 - output_y2_loss: 0.0088 - output_y1_accuracy: 0.9995 - output_y2_accuracy: 0.9986 - val_loss: 6.0296 - val_output_y1_loss: 0.8704 - val_output_y2_loss: 5.1591 - val_output_y1_accuracy: 0.9081 - val_output_y2_accuracy: 0.7904\n",
      "Epoch 60/60\n",
      "68/68 [==============================] - 1s 10ms/step - loss: 0.0320 - output_y1_loss: 0.0036 - output_y2_loss: 0.0283 - output_y1_accuracy: 0.9986 - output_y2_accuracy: 0.9917 - val_loss: 6.6162 - val_output_y1_loss: 1.2186 - val_output_y2_loss: 5.3976 - val_output_y1_accuracy: 0.9007 - val_output_y2_accuracy: 0.7960\n"
     ]
    }
   ],
   "source": [
    "\n",
    "# model mimarisi\n",
    "input_ = tf.keras.Input(shape=(100,))\n",
    "x = tf.keras.layers.Embedding(10000, 32,input_length=100)(input_)\n",
    "x1 = tf.keras.layers.GlobalAveragePooling1D()(x)\n",
    "x2 = tf.keras.layers.Dense(85, activation=\"relu\")(x1)\n",
    "x3 = tf.keras.layers.Dense(120, activation=\"relu\")(x2)\n",
    "x4 = tf.keras.layers.Dense(200, activation=\"relu\")(x3)\n",
    "x5 = tf.keras.layers.Dense(250, activation=\"relu\")(x4)\n",
    "\n",
    "concat_ = tf.keras.layers.concatenate([x1, x2, x5])\n",
    "\n",
    "# katmanlar birlestir\n",
    "output_1 = tf.keras.layers.Dense(num_classes_Y1, activation=\"softmax\", name=\"output_y1\")(concat_)\n",
    "output_2 = tf.keras.layers.Dense(num_classes_Y2, activation=\"sigmoid\", name=\"output_y2\")(x5)\n",
    "\n",
    "# Create a model with the defined inputs and outputs\n",
    "# model = tf.keras.Model(inputs=[x1, x2, x5], outputs=[output_1, output_2])\n",
    "\n",
    "# model\n",
    "model = tf.keras.Model(inputs=input_, outputs=[output_1, output_2])\n",
    "# Model compilation\n",
    "# ...\n",
    "\n",
    "# iki cikisi\n",
    "# output_1 = tf.keras.layers.Dense(num_classes_Y1, activation=\"softmax\", name=\"output_y1\")(concat_)\n",
    "# output_2 = tf.keras.layers.Dense(num_classes_Y2, activation=\"softmax\", name=\"output_y2\")(concat_)\n",
    "\n",
    "\n",
    "\n",
    "# ...\n",
    "# Model compilation\n",
    "model.compile(optimizer='adam',\n",
    "              loss={'output_y1': tf.keras.losses.categorical_crossentropy, 'output_y2': tf.keras.losses.categorical_crossentropy},\n",
    "              metrics={'output_y1': ['accuracy'], 'output_y2': ['accuracy']})\n",
    "\n",
    "\n",
    "# Training the model\n",
    "history = model.fit(training_padded, {'output_y1': Y1_train, 'output_y2': Y2_train},\n",
    "                    validation_data=(testing_padded, {'output_y1': Y1_test, 'output_y2': Y2_test}),\n",
    "                    epochs=60)"
   ]
  },
  {
   "cell_type": "code",
   "execution_count": null,
   "id": "65288b0f",
   "metadata": {},
   "outputs": [],
   "source": []
  },
  {
   "cell_type": "code",
   "execution_count": null,
   "id": "ce49e392",
   "metadata": {},
   "outputs": [],
   "source": []
  },
  {
   "cell_type": "code",
   "execution_count": 50,
   "id": "326082c7",
   "metadata": {},
   "outputs": [
    {
     "name": "stdout",
     "output_type": "stream",
     "text": [
      "Model: \"model_10\"\n",
      "__________________________________________________________________________________________________\n",
      " Layer (type)                Output Shape                 Param #   Connected to                  \n",
      "==================================================================================================\n",
      " input_16 (InputLayer)       [(None, 100)]                0         []                            \n",
      "                                                                                                  \n",
      " embedding_6 (Embedding)     (None, 100, 32)              320000    ['input_16[0][0]']            \n",
      "                                                                                                  \n",
      " global_average_pooling1d_6  (None, 32)                   0         ['embedding_6[0][0]']         \n",
      "  (GlobalAveragePooling1D)                                                                        \n",
      "                                                                                                  \n",
      " dense_24 (Dense)            (None, 85)                   2805      ['global_average_pooling1d_6[0\n",
      "                                                                    ][0]']                        \n",
      "                                                                                                  \n",
      " dense_25 (Dense)            (None, 120)                  10320     ['dense_24[0][0]']            \n",
      "                                                                                                  \n",
      " dense_26 (Dense)            (None, 200)                  24200     ['dense_25[0][0]']            \n",
      "                                                                                                  \n",
      " dense_27 (Dense)            (None, 250)                  50250     ['dense_26[0][0]']            \n",
      "                                                                                                  \n",
      " concatenate_6 (Concatenate  (None, 367)                  0         ['global_average_pooling1d_6[0\n",
      " )                                                                  ][0]',                        \n",
      "                                                                     'dense_24[0][0]',            \n",
      "                                                                     'dense_27[0][0]']            \n",
      "                                                                                                  \n",
      " output_y1 (Dense)           (None, 2)                    736       ['concatenate_6[0][0]']       \n",
      "                                                                                                  \n",
      " output_y2 (Dense)           (None, 7)                    2576      ['concatenate_6[0][0]']       \n",
      "                                                                                                  \n",
      "==================================================================================================\n",
      "Total params: 410887 (1.57 MB)\n",
      "Trainable params: 410887 (1.57 MB)\n",
      "Non-trainable params: 0 (0.00 Byte)\n",
      "__________________________________________________________________________________________________\n"
     ]
    }
   ],
   "source": [
    "#model ozeti\n",
    "model.summary()"
   ]
  },
  {
   "cell_type": "code",
   "execution_count": 51,
   "id": "06030cfa",
   "metadata": {},
   "outputs": [],
   "source": [
    "# training\n"
   ]
  },
  {
   "cell_type": "code",
   "execution_count": 40,
   "id": "a8a89d3b",
   "metadata": {},
   "outputs": [
    {
     "data": {
      "image/png": "[encoded data removed]",
      "text/plain": [
       "<Figure size 1200x600 with 2 Axes>"
      ]
     },
     "metadata": {},
     "output_type": "display_data"
    }
   ],
   "source": [
    "import matplotlib.pyplot as plt\n",
    "\n",
    "# Extract training and validation accuracy and loss values\n",
    "train_loss_y1 = history.history['output_y1_loss']\n",
    "val_loss_y1 = history.history['val_output_y1_loss']\n",
    "train_acc_y1 = history.history['output_y1_accuracy']\n",
    "val_acc_y1 = history.history['val_output_y1_accuracy']\n",
    "\n",
    "train_loss_y2 = history.history['output_y2_loss']\n",
    "val_loss_y2 = history.history['val_output_y2_loss']\n",
    "train_acc_y2 = history.history['output_y2_accuracy']\n",
    "val_acc_y2 = history.history['val_output_y2_accuracy']\n",
    "\n",
    "# Create subplots for accuracy and loss\n",
    "plt.figure(figsize=(12, 6))\n",
    "\n",
    "# Plot accuracy\n",
    "plt.subplot(1, 2, 1)\n",
    "plt.plot(range(1, len(train_acc_y1) + 1), train_acc_y1, label='Training y1')\n",
    "plt.plot(range(1, len(val_acc_y1) + 1), val_acc_y1, label='Validation y1')\n",
    "plt.plot(range(1, len(train_acc_y2) + 1), train_acc_y2, label='Training y2')\n",
    "plt.plot(range(1, len(val_acc_y2) + 1), val_acc_y2, label='Validation y2')\n",
    "plt.title('Model Accuracy')\n",
    "plt.xlabel('Epoch')\n",
    "plt.ylabel('Accuracy')\n",
    "plt.legend()\n",
    "\n",
    "# Plot loss\n",
    "plt.subplot(1, 2, 2)\n",
    "plt.plot(range(1, len(train_loss_y1) + 1), train_loss_y1, label='Training y1')\n",
    "plt.plot(range(1, len(val_loss_y1) + 1), val_loss_y1, label='Validation y1')\n",
    "plt.plot(range(1, len(train_loss_y2) + 1), train_loss_y2, label='Training y2')\n",
    "plt.plot(range(1, len(val_loss_y2) + 1), val_loss_y2, label='Validation y2')\n",
    "plt.title('Model Loss')\n",
    "plt.xlabel('Epoch')\n",
    "plt.ylabel('Loss')\n",
    "plt.legend()\n",
    "\n",
    "plt.tight_layout()\n",
    "plt.show()\n"
   ]
  },
  {
   "cell_type": "code",
   "execution_count": null,
   "id": "6a4c62fb",
   "metadata": {
    "pycharm": {
     "name": "#%%\n"
    }
   },
   "outputs": [],
   "source": []
  },
  {
   "cell_type": "code",
   "execution_count": null,
   "id": "287aadef",
   "metadata": {
    "pycharm": {
     "name": "#%%\n"
    }
   },
   "outputs": [],
   "source": []
  },
  {
   "cell_type": "code",
   "execution_count": null,
   "id": "c5fe5ab0",
   "metadata": {
    "pycharm": {
     "name": "#%%\n"
    }
   },
   "outputs": [],
   "source": []
  },
  {
   "cell_type": "code",
   "execution_count": 41,
   "id": "1aa339a7",
   "metadata": {
    "pycharm": {
     "name": "#%%\n"
    }
   },
   "outputs": [
    {
     "name": "stdout",
     "output_type": "stream",
     "text": [
      "17/17 [==============================] - 0s 5ms/step - loss: 6.6162 - output_y1_loss: 1.2186 - output_y2_loss: 5.3976 - output_y1_accuracy: 0.9007 - output_y2_accuracy: 0.7960\n"
     ]
    }
   ],
   "source": [
    "# evaluating\n",
    "histo=model.evaluate(testing_padded,(Y1_test,Y2_test))"
   ]
  },
  {
   "cell_type": "code",
   "execution_count": 51,
   "id": "423395c5",
   "metadata": {
    "pycharm": {
     "name": "#%%\n"
    }
   },
   "outputs": [],
   "source": []
  },
  {
   "cell_type": "code",
   "execution_count": 61,
   "id": "d2abd940",
   "metadata": {
    "pycharm": {
     "name": "#%%\n"
    }
   },
   "outputs": [
    {
     "name": "stdout",
     "output_type": "stream",
     "text": [
      "1/1 [==============================] - 0s 19ms/step\n",
      "[array([[9.993278e-01, 6.722074e-04]], dtype=float32), array([[8.1577939e-01, 3.0601958e-26, 4.0118592e-03, 6.5791655e-01,\n",
      "        6.8455803e-01, 9.9166220e-01, 3.0393185e-15]], dtype=float32)]\n"
     ]
    }
   ],
   "source": [
    "# testing\n",
    "sentence = [\"ali koçtan şike kumpası davasında verilen cezalara ilişkin ilk açıklama \"]\n",
    "sequences = tokenizer.texts_to_sequences(sentence)\n",
    "padded = pad_sequences(sequences, maxlen=100, padding='post', truncating='post')\n",
    "prediction=model.predict(padded)\n",
    "print(prediction)"
   ]
  },
  {
   "cell_type": "code",
   "execution_count": 63,
   "id": "eb9567a7",
   "metadata": {
    "pycharm": {
     "name": "#%%\n"
    }
   },
   "outputs": [
    {
     "name": "stdout",
     "output_type": "stream",
     "text": [
      "0\n"
     ]
    }
   ],
   "source": [
    "print(np.argmax(prediction[0]))"
   ]
  },
  {
   "cell_type": "code",
   "execution_count": 43,
   "id": "90e48aff",
   "metadata": {},
   "outputs": [
    {
     "name": "stderr",
     "output_type": "stream",
     "text": [
      "C:\\Users\\USMAN KHALID\\anaconda3\\lib\\site-packages\\keras\\src\\engine\\training.py:3000: UserWarning: You are saving your model as an HDF5 file via `model.save()`. This file format is considered legacy. We recommend using instead the native Keras format, e.g. `model.save('my_model.keras')`.\n",
      "  saving_api.save_model(\n"
     ]
    }
   ],
   "source": [
    "#model kaydetmek\n",
    "model.save('tweetter3.h5')"
   ]
  },
  {
   "cell_type": "code",
   "execution_count": 42,
   "id": "ae5ad423",
   "metadata": {
    "pycharm": {
     "name": "#%%\n"
    }
   },
   "outputs": [],
   "source": [
    "import pickle\n",
    "\n",
    "# tokenizer kaydetmek\n",
    "with open('tweeter_tokenizer.pickle', 'wb') as handle:\n",
    "    pickle.dump(tokenizer, handle, protocol=pickle.HIGHEST_PROTOCOL)"
   ]
  },
  {
   "cell_type": "code",
   "execution_count": null,
   "id": "1f78d3c7",
   "metadata": {
    "pycharm": {
     "name": "#%%\n"
    }
   },
   "outputs": [],
   "source": []
  },
  {
   "cell_type": "code",
   "execution_count": 37,
   "id": "0bc6cae8",
   "metadata": {},
   "outputs": [],
   "source": []
  },
  {
   "cell_type": "code",
   "execution_count": 52,
   "id": "2d1d90f4",
   "metadata": {},
   "outputs": [
    {
     "name": "stdout",
     "output_type": "stream",
     "text": [
      "17/17 [==============================] - 0s 2ms/step\n"
     ]
    }
   ],
   "source": [
    "pred=model2.predict(testing_padded)"
   ]
  },
  {
   "cell_type": "code",
   "execution_count": 73,
   "id": "66c290e3",
   "metadata": {},
   "outputs": [
    {
     "data": {
      "text/plain": [
       "1"
      ]
     },
     "execution_count": 73,
     "metadata": {},
     "output_type": "execute_result"
    }
   ],
   "source": [
    "np.argmax(pred[0][50])"
   ]
  },
  {
   "cell_type": "code",
   "execution_count": null,
   "id": "2293e307",
   "metadata": {},
   "outputs": [],
   "source": [
    "\n",
    "   "
   ]
  },
  {
   "cell_type": "code",
   "execution_count": null,
   "id": "1fb8b6a4",
   "metadata": {},
   "outputs": [],
   "source": []
  },
  {
   "cell_type": "code",
   "execution_count": null,
   "id": "001e47d4",
   "metadata": {},
   "outputs": [],
   "source": []
  },
  {
   "cell_type": "code",
   "execution_count": null,
   "id": "c3571e17",
   "metadata": {},
   "outputs": [],
   "source": []
  },
  {
   "cell_type": "code",
   "execution_count": null,
   "id": "aeac91b4",
   "metadata": {},
   "outputs": [],
   "source": []
  },
  {
   "cell_type": "code",
   "execution_count": null,
   "id": "5632eb2d",
   "metadata": {},
   "outputs": [],
   "source": []
  },
  {
   "cell_type": "code",
   "execution_count": null,
   "id": "e2fc7336",
   "metadata": {},
   "outputs": [],
   "source": []
  }
 ],
 "metadata": {
  "kernelspec": {
   "display_name": "Python 3 (ipykernel)",
   "language": "python",
   "name": "python3"
  },
  "language_info": {
   "codemirror_mode": {
    "name": "ipython",
    "version": 3
   },
   "file_extension": ".py",
   "mimetype": "text/x-python",
   "name": "python",
   "nbconvert_exporter": "python",
   "pygments_lexer": "ipython3",
   "version": "3.10.9"
  }
 },
 "nbformat": 4,
 "nbformat_minor": 5
}
